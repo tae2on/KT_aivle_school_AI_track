{
  "cells": [
    {
      "cell_type": "markdown",
      "metadata": {
        "id": "mJlY5pHkC2AM"
      },
      "source": [
        "#**유통 판매량 예측 및 재고 최적화**\n",
        "## **단계2 : 모델링을 위한 데이터 전처리**"
      ]
    },
    {
      "cell_type": "markdown",
      "metadata": {
        "id": "-FPypzell2uc"
      },
      "source": [
        "# **0.미션**"
      ]
    },
    {
      "cell_type": "markdown",
      "metadata": {
        "id": "gNqB3mGww4FC"
      },
      "source": [
        "* 단계1 상품별 데이터셋 만들기\n",
        "    * 가설로 도출된 변수를 반영한 데이터셋을 상품별로 생성\n",
        "* 단계2 기초 모델 생성\n",
        "    * base line model : dense layer만 이용해서 기초 모델 생성\n",
        "    * LSTM, CNN 알고리즘을 이용해서 기초 모델 생성"
      ]
    },
    {
      "cell_type": "markdown",
      "metadata": {
        "id": "HwIACQyupklv"
      },
      "source": [
        "* 대상 상품(핵심 상품)\n",
        "\n",
        "| Product_ID|Product_Code|SubCategory|Category|LeadTime|Price|\n",
        "|----|----|----|----|----|----|\n",
        "|3|DB001|Beverage|Drink|2|8|\n",
        "|12|GA001|Milk|Food|3|6|\n",
        "|42|FM001|Agricultural products|Grocery|3|5|\n"
      ]
    },
    {
      "cell_type": "markdown",
      "metadata": {
        "id": "NCptKiLOAn7l"
      },
      "source": [
        "# **1.환경설정**"
      ]
    },
    {
      "cell_type": "markdown",
      "metadata": {
        "id": "soBq62FMFmrC"
      },
      "source": [
        "* 세부 요구사항\n",
        "    * 구글콜랩\n",
        "        * 구글 드라이브 바로 밑에 project 폴더를 만들고,\n",
        "        * 데이터 파일을 복사해 넣습니다.\n",
        "    - 라이브러리 로딩\n",
        "        * 기본적으로 필요한 라이브러리를 import 하도록 코드가 작성되어 있습니다.\n",
        "        * 필요하다고 판단되는 라이브러리를 추가하세요.\n"
      ]
    },
    {
      "cell_type": "markdown",
      "metadata": {
        "id": "6qsy44YpolGu"
      },
      "source": [
        "### **(1) 경로 설정**"
      ]
    },
    {
      "cell_type": "markdown",
      "metadata": {
        "id": "3OpMHqwdpkls"
      },
      "source": [
        "* 구글 드라이브 연결"
      ]
    },
    {
      "cell_type": "code",
      "execution_count": 1,
      "metadata": {
        "id": "CLasRk8Spklt",
        "colab": {
          "base_uri": "https://localhost:8080/"
        },
        "outputId": "4be11424-10f3-45b5-9256-92fabf1fb5af"
      },
      "outputs": [
        {
          "output_type": "stream",
          "name": "stdout",
          "text": [
            "Mounted at /content/drive\n"
          ]
        }
      ],
      "source": [
        "from google.colab import drive\n",
        "drive.mount('/content/drive')"
      ]
    },
    {
      "cell_type": "code",
      "execution_count": 2,
      "metadata": {
        "id": "CAVyyXi9pklt"
      },
      "outputs": [],
      "source": [
        "path = '/content/drive/MyDrive/project6/'"
      ]
    },
    {
      "cell_type": "markdown",
      "metadata": {
        "id": "szLW_muKtxqT"
      },
      "source": [
        "### **(2) 라이브러리 설치 및 불러오기**"
      ]
    },
    {
      "cell_type": "code",
      "execution_count": 3,
      "metadata": {
        "id": "Aj4I06BetxqU"
      },
      "outputs": [],
      "source": [
        "import pandas as pd\n",
        "import numpy as np\n",
        "import matplotlib.pyplot as plt\n",
        "import seaborn as sns\n",
        "\n",
        "import joblib\n",
        "\n",
        "from sklearn.metrics import *\n",
        "from sklearn.model_selection import train_test_split\n",
        "from sklearn.preprocessing import MinMaxScaler\n",
        "import statsmodels.api as sm\n",
        "\n",
        "from keras.models import Sequential\n",
        "from keras.backend import clear_session\n",
        "from keras.layers import Dense, LSTM, Flatten, Conv1D\n",
        "from keras.optimizers import Adam\n",
        "from keras.callbacks import EarlyStopping, ModelCheckpoint\n",
        "\n",
        "import warnings\n",
        "warnings.filterwarnings(\"ignore\")"
      ]
    },
    {
      "cell_type": "code",
      "execution_count": 4,
      "metadata": {
        "id": "xhXJmhrNzVro"
      },
      "outputs": [],
      "source": [
        "# 학습곡선 함수\n",
        "def dl_history_plot(history):\n",
        "    plt.plot(history['loss'], label='train_err', marker = '.')\n",
        "    plt.plot(history['val_loss'], label='val_err', marker = '.')\n",
        "\n",
        "    plt.ylabel('Loss')\n",
        "    plt.xlabel('Epoch')\n",
        "    plt.legend()\n",
        "    plt.grid()\n",
        "    plt.show()"
      ]
    },
    {
      "cell_type": "code",
      "execution_count": 5,
      "metadata": {
        "id": "4RPleNMm2puy"
      },
      "outputs": [],
      "source": [
        "# 예측 결과 시각화\n",
        "def plot_model_result(y_train, y_val, pred) :\n",
        "\n",
        "    y_train = pd.Series(y_train)\n",
        "    y_val = pd.Series(y_val)\n",
        "    y_val.index = range(len(y_train), len(y_train) + len(y_val))\n",
        "\n",
        "    pred = pd.Series(pred.reshape(-1,), index = y_val.index)\n",
        "\n",
        "    # 전체 시각화\n",
        "    plt.figure(figsize = (20,12))\n",
        "    plt.subplot(2,1,1)\n",
        "    plt.plot(y_train, label = 'train')\n",
        "    plt.plot(y_val, label = 'val')\n",
        "    plt.plot(pred, label = 'pred')\n",
        "    plt.legend()\n",
        "    plt.grid()\n",
        "\n",
        "    plt.subplot(2,1,2)\n",
        "    plt.plot(y_val, label = 'val')\n",
        "    plt.plot(pred, label = 'pred')\n",
        "    plt.legend()\n",
        "    plt.grid()\n",
        "\n",
        "    plt.show()"
      ]
    },
    {
      "cell_type": "markdown",
      "metadata": {
        "id": "dPfPWkG1txqV"
      },
      "source": [
        "### **(3) 데이터 불러오기**"
      ]
    },
    {
      "cell_type": "code",
      "execution_count": 6,
      "metadata": {
        "id": "ZpMoNMpcQoQ5"
      },
      "outputs": [],
      "source": [
        "oil_price = pd.read_csv(path + 'train/oil_price_train.csv')\n",
        "orders = pd.read_csv(path + 'train/orders_train.csv')\n",
        "sales = pd.read_csv(path + 'train/sales_train.csv')\n",
        "products = pd.read_csv(path + 'train/products.csv')\n",
        "stores = pd.read_csv(path + 'train/stores.csv')\n",
        "\n",
        "sales['Date'] = pd.to_datetime(sales['Date'] )\n",
        "oil_price['Date'] = pd.to_datetime(oil_price['Date'] )\n",
        "orders['Date'] = pd.to_datetime(orders['Date'] )"
      ]
    },
    {
      "cell_type": "markdown",
      "metadata": {
        "id": "wcSokv_rvG-R"
      },
      "source": [
        "# **2.데이터셋 구성하기**\n",
        "\n",
        "* 세부 요구사항\n",
        "    * 상품코드 별로 각각 데이터셋을 구성해야 합니다.\n",
        "    * 도출된 변수들을 포함하는 데이터셋을 구성합니다.\n"
      ]
    },
    {
      "cell_type": "code",
      "execution_count": 9,
      "metadata": {
        "id": "NUt14WiBQSLa"
      },
      "outputs": [],
      "source": [
        "def data_compose(id):\n",
        "    df = sales.loc[(sales['Store_ID'] == 44) & (sales['Product_ID'] == id)]\n",
        "    df = df.merge(orders, how='left', on=['Date', 'Store_ID'])\n",
        "    df = df.drop(['Store_ID', 'Product_ID'], axis = 1)\n",
        "\n",
        "    df['CustomerCount'] = df['CustomerCount'].fillna(0)\n",
        "\n",
        "    df['Qty_RM7'] = df['Qty'].rolling(7, min_periods=1).mean()\n",
        "\n",
        "    df['Qty_RM14'] = df['Qty'].rolling(14, min_periods=1).mean()\n",
        "\n",
        "    df['Customer_RM7'] = df['CustomerCount'].rolling(7, min_periods=1).mean()\n",
        "\n",
        "    df['Customer_RM14'] = df['CustomerCount'].rolling(14, min_periods=1).mean()\n",
        "\n",
        "    # 이틀 후(예측일)의 1주일 전 Qty와 CC\n",
        "    df['Qty_before_5d'] = df['Qty'].shift(5)\n",
        "    df['Qty_before_5d'] = df['Qty_before_5d'].fillna(df['Qty'])\n",
        "\n",
        "    df['Customer_before_5d'] = df['CustomerCount'].shift(5)\n",
        "    df['Customer_before_5d'] = df['Customer_before_5d'].fillna(df['CustomerCount'])\n",
        "\n",
        "    df['Qty_before_7d'] = df['Qty'].shift(7)\n",
        "    df['Qty_before_7d'] = df['Qty_before_7d'].fillna(df['Qty'])\n",
        "\n",
        "    df['Customer_before_7d'] = df['CustomerCount'].shift(7)\n",
        "    df['Customer_before_7d'] = df['Customer_before_7d'].fillna(df['CustomerCount'])\n",
        "\n",
        "    df['Weekend'] = df['Date'].dt.dayofweek.apply(lambda x: 1 if x in [5, 6] else 0)\n",
        "    df['Season'] = df['Date'].dt.month.map({1: 'Winter', 2: 'Winter', 3: 'Spring', 4: 'Spring', 5: 'Spring', 6: 'Summer', 7: 'Summer', 8: 'Summer', 9: 'Fall', 10: 'Fall', 11: 'Fall', 12: 'Winter'})\n",
        "\n",
        "    df = pd.get_dummies(df, columns=['Season'], drop_first=True)\n",
        "    df = df.replace({False: 0, True: 1})\n",
        "\n",
        "    df['Holiday'] = df['Date'].apply(lambda x: 1 if x.month == 1 and x.day == 1 else 0)\n",
        "\n",
        "    df['y'] = df['Qty'].shift(-2)\n",
        "    # df['y'] = df['y'].fillna(method='bfill')\n",
        "\n",
        "    df = df.iloc[:-2]\n",
        "\n",
        "    df = df.set_index('Date')\n",
        "\n",
        "    return df"
      ]
    },
    {
      "cell_type": "markdown",
      "metadata": {
        "id": "eTUyaUHSiHpl"
      },
      "source": [
        "## **(1) 상품 : 3 - Beverage**"
      ]
    },
    {
      "cell_type": "code",
      "source": [
        "df_3 = data_compose(3)"
      ],
      "metadata": {
        "id": "-l20lBifB5n7"
      },
      "execution_count": 10,
      "outputs": []
    },
    {
      "cell_type": "code",
      "execution_count": 11,
      "metadata": {
        "id": "d4FBeTaUnGbR",
        "colab": {
          "base_uri": "https://localhost:8080/",
          "height": 588
        },
        "outputId": "fd5630cb-3b94-47cf-cc51-e80ddb04fe35"
      },
      "outputs": [
        {
          "output_type": "execute_result",
          "data": {
            "text/plain": [
              "                Qty  CustomerCount       Qty_RM7     Qty_RM14  Customer_RM7  \\\n",
              "Date                                                                          \n",
              "2014-01-01      0.0            0.0      0.000000     0.000000      0.000000   \n",
              "2014-01-02   9853.0         4422.0   4926.500000  4926.500000   2211.000000   \n",
              "2014-01-03   8647.0         4167.0   6166.666667  6166.666667   2863.000000   \n",
              "2014-01-04  15153.0         5341.0   8413.250000  8413.250000   3482.500000   \n",
              "2014-01-05  15606.0         5123.0   9851.800000  9851.800000   3810.600000   \n",
              "2014-01-06   7900.0         3917.0   9526.500000  9526.500000   3828.333333   \n",
              "2014-01-07   7188.0         3663.0   9192.428571  9192.428571   3804.714286   \n",
              "2014-01-08   8800.0         4254.0  10449.571429  9143.375000   4412.428571   \n",
              "2014-01-09   6606.0         3723.0   9985.714286  8861.444444   4312.571429   \n",
              "2014-01-10   7051.0         4010.0   9757.714286  8680.400000   4290.142857   \n",
              "\n",
              "            Customer_RM14  Qty_before_5d  Customer_before_5d  Qty_before_7d  \\\n",
              "Date                                                                          \n",
              "2014-01-01       0.000000            0.0                 0.0            0.0   \n",
              "2014-01-02    2211.000000         9853.0              4422.0         9853.0   \n",
              "2014-01-03    2863.000000         8647.0              4167.0         8647.0   \n",
              "2014-01-04    3482.500000        15153.0              5341.0        15153.0   \n",
              "2014-01-05    3810.600000        15606.0              5123.0        15606.0   \n",
              "2014-01-06    3828.333333            0.0                 0.0         7900.0   \n",
              "2014-01-07    3804.714286         9853.0              4422.0         7188.0   \n",
              "2014-01-08    3860.875000         8647.0              4167.0            0.0   \n",
              "2014-01-09    3845.555556        15153.0              5341.0         9853.0   \n",
              "2014-01-10    3862.000000        15606.0              5123.0         8647.0   \n",
              "\n",
              "            Customer_before_7d  Weekend  Season_Spring  Season_Summer  \\\n",
              "Date                                                                    \n",
              "2014-01-01                 0.0        0              0              0   \n",
              "2014-01-02              4422.0        0              0              0   \n",
              "2014-01-03              4167.0        0              0              0   \n",
              "2014-01-04              5341.0        1              0              0   \n",
              "2014-01-05              5123.0        1              0              0   \n",
              "2014-01-06              3917.0        0              0              0   \n",
              "2014-01-07              3663.0        0              0              0   \n",
              "2014-01-08                 0.0        0              0              0   \n",
              "2014-01-09              4422.0        0              0              0   \n",
              "2014-01-10              4167.0        0              0              0   \n",
              "\n",
              "            Season_Winter  Holiday        y  \n",
              "Date                                         \n",
              "2014-01-01              1        1   8647.0  \n",
              "2014-01-02              1        0  15153.0  \n",
              "2014-01-03              1        0  15606.0  \n",
              "2014-01-04              1        0   7900.0  \n",
              "2014-01-05              1        0   7188.0  \n",
              "2014-01-06              1        0   8800.0  \n",
              "2014-01-07              1        0   6606.0  \n",
              "2014-01-08              1        0   7051.0  \n",
              "2014-01-09              1        0  12599.0  \n",
              "2014-01-10              1        0  13383.0  "
            ],
            "text/html": [
              "\n",
              "  <div id=\"df-6101b70b-0bdf-4566-9513-3c730007815c\" class=\"colab-df-container\">\n",
              "    <div>\n",
              "<style scoped>\n",
              "    .dataframe tbody tr th:only-of-type {\n",
              "        vertical-align: middle;\n",
              "    }\n",
              "\n",
              "    .dataframe tbody tr th {\n",
              "        vertical-align: top;\n",
              "    }\n",
              "\n",
              "    .dataframe thead th {\n",
              "        text-align: right;\n",
              "    }\n",
              "</style>\n",
              "<table border=\"1\" class=\"dataframe\">\n",
              "  <thead>\n",
              "    <tr style=\"text-align: right;\">\n",
              "      <th></th>\n",
              "      <th>Qty</th>\n",
              "      <th>CustomerCount</th>\n",
              "      <th>Qty_RM7</th>\n",
              "      <th>Qty_RM14</th>\n",
              "      <th>Customer_RM7</th>\n",
              "      <th>Customer_RM14</th>\n",
              "      <th>Qty_before_5d</th>\n",
              "      <th>Customer_before_5d</th>\n",
              "      <th>Qty_before_7d</th>\n",
              "      <th>Customer_before_7d</th>\n",
              "      <th>Weekend</th>\n",
              "      <th>Season_Spring</th>\n",
              "      <th>Season_Summer</th>\n",
              "      <th>Season_Winter</th>\n",
              "      <th>Holiday</th>\n",
              "      <th>y</th>\n",
              "    </tr>\n",
              "    <tr>\n",
              "      <th>Date</th>\n",
              "      <th></th>\n",
              "      <th></th>\n",
              "      <th></th>\n",
              "      <th></th>\n",
              "      <th></th>\n",
              "      <th></th>\n",
              "      <th></th>\n",
              "      <th></th>\n",
              "      <th></th>\n",
              "      <th></th>\n",
              "      <th></th>\n",
              "      <th></th>\n",
              "      <th></th>\n",
              "      <th></th>\n",
              "      <th></th>\n",
              "      <th></th>\n",
              "    </tr>\n",
              "  </thead>\n",
              "  <tbody>\n",
              "    <tr>\n",
              "      <th>2014-01-01</th>\n",
              "      <td>0.0</td>\n",
              "      <td>0.0</td>\n",
              "      <td>0.000000</td>\n",
              "      <td>0.000000</td>\n",
              "      <td>0.000000</td>\n",
              "      <td>0.000000</td>\n",
              "      <td>0.0</td>\n",
              "      <td>0.0</td>\n",
              "      <td>0.0</td>\n",
              "      <td>0.0</td>\n",
              "      <td>0</td>\n",
              "      <td>0</td>\n",
              "      <td>0</td>\n",
              "      <td>1</td>\n",
              "      <td>1</td>\n",
              "      <td>8647.0</td>\n",
              "    </tr>\n",
              "    <tr>\n",
              "      <th>2014-01-02</th>\n",
              "      <td>9853.0</td>\n",
              "      <td>4422.0</td>\n",
              "      <td>4926.500000</td>\n",
              "      <td>4926.500000</td>\n",
              "      <td>2211.000000</td>\n",
              "      <td>2211.000000</td>\n",
              "      <td>9853.0</td>\n",
              "      <td>4422.0</td>\n",
              "      <td>9853.0</td>\n",
              "      <td>4422.0</td>\n",
              "      <td>0</td>\n",
              "      <td>0</td>\n",
              "      <td>0</td>\n",
              "      <td>1</td>\n",
              "      <td>0</td>\n",
              "      <td>15153.0</td>\n",
              "    </tr>\n",
              "    <tr>\n",
              "      <th>2014-01-03</th>\n",
              "      <td>8647.0</td>\n",
              "      <td>4167.0</td>\n",
              "      <td>6166.666667</td>\n",
              "      <td>6166.666667</td>\n",
              "      <td>2863.000000</td>\n",
              "      <td>2863.000000</td>\n",
              "      <td>8647.0</td>\n",
              "      <td>4167.0</td>\n",
              "      <td>8647.0</td>\n",
              "      <td>4167.0</td>\n",
              "      <td>0</td>\n",
              "      <td>0</td>\n",
              "      <td>0</td>\n",
              "      <td>1</td>\n",
              "      <td>0</td>\n",
              "      <td>15606.0</td>\n",
              "    </tr>\n",
              "    <tr>\n",
              "      <th>2014-01-04</th>\n",
              "      <td>15153.0</td>\n",
              "      <td>5341.0</td>\n",
              "      <td>8413.250000</td>\n",
              "      <td>8413.250000</td>\n",
              "      <td>3482.500000</td>\n",
              "      <td>3482.500000</td>\n",
              "      <td>15153.0</td>\n",
              "      <td>5341.0</td>\n",
              "      <td>15153.0</td>\n",
              "      <td>5341.0</td>\n",
              "      <td>1</td>\n",
              "      <td>0</td>\n",
              "      <td>0</td>\n",
              "      <td>1</td>\n",
              "      <td>0</td>\n",
              "      <td>7900.0</td>\n",
              "    </tr>\n",
              "    <tr>\n",
              "      <th>2014-01-05</th>\n",
              "      <td>15606.0</td>\n",
              "      <td>5123.0</td>\n",
              "      <td>9851.800000</td>\n",
              "      <td>9851.800000</td>\n",
              "      <td>3810.600000</td>\n",
              "      <td>3810.600000</td>\n",
              "      <td>15606.0</td>\n",
              "      <td>5123.0</td>\n",
              "      <td>15606.0</td>\n",
              "      <td>5123.0</td>\n",
              "      <td>1</td>\n",
              "      <td>0</td>\n",
              "      <td>0</td>\n",
              "      <td>1</td>\n",
              "      <td>0</td>\n",
              "      <td>7188.0</td>\n",
              "    </tr>\n",
              "    <tr>\n",
              "      <th>2014-01-06</th>\n",
              "      <td>7900.0</td>\n",
              "      <td>3917.0</td>\n",
              "      <td>9526.500000</td>\n",
              "      <td>9526.500000</td>\n",
              "      <td>3828.333333</td>\n",
              "      <td>3828.333333</td>\n",
              "      <td>0.0</td>\n",
              "      <td>0.0</td>\n",
              "      <td>7900.0</td>\n",
              "      <td>3917.0</td>\n",
              "      <td>0</td>\n",
              "      <td>0</td>\n",
              "      <td>0</td>\n",
              "      <td>1</td>\n",
              "      <td>0</td>\n",
              "      <td>8800.0</td>\n",
              "    </tr>\n",
              "    <tr>\n",
              "      <th>2014-01-07</th>\n",
              "      <td>7188.0</td>\n",
              "      <td>3663.0</td>\n",
              "      <td>9192.428571</td>\n",
              "      <td>9192.428571</td>\n",
              "      <td>3804.714286</td>\n",
              "      <td>3804.714286</td>\n",
              "      <td>9853.0</td>\n",
              "      <td>4422.0</td>\n",
              "      <td>7188.0</td>\n",
              "      <td>3663.0</td>\n",
              "      <td>0</td>\n",
              "      <td>0</td>\n",
              "      <td>0</td>\n",
              "      <td>1</td>\n",
              "      <td>0</td>\n",
              "      <td>6606.0</td>\n",
              "    </tr>\n",
              "    <tr>\n",
              "      <th>2014-01-08</th>\n",
              "      <td>8800.0</td>\n",
              "      <td>4254.0</td>\n",
              "      <td>10449.571429</td>\n",
              "      <td>9143.375000</td>\n",
              "      <td>4412.428571</td>\n",
              "      <td>3860.875000</td>\n",
              "      <td>8647.0</td>\n",
              "      <td>4167.0</td>\n",
              "      <td>0.0</td>\n",
              "      <td>0.0</td>\n",
              "      <td>0</td>\n",
              "      <td>0</td>\n",
              "      <td>0</td>\n",
              "      <td>1</td>\n",
              "      <td>0</td>\n",
              "      <td>7051.0</td>\n",
              "    </tr>\n",
              "    <tr>\n",
              "      <th>2014-01-09</th>\n",
              "      <td>6606.0</td>\n",
              "      <td>3723.0</td>\n",
              "      <td>9985.714286</td>\n",
              "      <td>8861.444444</td>\n",
              "      <td>4312.571429</td>\n",
              "      <td>3845.555556</td>\n",
              "      <td>15153.0</td>\n",
              "      <td>5341.0</td>\n",
              "      <td>9853.0</td>\n",
              "      <td>4422.0</td>\n",
              "      <td>0</td>\n",
              "      <td>0</td>\n",
              "      <td>0</td>\n",
              "      <td>1</td>\n",
              "      <td>0</td>\n",
              "      <td>12599.0</td>\n",
              "    </tr>\n",
              "    <tr>\n",
              "      <th>2014-01-10</th>\n",
              "      <td>7051.0</td>\n",
              "      <td>4010.0</td>\n",
              "      <td>9757.714286</td>\n",
              "      <td>8680.400000</td>\n",
              "      <td>4290.142857</td>\n",
              "      <td>3862.000000</td>\n",
              "      <td>15606.0</td>\n",
              "      <td>5123.0</td>\n",
              "      <td>8647.0</td>\n",
              "      <td>4167.0</td>\n",
              "      <td>0</td>\n",
              "      <td>0</td>\n",
              "      <td>0</td>\n",
              "      <td>1</td>\n",
              "      <td>0</td>\n",
              "      <td>13383.0</td>\n",
              "    </tr>\n",
              "  </tbody>\n",
              "</table>\n",
              "</div>\n",
              "    <div class=\"colab-df-buttons\">\n",
              "\n",
              "  <div class=\"colab-df-container\">\n",
              "    <button class=\"colab-df-convert\" onclick=\"convertToInteractive('df-6101b70b-0bdf-4566-9513-3c730007815c')\"\n",
              "            title=\"Convert this dataframe to an interactive table.\"\n",
              "            style=\"display:none;\">\n",
              "\n",
              "  <svg xmlns=\"http://www.w3.org/2000/svg\" height=\"24px\" viewBox=\"0 -960 960 960\">\n",
              "    <path d=\"M120-120v-720h720v720H120Zm60-500h600v-160H180v160Zm220 220h160v-160H400v160Zm0 220h160v-160H400v160ZM180-400h160v-160H180v160Zm440 0h160v-160H620v160ZM180-180h160v-160H180v160Zm440 0h160v-160H620v160Z\"/>\n",
              "  </svg>\n",
              "    </button>\n",
              "\n",
              "  <style>\n",
              "    .colab-df-container {\n",
              "      display:flex;\n",
              "      gap: 12px;\n",
              "    }\n",
              "\n",
              "    .colab-df-convert {\n",
              "      background-color: #E8F0FE;\n",
              "      border: none;\n",
              "      border-radius: 50%;\n",
              "      cursor: pointer;\n",
              "      display: none;\n",
              "      fill: #1967D2;\n",
              "      height: 32px;\n",
              "      padding: 0 0 0 0;\n",
              "      width: 32px;\n",
              "    }\n",
              "\n",
              "    .colab-df-convert:hover {\n",
              "      background-color: #E2EBFA;\n",
              "      box-shadow: 0px 1px 2px rgba(60, 64, 67, 0.3), 0px 1px 3px 1px rgba(60, 64, 67, 0.15);\n",
              "      fill: #174EA6;\n",
              "    }\n",
              "\n",
              "    .colab-df-buttons div {\n",
              "      margin-bottom: 4px;\n",
              "    }\n",
              "\n",
              "    [theme=dark] .colab-df-convert {\n",
              "      background-color: #3B4455;\n",
              "      fill: #D2E3FC;\n",
              "    }\n",
              "\n",
              "    [theme=dark] .colab-df-convert:hover {\n",
              "      background-color: #434B5C;\n",
              "      box-shadow: 0px 1px 3px 1px rgba(0, 0, 0, 0.15);\n",
              "      filter: drop-shadow(0px 1px 2px rgba(0, 0, 0, 0.3));\n",
              "      fill: #FFFFFF;\n",
              "    }\n",
              "  </style>\n",
              "\n",
              "    <script>\n",
              "      const buttonEl =\n",
              "        document.querySelector('#df-6101b70b-0bdf-4566-9513-3c730007815c button.colab-df-convert');\n",
              "      buttonEl.style.display =\n",
              "        google.colab.kernel.accessAllowed ? 'block' : 'none';\n",
              "\n",
              "      async function convertToInteractive(key) {\n",
              "        const element = document.querySelector('#df-6101b70b-0bdf-4566-9513-3c730007815c');\n",
              "        const dataTable =\n",
              "          await google.colab.kernel.invokeFunction('convertToInteractive',\n",
              "                                                    [key], {});\n",
              "        if (!dataTable) return;\n",
              "\n",
              "        const docLinkHtml = 'Like what you see? Visit the ' +\n",
              "          '<a target=\"_blank\" href=https://colab.research.google.com/notebooks/data_table.ipynb>data table notebook</a>'\n",
              "          + ' to learn more about interactive tables.';\n",
              "        element.innerHTML = '';\n",
              "        dataTable['output_type'] = 'display_data';\n",
              "        await google.colab.output.renderOutput(dataTable, element);\n",
              "        const docLink = document.createElement('div');\n",
              "        docLink.innerHTML = docLinkHtml;\n",
              "        element.appendChild(docLink);\n",
              "      }\n",
              "    </script>\n",
              "  </div>\n",
              "\n",
              "\n",
              "<div id=\"df-2c3e4ce3-9dbc-4b2b-9851-f669ac7fc8d5\">\n",
              "  <button class=\"colab-df-quickchart\" onclick=\"quickchart('df-2c3e4ce3-9dbc-4b2b-9851-f669ac7fc8d5')\"\n",
              "            title=\"Suggest charts\"\n",
              "            style=\"display:none;\">\n",
              "\n",
              "<svg xmlns=\"http://www.w3.org/2000/svg\" height=\"24px\"viewBox=\"0 0 24 24\"\n",
              "     width=\"24px\">\n",
              "    <g>\n",
              "        <path d=\"M19 3H5c-1.1 0-2 .9-2 2v14c0 1.1.9 2 2 2h14c1.1 0 2-.9 2-2V5c0-1.1-.9-2-2-2zM9 17H7v-7h2v7zm4 0h-2V7h2v10zm4 0h-2v-4h2v4z\"/>\n",
              "    </g>\n",
              "</svg>\n",
              "  </button>\n",
              "\n",
              "<style>\n",
              "  .colab-df-quickchart {\n",
              "      --bg-color: #E8F0FE;\n",
              "      --fill-color: #1967D2;\n",
              "      --hover-bg-color: #E2EBFA;\n",
              "      --hover-fill-color: #174EA6;\n",
              "      --disabled-fill-color: #AAA;\n",
              "      --disabled-bg-color: #DDD;\n",
              "  }\n",
              "\n",
              "  [theme=dark] .colab-df-quickchart {\n",
              "      --bg-color: #3B4455;\n",
              "      --fill-color: #D2E3FC;\n",
              "      --hover-bg-color: #434B5C;\n",
              "      --hover-fill-color: #FFFFFF;\n",
              "      --disabled-bg-color: #3B4455;\n",
              "      --disabled-fill-color: #666;\n",
              "  }\n",
              "\n",
              "  .colab-df-quickchart {\n",
              "    background-color: var(--bg-color);\n",
              "    border: none;\n",
              "    border-radius: 50%;\n",
              "    cursor: pointer;\n",
              "    display: none;\n",
              "    fill: var(--fill-color);\n",
              "    height: 32px;\n",
              "    padding: 0;\n",
              "    width: 32px;\n",
              "  }\n",
              "\n",
              "  .colab-df-quickchart:hover {\n",
              "    background-color: var(--hover-bg-color);\n",
              "    box-shadow: 0 1px 2px rgba(60, 64, 67, 0.3), 0 1px 3px 1px rgba(60, 64, 67, 0.15);\n",
              "    fill: var(--button-hover-fill-color);\n",
              "  }\n",
              "\n",
              "  .colab-df-quickchart-complete:disabled,\n",
              "  .colab-df-quickchart-complete:disabled:hover {\n",
              "    background-color: var(--disabled-bg-color);\n",
              "    fill: var(--disabled-fill-color);\n",
              "    box-shadow: none;\n",
              "  }\n",
              "\n",
              "  .colab-df-spinner {\n",
              "    border: 2px solid var(--fill-color);\n",
              "    border-color: transparent;\n",
              "    border-bottom-color: var(--fill-color);\n",
              "    animation:\n",
              "      spin 1s steps(1) infinite;\n",
              "  }\n",
              "\n",
              "  @keyframes spin {\n",
              "    0% {\n",
              "      border-color: transparent;\n",
              "      border-bottom-color: var(--fill-color);\n",
              "      border-left-color: var(--fill-color);\n",
              "    }\n",
              "    20% {\n",
              "      border-color: transparent;\n",
              "      border-left-color: var(--fill-color);\n",
              "      border-top-color: var(--fill-color);\n",
              "    }\n",
              "    30% {\n",
              "      border-color: transparent;\n",
              "      border-left-color: var(--fill-color);\n",
              "      border-top-color: var(--fill-color);\n",
              "      border-right-color: var(--fill-color);\n",
              "    }\n",
              "    40% {\n",
              "      border-color: transparent;\n",
              "      border-right-color: var(--fill-color);\n",
              "      border-top-color: var(--fill-color);\n",
              "    }\n",
              "    60% {\n",
              "      border-color: transparent;\n",
              "      border-right-color: var(--fill-color);\n",
              "    }\n",
              "    80% {\n",
              "      border-color: transparent;\n",
              "      border-right-color: var(--fill-color);\n",
              "      border-bottom-color: var(--fill-color);\n",
              "    }\n",
              "    90% {\n",
              "      border-color: transparent;\n",
              "      border-bottom-color: var(--fill-color);\n",
              "    }\n",
              "  }\n",
              "</style>\n",
              "\n",
              "  <script>\n",
              "    async function quickchart(key) {\n",
              "      const quickchartButtonEl =\n",
              "        document.querySelector('#' + key + ' button');\n",
              "      quickchartButtonEl.disabled = true;  // To prevent multiple clicks.\n",
              "      quickchartButtonEl.classList.add('colab-df-spinner');\n",
              "      try {\n",
              "        const charts = await google.colab.kernel.invokeFunction(\n",
              "            'suggestCharts', [key], {});\n",
              "      } catch (error) {\n",
              "        console.error('Error during call to suggestCharts:', error);\n",
              "      }\n",
              "      quickchartButtonEl.classList.remove('colab-df-spinner');\n",
              "      quickchartButtonEl.classList.add('colab-df-quickchart-complete');\n",
              "    }\n",
              "    (() => {\n",
              "      let quickchartButtonEl =\n",
              "        document.querySelector('#df-2c3e4ce3-9dbc-4b2b-9851-f669ac7fc8d5 button');\n",
              "      quickchartButtonEl.style.display =\n",
              "        google.colab.kernel.accessAllowed ? 'block' : 'none';\n",
              "    })();\n",
              "  </script>\n",
              "</div>\n",
              "\n",
              "    </div>\n",
              "  </div>\n"
            ],
            "application/vnd.google.colaboratory.intrinsic+json": {
              "type": "dataframe",
              "variable_name": "df_3",
              "summary": "{\n  \"name\": \"df_3\",\n  \"rows\": 1150,\n  \"fields\": [\n    {\n      \"column\": \"Date\",\n      \"properties\": {\n        \"dtype\": \"date\",\n        \"min\": \"2014-01-01 00:00:00\",\n        \"max\": \"2017-02-26 00:00:00\",\n        \"num_unique_values\": 1150,\n        \"samples\": [\n          \"2014-06-24 00:00:00\",\n          \"2016-01-25 00:00:00\",\n          \"2015-04-14 00:00:00\"\n        ],\n        \"semantic_type\": \"\",\n        \"description\": \"\"\n      }\n    },\n    {\n      \"column\": \"Qty\",\n      \"properties\": {\n        \"dtype\": \"number\",\n        \"std\": 3649.697032754317,\n        \"min\": 0.0,\n        \"max\": 25413.0,\n        \"num_unique_values\": 1078,\n        \"samples\": [\n          4083.0,\n          13690.0,\n          11218.0\n        ],\n        \"semantic_type\": \"\",\n        \"description\": \"\"\n      }\n    },\n    {\n      \"column\": \"CustomerCount\",\n      \"properties\": {\n        \"dtype\": \"number\",\n        \"std\": 793.101750827344,\n        \"min\": 0.0,\n        \"max\": 8359.0,\n        \"num_unique_values\": 883,\n        \"samples\": [\n          4739.0,\n          4887.0,\n          3776.0\n        ],\n        \"semantic_type\": \"\",\n        \"description\": \"\"\n      }\n    },\n    {\n      \"column\": \"Qty_RM7\",\n      \"properties\": {\n        \"dtype\": \"number\",\n        \"std\": 2322.4011171350376,\n        \"min\": 0.0,\n        \"max\": 18749.571428571428,\n        \"num_unique_values\": 1128,\n        \"samples\": [\n          12005.57142857143,\n          8985.0,\n          9804.714285714286\n        ],\n        \"semantic_type\": \"\",\n        \"description\": \"\"\n      }\n    },\n    {\n      \"column\": \"Qty_RM14\",\n      \"properties\": {\n        \"dtype\": \"number\",\n        \"std\": 2219.7304127983357,\n        \"min\": 0.0,\n        \"max\": 14643.714285714286,\n        \"num_unique_values\": 1141,\n        \"samples\": [\n          11332.214285714286,\n          9111.857142857143,\n          10265.142857142857\n        ],\n        \"semantic_type\": \"\",\n        \"description\": \"\"\n      }\n    },\n    {\n      \"column\": \"Customer_RM7\",\n      \"properties\": {\n        \"dtype\": \"number\",\n        \"std\": 471.4141415365596,\n        \"min\": 0.0,\n        \"max\": 7184.428571428572,\n        \"num_unique_values\": 1039,\n        \"samples\": [\n          4260.714285714285,\n          4168.571428571428,\n          4272.142857142857\n        ],\n        \"semantic_type\": \"\",\n        \"description\": \"\"\n      }\n    },\n    {\n      \"column\": \"Customer_RM14\",\n      \"properties\": {\n        \"dtype\": \"number\",\n        \"std\": 413.17868528712154,\n        \"min\": 0.0,\n        \"max\": 6338.571428571428,\n        \"num_unique_values\": 1065,\n        \"samples\": [\n          4068.9285714285716,\n          4160.857142857143,\n          4032.285714285714\n        ],\n        \"semantic_type\": \"\",\n        \"description\": \"\"\n      }\n    },\n    {\n      \"column\": \"Qty_before_5d\",\n      \"properties\": {\n        \"dtype\": \"number\",\n        \"std\": 3667.240867389035,\n        \"min\": 0.0,\n        \"max\": 25413.0,\n        \"num_unique_values\": 1073,\n        \"samples\": [\n          18659.0,\n          7792.0,\n          7829.0\n        ],\n        \"semantic_type\": \"\",\n        \"description\": \"\"\n      }\n    },\n    {\n      \"column\": \"Customer_before_5d\",\n      \"properties\": {\n        \"dtype\": \"number\",\n        \"std\": 803.9393262486285,\n        \"min\": 0.0,\n        \"max\": 8359.0,\n        \"num_unique_values\": 881,\n        \"samples\": [\n          3639.0,\n          5556.0,\n          3858.0\n        ],\n        \"semantic_type\": \"\",\n        \"description\": \"\"\n      }\n    },\n    {\n      \"column\": \"Qty_before_7d\",\n      \"properties\": {\n        \"dtype\": \"number\",\n        \"std\": 3666.441614851701,\n        \"min\": 0.0,\n        \"max\": 25413.0,\n        \"num_unique_values\": 1071,\n        \"samples\": [\n          7356.0,\n          14161.0,\n          12394.0\n        ],\n        \"semantic_type\": \"\",\n        \"description\": \"\"\n      }\n    },\n    {\n      \"column\": \"Customer_before_7d\",\n      \"properties\": {\n        \"dtype\": \"number\",\n        \"std\": 802.7789253855013,\n        \"min\": 0.0,\n        \"max\": 8359.0,\n        \"num_unique_values\": 879,\n        \"samples\": [\n          5693.0,\n          3820.0,\n          3198.0\n        ],\n        \"semantic_type\": \"\",\n        \"description\": \"\"\n      }\n    },\n    {\n      \"column\": \"Weekend\",\n      \"properties\": {\n        \"dtype\": \"number\",\n        \"std\": 0,\n        \"min\": 0,\n        \"max\": 1,\n        \"num_unique_values\": 2,\n        \"samples\": [\n          1,\n          0\n        ],\n        \"semantic_type\": \"\",\n        \"description\": \"\"\n      }\n    },\n    {\n      \"column\": \"Season_Spring\",\n      \"properties\": {\n        \"dtype\": \"number\",\n        \"std\": 0,\n        \"min\": 0,\n        \"max\": 1,\n        \"num_unique_values\": 2,\n        \"samples\": [\n          1,\n          0\n        ],\n        \"semantic_type\": \"\",\n        \"description\": \"\"\n      }\n    },\n    {\n      \"column\": \"Season_Summer\",\n      \"properties\": {\n        \"dtype\": \"number\",\n        \"std\": 0,\n        \"min\": 0,\n        \"max\": 1,\n        \"num_unique_values\": 2,\n        \"samples\": [\n          1,\n          0\n        ],\n        \"semantic_type\": \"\",\n        \"description\": \"\"\n      }\n    },\n    {\n      \"column\": \"Season_Winter\",\n      \"properties\": {\n        \"dtype\": \"number\",\n        \"std\": 0,\n        \"min\": 0,\n        \"max\": 1,\n        \"num_unique_values\": 2,\n        \"samples\": [\n          0,\n          1\n        ],\n        \"semantic_type\": \"\",\n        \"description\": \"\"\n      }\n    },\n    {\n      \"column\": \"Holiday\",\n      \"properties\": {\n        \"dtype\": \"number\",\n        \"std\": 0,\n        \"min\": 0,\n        \"max\": 1,\n        \"num_unique_values\": 2,\n        \"samples\": [\n          0,\n          1\n        ],\n        \"semantic_type\": \"\",\n        \"description\": \"\"\n      }\n    },\n    {\n      \"column\": \"y\",\n      \"properties\": {\n        \"dtype\": \"number\",\n        \"std\": 3644.4688614901147,\n        \"min\": 0.0,\n        \"max\": 25413.0,\n        \"num_unique_values\": 1078,\n        \"samples\": [\n          2902.0,\n          9279.0\n        ],\n        \"semantic_type\": \"\",\n        \"description\": \"\"\n      }\n    }\n  ]\n}"
            }
          },
          "metadata": {},
          "execution_count": 11
        }
      ],
      "source": [
        "df_3.head(10)"
      ]
    },
    {
      "cell_type": "code",
      "execution_count": null,
      "metadata": {
        "id": "VJMbRlGgnGXn"
      },
      "outputs": [],
      "source": [
        "df_3.tail(10)"
      ]
    },
    {
      "cell_type": "code",
      "source": [
        "scaler = MinMaxScaler()\n",
        "df_3_scaled = scaler.fit_transform(df_3)\n",
        "\n",
        "df_3 = pd.DataFrame(df_3_scaled, columns=df_3.columns)"
      ],
      "metadata": {
        "id": "04nCZZ0tIs64"
      },
      "execution_count": null,
      "outputs": []
    },
    {
      "cell_type": "markdown",
      "metadata": {
        "id": "COLb3rbfiQo9"
      },
      "source": [
        "## **(2) 상품 : 12 - Milk**"
      ]
    },
    {
      "cell_type": "code",
      "execution_count": null,
      "metadata": {
        "id": "HyG1cysunHTm"
      },
      "outputs": [],
      "source": [
        "df_12 = data_compose(12)"
      ]
    },
    {
      "cell_type": "code",
      "execution_count": null,
      "metadata": {
        "id": "4Y8wf-_VnHTn"
      },
      "outputs": [],
      "source": [
        "df_12.head(10)"
      ]
    },
    {
      "cell_type": "code",
      "execution_count": null,
      "metadata": {
        "id": "Vlo4c_V9nHTn"
      },
      "outputs": [],
      "source": [
        "df_12.tail(10)"
      ]
    },
    {
      "cell_type": "code",
      "execution_count": null,
      "metadata": {
        "id": "WCes5OcBiQo-"
      },
      "outputs": [],
      "source": [
        "df_12_scaled = scaler.fit_transform(df_12)\n",
        "\n",
        "df_12 = pd.DataFrame(df_12_scaled, columns=df_12.columns)"
      ]
    },
    {
      "cell_type": "markdown",
      "metadata": {
        "id": "8ATf7_BbiQ_D"
      },
      "source": [
        "## **(3) 상품 : 42 - Agricultural products**"
      ]
    },
    {
      "cell_type": "code",
      "execution_count": null,
      "metadata": {
        "id": "esmNZuT1nIS5"
      },
      "outputs": [],
      "source": [
        "df_42 = data_compose(42)"
      ]
    },
    {
      "cell_type": "code",
      "execution_count": null,
      "metadata": {
        "id": "byN8dXHfnIS6"
      },
      "outputs": [],
      "source": [
        "df_42.head(10)"
      ]
    },
    {
      "cell_type": "code",
      "execution_count": null,
      "metadata": {
        "id": "VRQeBod_nIS7"
      },
      "outputs": [],
      "source": [
        "df_42.tail(10)"
      ]
    },
    {
      "cell_type": "code",
      "execution_count": null,
      "metadata": {
        "id": "aVZXSZ9FiQ_E"
      },
      "outputs": [],
      "source": [
        "df_42_scaled = scaler.fit_transform(df_42)\n",
        "\n",
        "df_42 = pd.DataFrame(df_42_scaled, columns=df_42.columns)"
      ]
    },
    {
      "cell_type": "markdown",
      "metadata": {
        "id": "7g8b9fpRkiwq"
      },
      "source": [
        "# **3.Baseline Model**"
      ]
    },
    {
      "cell_type": "markdown",
      "metadata": {
        "id": "ylJXiv-rkiwq"
      },
      "source": [
        "* **세부 요구사항**\n",
        "    * 데이터 준비\n",
        "        * 스케일링\n",
        "            * 교과서 적으로는 데이터 분할 이후 스케일링하는게 맞지만, 데이터 건수가 충분히 크다면, 스케일링을 먼저 하기도 합니다.\n",
        "            * 여기서는 먼저 스케일링을 한 후 데이터 분할을 합니다.\n",
        "        * 데이터 분할\n",
        "            * 검증셋 구성 : 학습용 데이터에서 최근 60일을 검증셋으로 사용.\n",
        "\n",
        "    * 모델링\n",
        "        * Dense Layer 1개(output layer)만으로 모델을 생성합니다.\n",
        "        * 모델의 검증 성능을 평가하고 기록합니다.\n",
        "        * 평가 지표 : RMSE, MAE, MAPE, R2 Score\n"
      ]
    },
    {
      "cell_type": "code",
      "execution_count": null,
      "metadata": {
        "id": "Fe5ow235NCAP"
      },
      "outputs": [],
      "source": [
        "es = EarlyStopping(monitor='val_loss', mode='min', verbose=1, patience=5)\n",
        "mcp = ModelCheckpoint('best_model.keras', monitor='val_loss', save_best_only=True, mode='min', verbose=1)"
      ]
    },
    {
      "cell_type": "markdown",
      "metadata": {
        "id": "UCwmQcehv8Xn"
      },
      "source": [
        "## **(1) 상품 : 3 - Beverage**"
      ]
    },
    {
      "cell_type": "markdown",
      "metadata": {
        "id": "hRWnlONrwMjG"
      },
      "source": [
        "### **1) 데이터 준비**"
      ]
    },
    {
      "cell_type": "code",
      "execution_count": null,
      "metadata": {
        "id": "TUoSkRT2nK_5"
      },
      "outputs": [],
      "source": [
        "X = df_3.drop(['y'], axis = 1)\n",
        "y = df_3['y']\n",
        "\n",
        "X_train, X_valid, y_train, y_valid = X.iloc[:-60], X.iloc[-60:], y.iloc[:-60], y.iloc[-60:]"
      ]
    },
    {
      "cell_type": "markdown",
      "metadata": {
        "id": "ejwwQvHkx6li"
      },
      "source": [
        "### **2) 모델링**"
      ]
    },
    {
      "cell_type": "code",
      "execution_count": null,
      "metadata": {
        "id": "Rg0ZamSnx6lv"
      },
      "outputs": [],
      "source": [
        "clear_session()\n",
        "\n",
        "model = Sequential()\n",
        "model.add(Dense(1, input_shape=(X_train.shape[1],)))\n",
        "model.summary()"
      ]
    },
    {
      "cell_type": "code",
      "execution_count": null,
      "metadata": {
        "id": "9d6xdB_uNB6f"
      },
      "outputs": [],
      "source": [
        "model.compile(loss = 'mse', optimizer = 'adam')\n",
        "history = model.fit(X_train, y_train, epochs = 500, validation_data = (X_valid, y_valid), callbacks=[es, mcp])"
      ]
    },
    {
      "cell_type": "code",
      "source": [
        "dl_history_plot(history.history)"
      ],
      "metadata": {
        "id": "OY1YaJPKG-m0"
      },
      "execution_count": null,
      "outputs": []
    },
    {
      "cell_type": "code",
      "execution_count": null,
      "metadata": {
        "id": "58dM788tNB3g"
      },
      "outputs": [],
      "source": [
        "y_pred = model.predict(X_valid)\n",
        "print('RMSE : ', np.sqrt(mean_squared_error(y_valid, y_pred)))\n",
        "print('MAE : ', mean_absolute_error(y_valid, y_pred))\n",
        "print('MAPE : ', mean_absolute_percentage_error(y_valid, y_pred))\n",
        "print('R2 Score : ', r2_score(y_valid, y_pred))"
      ]
    },
    {
      "cell_type": "code",
      "source": [
        "plot_model_result(y_train, y_valid, y_pred)"
      ],
      "metadata": {
        "id": "uHPAd6TBSovL"
      },
      "execution_count": null,
      "outputs": []
    },
    {
      "cell_type": "markdown",
      "metadata": {
        "id": "Er_ofmYI4Uzt"
      },
      "source": [
        "## **(2) 상품 : 12 - Milk**"
      ]
    },
    {
      "cell_type": "markdown",
      "metadata": {
        "id": "tg7UXdk8nVSU"
      },
      "source": [
        "### **1) 데이터 준비**"
      ]
    },
    {
      "cell_type": "code",
      "execution_count": null,
      "metadata": {
        "id": "ZrWPM3bNnVSm"
      },
      "outputs": [],
      "source": [
        "X = df_12.drop(['y'], axis = 1)\n",
        "y = df_12['y']\n",
        "\n",
        "X_train, X_valid, y_train, y_valid = X.iloc[:-60], X.iloc[-60:], y.iloc[:-60], y.iloc[-60:]"
      ]
    },
    {
      "cell_type": "markdown",
      "metadata": {
        "id": "sPtQHfvRnVSn"
      },
      "source": [
        "### **2) 모델링**"
      ]
    },
    {
      "cell_type": "code",
      "execution_count": null,
      "metadata": {
        "id": "DvFgcCiFnVSo"
      },
      "outputs": [],
      "source": [
        "clear_session()\n",
        "\n",
        "model = Sequential()\n",
        "model.add(Dense(1, input_shape=(X_train.shape[1],)))\n",
        "model.summary()"
      ]
    },
    {
      "cell_type": "code",
      "execution_count": null,
      "metadata": {
        "id": "bZqvXjgNnVSo"
      },
      "outputs": [],
      "source": [
        "model.compile(loss = 'mse', optimizer = 'adam')\n",
        "history = model.fit(X_train, y_train, epochs = 500, validation_data = (X_valid, y_valid), callbacks=[es, mcp])"
      ]
    },
    {
      "cell_type": "code",
      "execution_count": null,
      "metadata": {
        "id": "Fm7cxlXPnVSo"
      },
      "outputs": [],
      "source": [
        "dl_history_plot(history.history)"
      ]
    },
    {
      "cell_type": "code",
      "execution_count": null,
      "metadata": {
        "id": "N6PeEsSMnVSp"
      },
      "outputs": [],
      "source": [
        "y_pred = model.predict(X_valid)\n",
        "print('RMSE : ', np.sqrt(mean_squared_error(y_valid, y_pred)))\n",
        "print('MAE : ', mean_absolute_error(y_valid, y_pred))\n",
        "print('MAPE : ', mean_absolute_percentage_error(y_valid, y_pred))\n",
        "print('R2 Score : ', r2_score(y_valid, y_pred))"
      ]
    },
    {
      "cell_type": "code",
      "source": [
        "plot_model_result(y_train, y_valid, y_pred)"
      ],
      "metadata": {
        "id": "DqlIsxzRvYzX"
      },
      "execution_count": null,
      "outputs": []
    },
    {
      "cell_type": "markdown",
      "metadata": {
        "id": "GKfAn6QO4VEo"
      },
      "source": [
        "## **(3) 상품 : 42 - Agricultural products**"
      ]
    },
    {
      "cell_type": "markdown",
      "metadata": {
        "id": "ad4vOk1bnWuh"
      },
      "source": [
        "### **1) 데이터 준비**"
      ]
    },
    {
      "cell_type": "code",
      "execution_count": null,
      "metadata": {
        "id": "wfEhxNphnWui"
      },
      "outputs": [],
      "source": [
        "X = df_42.drop(['y', 'Holiday'], axis = 1)\n",
        "y = df_42['y']\n",
        "\n",
        "X_train, X_valid, y_train, y_valid = X.iloc[:-60], X.iloc[-60:], y.iloc[:-60], y.iloc[-60:]"
      ]
    },
    {
      "cell_type": "markdown",
      "metadata": {
        "id": "GZJJULvgnWuj"
      },
      "source": [
        "### **2) 모델링**"
      ]
    },
    {
      "cell_type": "code",
      "execution_count": null,
      "metadata": {
        "id": "ln7vLHL8nWuj"
      },
      "outputs": [],
      "source": [
        "clear_session()\n",
        "\n",
        "model = Sequential()\n",
        "model.add(Dense(1, input_shape=(X_train.shape[1],)))\n",
        "model.summary()"
      ]
    },
    {
      "cell_type": "code",
      "execution_count": null,
      "metadata": {
        "id": "MvvawyXenWuj"
      },
      "outputs": [],
      "source": [
        "model.compile(loss = 'mse', optimizer = 'adam')\n",
        "history = model.fit(X_train, y_train, epochs = 500, validation_data = (X_valid, y_valid), callbacks=[es, mcp])"
      ]
    },
    {
      "cell_type": "code",
      "execution_count": null,
      "metadata": {
        "id": "QyybsGlfnWuk"
      },
      "outputs": [],
      "source": [
        "dl_history_plot(history.history)"
      ]
    },
    {
      "cell_type": "code",
      "execution_count": null,
      "metadata": {
        "id": "R5sDb_9VnWuk"
      },
      "outputs": [],
      "source": [
        "y_pred = model.predict(X_valid)\n",
        "print('RMSE : ', np.sqrt(mean_squared_error(y_valid, y_pred)))\n",
        "print('MAE : ', mean_absolute_error(y_valid, y_pred))\n",
        "print('MAPE : ', mean_absolute_percentage_error(y_valid, y_pred))\n",
        "print('R2 Score : ', r2_score(y_valid, y_pred))"
      ]
    },
    {
      "cell_type": "code",
      "source": [
        "plot_model_result(y_train, y_valid, y_pred)"
      ],
      "metadata": {
        "id": "TdAy35zXviaK"
      },
      "execution_count": null,
      "outputs": []
    },
    {
      "cell_type": "markdown",
      "metadata": {
        "id": "ZN_faOzz_YNo"
      },
      "source": [
        "# **4.LSTM, CNN 초기 모델**"
      ]
    },
    {
      "cell_type": "markdown",
      "metadata": {
        "id": "-mbdKf_D_YNp"
      },
      "source": [
        "* **세부 요구사항**\n",
        "    * 3차원 데이터 구조 만들기\n",
        "        * timestep 수는 적절한 간격으로 한가지 경우만 지정을 합니다.\n",
        "    * LSTM, CNN 기반 초기 모델 생성\n",
        "        * 성능 보다는 코드 틀을 작성하는데 집중합시다.\n",
        "        * 노드 혹은 필터 수와 크기는 초기값으로 적절하게 지정해 봅시다."
      ]
    },
    {
      "cell_type": "code",
      "execution_count": null,
      "metadata": {
        "id": "Tkisqfr-_YNp"
      },
      "outputs": [],
      "source": [
        "def temporalize(x, y, timesteps):\n",
        "    output_X = []\n",
        "    output_y = []\n",
        "    for i in range(len(x) - timesteps + 1):\n",
        "        output_X.append(x.iloc[i:i+timesteps])\n",
        "        output_y.append(y.iloc[i+timesteps-1])\n",
        "    return np.array(output_X), np.array(output_y)"
      ]
    },
    {
      "cell_type": "markdown",
      "metadata": {
        "id": "-2unIvUwpH0K"
      },
      "source": [
        "## **(1) LSTM 초기 모델링**"
      ]
    },
    {
      "cell_type": "markdown",
      "metadata": {
        "id": "V3rdaRw7OLvV"
      },
      "source": [
        "### **1) 상품 : 3 - Beverage**"
      ]
    },
    {
      "cell_type": "markdown",
      "metadata": {
        "id": "w9p0I7TuOLvb"
      },
      "source": [
        "* **데이터 준비**"
      ]
    },
    {
      "cell_type": "code",
      "source": [
        "X = df_3.drop(['y'], axis = 1)\n",
        "y = df_3['y']\n",
        "\n",
        "X_train, X_valid, y_train, y_valid = X.iloc[:-60], X.iloc[-60:], y.iloc[:-60], y.iloc[-60:]"
      ],
      "metadata": {
        "id": "KvPUEBhpahZa"
      },
      "execution_count": null,
      "outputs": []
    },
    {
      "cell_type": "code",
      "execution_count": null,
      "metadata": {
        "id": "itTKUDhdOLvb"
      },
      "outputs": [],
      "source": [
        "X_train_3d, y_train_3d = temporalize(X_train, y_train, 7)\n",
        "X_valid_3d, y_valid_3d = temporalize(X_valid, y_valid, 7)"
      ]
    },
    {
      "cell_type": "markdown",
      "metadata": {
        "id": "JDHUIRomOLvb"
      },
      "source": [
        "* **모델링**"
      ]
    },
    {
      "cell_type": "code",
      "execution_count": null,
      "metadata": {
        "id": "34pYj11EOLvc"
      },
      "outputs": [],
      "source": [
        "clear_session()\n",
        "\n",
        "model = Sequential()\n",
        "model.add(LSTM(64, input_shape=(X_train_3d.shape[1], X_train_3d.shape[2]), activation='relu'))\n",
        "model.add(Dense(1))\n",
        "model.summary()"
      ]
    },
    {
      "cell_type": "code",
      "execution_count": null,
      "metadata": {
        "id": "X5AgqmGZOLvc"
      },
      "outputs": [],
      "source": [
        "model.compile(loss = 'mse', optimizer = 'adam')\n",
        "history = model.fit(X_train_3d, y_train_3d, epochs = 50, validation_data = (X_valid_3d, y_valid_3d), callbacks=[es, mcp])"
      ]
    },
    {
      "cell_type": "code",
      "source": [
        "dl_history_plot(history.history)"
      ],
      "metadata": {
        "id": "cH0oyp98HFlC"
      },
      "execution_count": null,
      "outputs": []
    },
    {
      "cell_type": "code",
      "execution_count": null,
      "metadata": {
        "id": "RpQzEp-KOLvc"
      },
      "outputs": [],
      "source": [
        "y_pred = model.predict(X_valid_3d)\n",
        "print('RMSE : ', np.sqrt(mean_squared_error(y_valid_3d, y_pred)))\n",
        "print('MAE : ', mean_absolute_error(y_valid_3d, y_pred))\n",
        "print('MAPE : ', mean_absolute_percentage_error(y_valid_3d, y_pred))\n",
        "print('R2 Score : ', r2_score(y_valid_3d, y_pred))"
      ]
    },
    {
      "cell_type": "code",
      "execution_count": null,
      "metadata": {
        "id": "6OdHihbFOLvc"
      },
      "outputs": [],
      "source": [
        "plot_model_result(y_train_3d, y_valid_3d, y_pred)"
      ]
    },
    {
      "cell_type": "markdown",
      "metadata": {
        "id": "R3R0u4WVOLvc"
      },
      "source": [
        "### **2) 상품 : 12 - Milk**"
      ]
    },
    {
      "cell_type": "markdown",
      "metadata": {
        "id": "0R5mdAh7nhhJ"
      },
      "source": [
        "* **데이터 준비**"
      ]
    },
    {
      "cell_type": "code",
      "execution_count": null,
      "metadata": {
        "id": "2jLkzWCKnhhK"
      },
      "outputs": [],
      "source": [
        "X = df_12.drop(['y'], axis = 1)\n",
        "y = df_12['y']\n",
        "\n",
        "X_train, X_valid, y_train, y_valid = X.iloc[:-60], X.iloc[-60:], y.iloc[:-60], y.iloc[-60:]"
      ]
    },
    {
      "cell_type": "code",
      "execution_count": null,
      "metadata": {
        "id": "HckwMZZXnhhK"
      },
      "outputs": [],
      "source": [
        "X_train_3d, y_train_3d = temporalize(X_train, y_train, 7)\n",
        "X_valid_3d, y_valid_3d = temporalize(X_valid, y_valid, 7)"
      ]
    },
    {
      "cell_type": "markdown",
      "metadata": {
        "id": "fZOlR2nwnhhK"
      },
      "source": [
        "* **모델링**"
      ]
    },
    {
      "cell_type": "code",
      "execution_count": null,
      "metadata": {
        "id": "1pY20IpanhhK"
      },
      "outputs": [],
      "source": [
        "clear_session()\n",
        "\n",
        "model = Sequential()\n",
        "model.add(LSTM(64, input_shape=(X_train_3d.shape[1], X_train_3d.shape[2]), activation='relu'))\n",
        "model.add(Dense(1))\n",
        "model.summary()"
      ]
    },
    {
      "cell_type": "code",
      "execution_count": null,
      "metadata": {
        "id": "XOC6Z4OlnhhK"
      },
      "outputs": [],
      "source": [
        "model.compile(loss = 'mse', optimizer = 'adam')\n",
        "history = model.fit(X_train_3d, y_train_3d, epochs = 50, validation_data = (X_valid_3d, y_valid_3d), callbacks=[es, mcp])"
      ]
    },
    {
      "cell_type": "code",
      "execution_count": null,
      "metadata": {
        "id": "EzOC5wvpnhhL"
      },
      "outputs": [],
      "source": [
        "dl_history_plot(history.history)"
      ]
    },
    {
      "cell_type": "code",
      "execution_count": null,
      "metadata": {
        "id": "gr73cm0ZnhhL"
      },
      "outputs": [],
      "source": [
        "y_pred = model.predict(X_valid_3d)\n",
        "print('RMSE : ', np.sqrt(mean_squared_error(y_valid_3d, y_pred)))\n",
        "print('MAE : ', mean_absolute_error(y_valid_3d, y_pred))\n",
        "print('MAPE : ', mean_absolute_percentage_error(y_valid_3d, y_pred))\n",
        "print('R2 Score : ', r2_score(y_valid_3d, y_pred))"
      ]
    },
    {
      "cell_type": "code",
      "source": [
        "plot_model_result(y_train_3d, y_valid_3d, y_pred)"
      ],
      "metadata": {
        "id": "eYKb63UWvv4-"
      },
      "execution_count": null,
      "outputs": []
    },
    {
      "cell_type": "markdown",
      "metadata": {
        "id": "TEK-0JLVOLvc"
      },
      "source": [
        "### **3) 상품 : 42 - Agricultural products**"
      ]
    },
    {
      "cell_type": "markdown",
      "metadata": {
        "id": "Ik-5oh8Fnjmm"
      },
      "source": [
        "* **데이터 준비**"
      ]
    },
    {
      "cell_type": "code",
      "execution_count": null,
      "metadata": {
        "id": "E4Gj8tD1njmu"
      },
      "outputs": [],
      "source": [
        "X = df_42.drop(['y', 'Holiday'], axis = 1)\n",
        "y = df_42['y']\n",
        "\n",
        "X_train, X_valid, y_train, y_valid = X.iloc[:-60], X.iloc[-60:], y.iloc[:-60], y.iloc[-60:]"
      ]
    },
    {
      "cell_type": "code",
      "execution_count": null,
      "metadata": {
        "id": "LJSYbe-vnjmv"
      },
      "outputs": [],
      "source": [
        "X_train_3d, y_train_3d = temporalize(X_train, y_train, 7)\n",
        "X_valid_3d, y_valid_3d = temporalize(X_valid, y_valid, 7)"
      ]
    },
    {
      "cell_type": "markdown",
      "metadata": {
        "id": "PkJ5miNpnjmv"
      },
      "source": [
        "* **모델링**"
      ]
    },
    {
      "cell_type": "code",
      "execution_count": null,
      "metadata": {
        "id": "ug5FXmqAnjmv"
      },
      "outputs": [],
      "source": [
        "clear_session()\n",
        "\n",
        "model = Sequential()\n",
        "model.add(LSTM(64, input_shape=(X_train_3d.shape[1], X_train_3d.shape[2]), activation='relu'))\n",
        "model.add(Dense(1))\n",
        "model.summary()"
      ]
    },
    {
      "cell_type": "code",
      "execution_count": null,
      "metadata": {
        "id": "_YXlYi2Dnjmv"
      },
      "outputs": [],
      "source": [
        "model.compile(loss = 'mse', optimizer = 'adam')\n",
        "history = model.fit(X_train_3d, y_train_3d, epochs = 50, validation_data = (X_valid_3d, y_valid_3d), callbacks=[es, mcp])"
      ]
    },
    {
      "cell_type": "code",
      "execution_count": null,
      "metadata": {
        "id": "4N9aPlQxnjmv"
      },
      "outputs": [],
      "source": [
        "dl_history_plot(history.history)"
      ]
    },
    {
      "cell_type": "code",
      "execution_count": null,
      "metadata": {
        "id": "tOcsEsXHnjmv"
      },
      "outputs": [],
      "source": [
        "y_pred = model.predict(X_valid_3d)\n",
        "print('RMSE : ', np.sqrt(mean_squared_error(y_valid_3d, y_pred)))\n",
        "print('MAE : ', mean_absolute_error(y_valid_3d, y_pred))\n",
        "print('MAPE : ', mean_absolute_percentage_error(y_valid_3d, y_pred))\n",
        "print('R2 Score : ', r2_score(y_valid_3d, y_pred))"
      ]
    },
    {
      "cell_type": "code",
      "source": [
        "plot_model_result(y_train_3d, y_valid_3d, y_pred)"
      ],
      "metadata": {
        "id": "DbSHRN3ewCyA"
      },
      "execution_count": null,
      "outputs": []
    },
    {
      "cell_type": "markdown",
      "metadata": {
        "id": "_DBsSTVPRY46"
      },
      "source": [
        "## **(2) CNN 초기 모델링**"
      ]
    },
    {
      "cell_type": "markdown",
      "metadata": {
        "id": "vClaqYmORY5B"
      },
      "source": [
        "### **1) 상품 : 3 - Beverage**"
      ]
    },
    {
      "cell_type": "markdown",
      "metadata": {
        "id": "VF4--uBCnmVo"
      },
      "source": [
        "* **데이터 준비**"
      ]
    },
    {
      "cell_type": "code",
      "execution_count": null,
      "metadata": {
        "id": "RIL5POWInmV1"
      },
      "outputs": [],
      "source": [
        "X = df_3.drop(['y'], axis = 1)\n",
        "y = df_3['y']\n",
        "\n",
        "X_train, X_valid, y_train, y_valid = X.iloc[:-60], X.iloc[-60:], y.iloc[:-60], y.iloc[-60:]"
      ]
    },
    {
      "cell_type": "code",
      "source": [
        "X_train_3d, y_train_3d = temporalize(X_train, y_train, 7)\n",
        "X_valid_3d, y_valid_3d = temporalize(X_valid, y_valid, 7)"
      ],
      "metadata": {
        "id": "1ty3QgH7bQ_R"
      },
      "execution_count": null,
      "outputs": []
    },
    {
      "cell_type": "markdown",
      "metadata": {
        "id": "4P-B6I6tnmV2"
      },
      "source": [
        "* **모델링**"
      ]
    },
    {
      "cell_type": "code",
      "execution_count": null,
      "metadata": {
        "id": "71ohWt4SnmV2"
      },
      "outputs": [],
      "source": [
        "clear_session()\n",
        "\n",
        "model = Sequential()\n",
        "model.add(Conv1D(filters=64, kernel_size=2, activation='relu', input_shape=(X_train_3d.shape[1], X_train_3d.shape[2])))\n",
        "model.add(Flatten())\n",
        "model.add(Dense(1))\n",
        "model.summary()"
      ]
    },
    {
      "cell_type": "code",
      "execution_count": null,
      "metadata": {
        "id": "ytXzMEeznmV2"
      },
      "outputs": [],
      "source": [
        "model.compile(loss = 'mse', optimizer = 'adam')\n",
        "history = model.fit(X_train_3d, y_train_3d, epochs = 50, batch_size = 1, validation_data = (X_valid_3d, y_valid_3d), callbacks=[es, mcp])"
      ]
    },
    {
      "cell_type": "code",
      "execution_count": null,
      "metadata": {
        "id": "a2SuI8PWnmV2"
      },
      "outputs": [],
      "source": [
        "dl_history_plot(history.history)"
      ]
    },
    {
      "cell_type": "code",
      "execution_count": null,
      "metadata": {
        "id": "iyNHZD1-nmV3"
      },
      "outputs": [],
      "source": [
        "y_pred = model.predict(X_valid_3d)\n",
        "print('RMSE : ', np.sqrt(mean_squared_error(y_valid_3d, y_pred)))\n",
        "print('MAE : ', mean_absolute_error(y_valid_3d, y_pred))\n",
        "print('MAPE : ', mean_absolute_percentage_error(y_valid_3d, y_pred))\n",
        "print('R2 Score : ', r2_score(y_valid_3d, y_pred))"
      ]
    },
    {
      "cell_type": "code",
      "source": [
        "plot_model_result(y_train_3d, y_valid_3d, y_pred)"
      ],
      "metadata": {
        "id": "gRsdjj8pTXEU"
      },
      "execution_count": null,
      "outputs": []
    },
    {
      "cell_type": "markdown",
      "metadata": {
        "id": "XrA4_pcBRY5C"
      },
      "source": [
        "### **2) 상품 : 12 - Milk**"
      ]
    },
    {
      "cell_type": "markdown",
      "metadata": {
        "id": "R0S0E7kNnn35"
      },
      "source": [
        "* **데이터 준비**"
      ]
    },
    {
      "cell_type": "code",
      "execution_count": null,
      "metadata": {
        "id": "PdkPxUKCnn35"
      },
      "outputs": [],
      "source": [
        "X = df_12.drop(['y'], axis = 1)\n",
        "y = df_12['y']\n",
        "\n",
        "X_train, X_valid, y_train, y_valid = X.iloc[:-60], X.iloc[-60:], y.iloc[:-60], y.iloc[-60:]"
      ]
    },
    {
      "cell_type": "code",
      "execution_count": null,
      "metadata": {
        "id": "f52mL2xonn36"
      },
      "outputs": [],
      "source": [
        "X_train_3d, y_train_3d = temporalize(X_train, y_train, 7)\n",
        "X_valid_3d, y_valid_3d = temporalize(X_valid, y_valid, 7)"
      ]
    },
    {
      "cell_type": "markdown",
      "metadata": {
        "id": "_wh7Jninnn36"
      },
      "source": [
        "* **모델링**"
      ]
    },
    {
      "cell_type": "code",
      "execution_count": null,
      "metadata": {
        "id": "iobPSsSDnn36"
      },
      "outputs": [],
      "source": [
        "clear_session()\n",
        "\n",
        "model = Sequential()\n",
        "model.add(Conv1D(filters=64, kernel_size=2, activation='relu', input_shape=(X_train_3d.shape[1], X_train_3d.shape[2])))\n",
        "model.add(Flatten())\n",
        "model.add(Dense(1))\n",
        "model.summary()"
      ]
    },
    {
      "cell_type": "code",
      "execution_count": null,
      "metadata": {
        "id": "iNcDzxJonn37"
      },
      "outputs": [],
      "source": [
        "model.compile(loss = 'mse', optimizer = 'adam')\n",
        "history = model.fit(X_train_3d, y_train_3d, epochs = 50, batch_size = 1, validation_data = (X_valid_3d, y_valid_3d), callbacks=[es, mcp])"
      ]
    },
    {
      "cell_type": "code",
      "execution_count": null,
      "metadata": {
        "id": "GWP3RHZFnn37"
      },
      "outputs": [],
      "source": [
        "dl_history_plot(history.history)"
      ]
    },
    {
      "cell_type": "code",
      "execution_count": null,
      "metadata": {
        "id": "a17mbQwynn37"
      },
      "outputs": [],
      "source": [
        "y_pred = model.predict(X_valid_3d)\n",
        "print('RMSE : ', np.sqrt(mean_squared_error(y_valid_3d, y_pred)))\n",
        "print('MAE : ', mean_absolute_error(y_valid_3d, y_pred))\n",
        "print('MAPE : ', mean_absolute_percentage_error(y_valid_3d, y_pred))\n",
        "print('R2 Score : ', r2_score(y_valid_3d, y_pred))"
      ]
    },
    {
      "cell_type": "code",
      "source": [
        "plot_model_result(y_train_3d, y_valid_3d, y_pred)"
      ],
      "metadata": {
        "id": "yJMU5WixwTsI"
      },
      "execution_count": null,
      "outputs": []
    },
    {
      "cell_type": "markdown",
      "metadata": {
        "id": "Gcp0L2u5RY5C"
      },
      "source": [
        "### **3) 상품 : 42 - Agricultural products**"
      ]
    },
    {
      "cell_type": "markdown",
      "metadata": {
        "id": "0zOGeRnxnpQp"
      },
      "source": [
        "* **데이터 준비**"
      ]
    },
    {
      "cell_type": "code",
      "execution_count": null,
      "metadata": {
        "id": "o1ilg7HanpQp"
      },
      "outputs": [],
      "source": [
        "X = df_42.drop(['y', 'Holiday'], axis = 1)\n",
        "y = df_42['y']\n",
        "\n",
        "X_train, X_valid, y_train, y_valid = X.iloc[:-60], X.iloc[-60:], y.iloc[:-60], y.iloc[-60:]"
      ]
    },
    {
      "cell_type": "code",
      "execution_count": null,
      "metadata": {
        "id": "wIJ1pX5qnpQq"
      },
      "outputs": [],
      "source": [
        "X_train_3d, y_train_3d = temporalize(X_train, y_train, 7)\n",
        "X_valid_3d, y_valid_3d = temporalize(X_valid, y_valid, 7)"
      ]
    },
    {
      "cell_type": "markdown",
      "metadata": {
        "id": "oHNCWk-BnpQq"
      },
      "source": [
        "* **모델링**"
      ]
    },
    {
      "cell_type": "code",
      "execution_count": null,
      "metadata": {
        "id": "SYF5VXZBnpQq"
      },
      "outputs": [],
      "source": [
        "clear_session()\n",
        "\n",
        "model = Sequential()\n",
        "model.add(Conv1D(filters=64, kernel_size=2, activation='relu', input_shape=(X_train_3d.shape[1], X_train_3d.shape[2])))\n",
        "model.add(Flatten())\n",
        "model.add(Dense(1))\n",
        "model.summary()"
      ]
    },
    {
      "cell_type": "code",
      "execution_count": null,
      "metadata": {
        "id": "6nvtPMU2npQr"
      },
      "outputs": [],
      "source": [
        "model.compile(loss = 'mse', optimizer = 'adam')\n",
        "history = model.fit(X_train_3d, y_train_3d, epochs = 50, batch_size = 1, validation_data = (X_valid_3d, y_valid_3d), callbacks=[es, mcp])"
      ]
    },
    {
      "cell_type": "code",
      "execution_count": null,
      "metadata": {
        "id": "hhUivmEqnpQr"
      },
      "outputs": [],
      "source": [
        "dl_history_plot(history.history)"
      ]
    },
    {
      "cell_type": "code",
      "execution_count": null,
      "metadata": {
        "id": "dcBGR_tAnpQr"
      },
      "outputs": [],
      "source": [
        "y_pred = model.predict(X_valid_3d)\n",
        "print('RMSE : ', np.sqrt(mean_squared_error(y_valid_3d, y_pred)))\n",
        "print('MAE : ', mean_absolute_error(y_valid_3d, y_pred))\n",
        "print('MAPE : ', mean_absolute_percentage_error(y_valid_3d, y_pred))\n",
        "print('R2 Score : ', r2_score(y_valid_3d, y_pred))"
      ]
    },
    {
      "cell_type": "code",
      "source": [
        "plot_model_result(y_train_3d, y_valid_3d, y_pred)"
      ],
      "metadata": {
        "id": "uEPy9NfxwWow"
      },
      "execution_count": null,
      "outputs": []
    },
    {
      "cell_type": "markdown",
      "metadata": {
        "id": "DFVvSdhGQ4N_"
      },
      "source": [
        "# **5.데이터 저장**"
      ]
    },
    {
      "cell_type": "markdown",
      "metadata": {
        "id": "rPKwF9wlyK0D"
      },
      "source": [
        "* **세부 요구사항**\n",
        "    * 상품코드별 데이터셋을 저장하시오.\n",
        "    * joblib.dump를 이용하시오.\n",
        "    * 저장할 파일의 확장자는 보통 .pkl 입니다."
      ]
    },
    {
      "cell_type": "code",
      "execution_count": null,
      "metadata": {
        "id": "rsPMYAnPBo4k"
      },
      "outputs": [],
      "source": [
        "joblib.dump(df_3, path+'train_data_3.pkl')"
      ]
    },
    {
      "cell_type": "code",
      "execution_count": null,
      "metadata": {
        "id": "ahZcToaQ9JYw"
      },
      "outputs": [],
      "source": [
        "joblib.dump(df_12, path+'train_data_12.pkl')"
      ]
    },
    {
      "cell_type": "code",
      "execution_count": null,
      "metadata": {
        "id": "qBtgrnHKntEa"
      },
      "outputs": [],
      "source": [
        "joblib.dump(df_42, path+'train_data_42.pkl')"
      ]
    }
  ],
  "metadata": {
    "colab": {
      "provenance": [],
      "toc_visible": true
    },
    "kernelspec": {
      "display_name": "Python 3",
      "name": "python3"
    },
    "language_info": {
      "name": "python"
    }
  },
  "nbformat": 4,
  "nbformat_minor": 0
}