{
 "cells": [
  {
   "cell_type": "markdown",
   "metadata": {
    "id": "b3TDAdnvnSbh"
   },
   "source": [
    "<center><img src='https://raw.githubusercontent.com/Jangrae/img/master/title.png' width=500/></center>\n"
   ]
  },
  {
   "cell_type": "markdown",
   "metadata": {
    "id": "DFijIAllYnVQ"
   },
   "source": [
    "# 학습 목표\n",
    "\n",
    "- MySQL에 연결하여 데이터를 가져올 수 있습니다."
   ]
  },
  {
   "cell_type": "markdown",
   "metadata": {
    "id": "BTOPP7O_xdGa"
   },
   "source": [
    "### 1.라이브러리 설치\n",
    "\n",
    "- MySQL 연결을 위해 pymysql 라이브러리를 설치합니다."
   ]
  },
  {
   "cell_type": "code",
   "execution_count": null,
   "metadata": {
    "colab": {
     "base_uri": "https://localhost:8080/"
    },
    "executionInfo": {
     "elapsed": 3372,
     "status": "ok",
     "timestamp": 1629085537855,
     "user": {
      "displayName": "Jangrae Lee",
      "photoUrl": "https://lh3.googleusercontent.com/a-/AOh14Gh1Pd8OuWJU2cv7uTt-fURrgvty7atx_Wtarmx0-A=s64",
      "userId": "08475661575434032088"
     },
     "user_tz": -540
    },
    "id": "TgUDVbkbvDk_",
    "outputId": "4f1b6fca-de9a-4d64-c1d2-72ff0f8601d9"
   },
   "outputs": [],
   "source": [
    "!pip install pymysql "
   ]
  },
  {
   "cell_type": "markdown",
   "metadata": {
    "id": "P4S4FhyPEoP1"
   },
   "source": [
    "- 암호화 모듈을 설치한 후 런타임을 재시작합니다.(아나콘다의 경우 설치 불필요)"
   ]
  },
  {
   "cell_type": "code",
   "execution_count": null,
   "metadata": {
    "colab": {
     "base_uri": "https://localhost:8080/"
    },
    "executionInfo": {
     "elapsed": 4769,
     "status": "ok",
     "timestamp": 1629085752788,
     "user": {
      "displayName": "Jangrae Lee",
      "photoUrl": "https://lh3.googleusercontent.com/a-/AOh14Gh1Pd8OuWJU2cv7uTt-fURrgvty7atx_Wtarmx0-A=s64",
      "userId": "08475661575434032088"
     },
     "user_tz": -540
    },
    "id": "33e_oy93Efq1",
    "outputId": "64aee4ad-f630-4f1a-8264-3d26dcdadf67"
   },
   "outputs": [],
   "source": [
    "# !pip install cryptography"
   ]
  },
  {
   "cell_type": "markdown",
   "metadata": {
    "id": "VdVM44cdvDlS"
   },
   "source": [
    "### 2.라이브러리 불러오기\n",
    "\n",
    "- 사용할 라이브러리를 불러옵니다."
   ]
  },
  {
   "cell_type": "code",
   "execution_count": null,
   "metadata": {
    "id": "nAk3N3t7vDlS"
   },
   "outputs": [],
   "source": [
    "# 라이브러리 불러오기\n",
    "import pymysql\n",
    "import pandas as pd\n",
    "from sqlalchemy import create_engine"
   ]
  },
  {
   "cell_type": "markdown",
   "metadata": {
    "id": "9L3buLsalxCU"
   },
   "source": [
    "### 3.MySQL 연결\n",
    "\n",
    "\n",
    "- 연결 관련 정보를 지정하여 MySQL에 연결합니다.\n",
    "- 관련 정보와 권한을 얻기 위해서 서버 관리자의 협조가 필요할 수 있습니다."
   ]
  },
  {
   "cell_type": "code",
   "execution_count": null,
   "metadata": {
    "id": "RXmV9Zf8vDlT"
   },
   "outputs": [],
   "source": [
    "# MySQL 연결\n",
    "user = '사용자'\n",
    "password = '암호'\n",
    "host = '호스트'\n",
    "database = '데이터베이스'\n",
    "\n",
    "connect_string = f'mysql+pymysql://{user}:{password}@{host}/{database}'\n",
    "mysql = create_engine(connect_string)"
   ]
  },
  {
   "cell_type": "markdown",
   "metadata": {
    "id": "_LC8ubjwluTA"
   },
   "source": [
    "### 4.데이터 읽어오기\n",
    "\n",
    "- 데이터를 조회할 쿼리문을 작성합니다.(쿼리문 학습 필요)\n",
    "- read_sql 함수를 사용해서 쿼리를 실행해 그 결과를 가져옵니다.\n",
    "- 가져온 결과는 자동으로 데이터프레임이 됩니다."
   ]
  },
  {
   "cell_type": "markdown",
   "metadata": {},
   "source": [
    "**예제1) 조건에 맞는 데이터 가져오기**"
   ]
  },
  {
   "cell_type": "code",
   "execution_count": null,
   "metadata": {
    "colab": {
     "base_uri": "https://localhost:8080/",
     "height": 203
    },
    "executionInfo": {
     "elapsed": 949,
     "status": "ok",
     "timestamp": 1629086083782,
     "user": {
      "displayName": "Jangrae Lee",
      "photoUrl": "https://lh3.googleusercontent.com/a-/AOh14Gh1Pd8OuWJU2cv7uTt-fURrgvty7atx_Wtarmx0-A=s64",
      "userId": "08475661575434032088"
     },
     "user_tz": -540
    },
    "id": "hdZVEFVR1cLT",
    "outputId": "ae7a0acc-9a06-4300-a73e-7f95afeec17b"
   },
   "outputs": [],
   "source": [
    "# 쿼리문\n",
    "sql = \"\"\"\n",
    "SELECT customer_name, customer_id, IF(gender='M', '남자', '여자') AS gender, \n",
    "       phone, city, register_date, point \n",
    "    FROM customer\n",
    "    WHERE point >=500000\n",
    "    ORDER BY customer_name ASC\n",
    "\"\"\"\n",
    "\n",
    "# 데이터프레임 만들기\n",
    "data = pd.read_sql(sql, con=mysql) \n",
    "\n",
    "# 확인\n",
    "data.head()"
   ]
  },
  {
   "cell_type": "markdown",
   "metadata": {},
   "source": [
    "**예제2) 집계 결과 가져오기**"
   ]
  },
  {
   "cell_type": "code",
   "execution_count": null,
   "metadata": {},
   "outputs": [],
   "source": [
    "# 쿼리문\n",
    "sql = \"\"\"\n",
    "SELECT city AS 지역, \n",
    "       SUM(point) AS 포인트합, \n",
    "       GROUP_CONCAT(customer_name ORDER BY customer_name ASC) AS 고객명 \n",
    "    FROM customer\n",
    "    WHERE YEAR(register_date) = 2021 AND point > 0\n",
    "    GROUP BY city\n",
    "    ORDER BY 포인트합 DESC\n",
    "\"\"\"\n",
    "\n",
    "# 데이터프레임 만들기\n",
    "data = pd.read_sql(sql, con=mysql) \n",
    "\n",
    "# 확인\n",
    "data.head(10)"
   ]
  },
  {
   "cell_type": "markdown",
   "metadata": {
    "id": "zPb7_mq4od5p"
   },
   "source": [
    "<center><img src='https://raw.githubusercontent.com/Jangrae/img/master/end.png' width=300/></center>"
   ]
  },
  {
   "cell_type": "code",
   "execution_count": null,
   "metadata": {},
   "outputs": [],
   "source": []
  }
 ],
 "metadata": {
  "colab": {
   "collapsed_sections": [],
   "name": "05 데이터베이스 연결.ipynb",
   "provenance": []
  },
  "kernelspec": {
   "display_name": "Python 3",
   "language": "python",
   "name": "python3"
  },
  "language_info": {
   "codemirror_mode": {
    "name": "ipython",
    "version": 3
   },
   "file_extension": ".py",
   "mimetype": "text/x-python",
   "name": "python",
   "nbconvert_exporter": "python",
   "pygments_lexer": "ipython3",
   "version": "3.12.7"
  }
 },
 "nbformat": 4,
 "nbformat_minor": 4
}
