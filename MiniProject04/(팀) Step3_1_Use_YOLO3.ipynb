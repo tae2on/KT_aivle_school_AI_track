{
 "cells": [
  {
   "cell_type": "markdown",
   "metadata": {
    "id": "CyurDtxqHT0o"
   },
   "source": [
    "# **Use YOLO : Object Detection !**"
   ]
  },
  {
   "cell_type": "markdown",
   "metadata": {
    "id": "WE6nWiH8-i9q"
   },
   "source": [
    "## 0.미션\n"
   ]
  },
  {
   "cell_type": "markdown",
   "metadata": {
    "id": "53bSTpVT-n_Y"
   },
   "source": [
    "### (1) 미션1\n",
    "여러분은 노트북에서 얼굴 인식 파일을 실행시키기 위해 **문제에 적합한** UltraLytics YOLO 모델을 만들어야 합니다.\n",
    "\n",
    "그 전에 가지고 있는 데이터셋을 **학습에 적합한 형태**로 바꿔야 합니다.\n",
    "\n",
    "- 1) 데이터셋을 불러옵니다.\n",
    "    - 주어진 데이터셋은 2가지입니다. 해당 데이터셋의 압축 파일을 해제해야 합니다.\n",
    "        1. [Face_Recognition_1](https://universe.roboflow.com/new-workspace-kuixc/face-recognition-dataset/dataset/1).zip\n",
    "        2. [Face_Recognition_2](https://universe.roboflow.com/td-vgaen/test-uiodm/dataset/2).zip\n",
    "        - 압축 파일을 로컬에 다운로드 받아서 **어떤 구조**인지 확인하세요.\n",
    "    - **여러분의 얼굴 이미지와 라벨링 작업까지 마친 파일 역시 데이터셋으로 압축하여 Google Colab에서 해제해주세요.**\n",
    "- 2) 데이터셋을 전처리합니다.\n",
    "    - UltraLytics YOLO 모델에서 요구하는 데이터셋 폴더의 구조가 있습니다.\n",
    "    - [UltraLytics YOLO 모델의 데이터셋 구조 링크](https://docs.ultralytics.com/datasets/detect/)\n",
    "- 3) YAML 파일을 생성합니다.\n",
    "    - 전처리까지 완료한 데이터셋의 구조를 YAML 파일에 저장합니다."
   ]
  },
  {
   "cell_type": "markdown",
   "metadata": {
    "id": "DBjsZP8C-2Ra"
   },
   "source": [
    "### (2) 미션2\n",
    "데이터셋의 폴더 구조를 **학습에 적합한 형태**로 만들었다면, **사전 학습된 UltraLytics YOLO 모델**에 Transfer Learning을 수행합니다.\n",
    "\n",
    "- 1) UltraLytics YOLO 모델 선택\n",
    "    - 세부 모델로 n, s, m, l, x가 있습니다. n가 가장 빠르고, x가 가장 연산량이 많습니다.\n",
    "    - [UltraLytics YOLO 모델 링크](https://docs.ultralytics.com/tasks/detect/)\n",
    "- 2) 선택한 UltraLytics YOLO 모델로 학습을 진행합니다.\n",
    "    - [UltraLytics YOLO 학습 명령어 링크](https://docs.ultralytics.com/modes/train/#train-settings)\n",
    "- 3) 학습이 완료되면 추론을 진행합니다.\n",
    "    - [UltraLytics YOLO 추론 명령어 링크](https://docs.ultralytics.com/modes/predict/#inference-arguments)\n",
    "- 4) 해당 UltraLytics YOLO 모델을 **반드시** 저장합니다.\n",
    "    - 모델을 **반드시** 저장하세요.\n",
    "    - .pt 형태로 Colab에 저장이 될 것입니다. 해당 파일을 **로컬에 다운로드** 하세요."
   ]
  },
  {
   "cell_type": "markdown",
   "metadata": {
    "id": "WkDv7UfdYOgg"
   },
   "source": [
    "## 1.환경설정"
   ]
  },
  {
   "cell_type": "markdown",
   "metadata": {
    "id": "mIxbiQ8wYOcy"
   },
   "source": [
    "* 세부 요구사항\n",
    "    - 경로 설정 : 구글콜랩\n",
    "        * 구글 드라이브 바로 밑에 project4 폴더를 만드세요.\n",
    "        * 데이터 파일을 복사해 넣습니다.\n",
    "        * 필요하다고 판단되는 라이브러리를 추가하세요."
   ]
  },
  {
   "cell_type": "markdown",
   "metadata": {
    "id": "XIjpXC-xYHh3"
   },
   "source": [
    "### (1) 경로 설정"
   ]
  },
  {
   "cell_type": "markdown",
   "metadata": {
    "id": "m6qgvZMSYcoX"
   },
   "source": [
    "* 구글 드라이브 연결"
   ]
  },
  {
   "cell_type": "code",
   "execution_count": null,
   "metadata": {
    "id": "imfft4dGGJ2E"
   },
   "outputs": [],
   "source": [
    "from google.colab import drive\n",
    "drive.mount('/content/drive')"
   ]
  },
  {
   "cell_type": "code",
   "execution_count": null,
   "metadata": {
    "id": "WPngJ_nwZPRC"
   },
   "outputs": [],
   "source": [
    "path = '/content/drive/MyDrive/project4'"
   ]
  },
  {
   "cell_type": "markdown",
   "metadata": {
    "id": "SNEKwf_LY0JB"
   },
   "source": [
    "### (2) 라이브러리 설치 및 불러오기"
   ]
  },
  {
   "cell_type": "markdown",
   "metadata": {
    "id": "xPwDW6e_Y0Fa"
   },
   "source": [
    "* 라이브러리 로딩"
   ]
  },
  {
   "cell_type": "code",
   "execution_count": null,
   "metadata": {
    "id": "a4dS7tW-Zwrx"
   },
   "outputs": [],
   "source": [
    "## colab에서 세션 재시작을 요구하는 팝업이 뜨면 재시작 누르세요.\n",
    "!pip install ultralytics"
   ]
  },
  {
   "cell_type": "markdown",
   "metadata": {
    "id": "Eg0gCl9Yatak"
   },
   "source": [
    "## 2.미션1"
   ]
  },
  {
   "cell_type": "markdown",
   "metadata": {
    "id": "hPvTHwTmbKR5"
   },
   "source": [
    "여러분은 노트북에서 얼굴 인식 파일을 실행시키기 위해 **문제에 적합한** UltraLytics YOLO 모델을 만들어야 합니다.\n",
    "\n",
    "그 전에 가지고 있는 데이터셋을 **학습에 적합한 형태**로 바꿔야 합니다.\n",
    "\n",
    "- 1) 데이터셋을 불러옵니다.\n",
    "    - 주어진 데이터셋은 2가지입니다. 해당 데이터셋의 압축 파일을 해제해야 합니다.\n",
    "        1. [Face_Recognition_1](https://universe.roboflow.com/new-workspace-kuixc/face-recognition-dataset/dataset/1).zip\n",
    "        2. [Face_Recognition_2](https://universe.roboflow.com/td-vgaen/test-uiodm/dataset/2).zip\n",
    "        - 압축 파일을 로컬에 다운로드 받아서 **어떤 구조**인지 확인하세요.\n",
    "    - **여러분의 얼굴 이미지와 라벨링 작업까지 마친 파일 역시 데이터셋으로 압축하여 Google Colab에서 해제해주세요.**\n",
    "- 2) 데이터셋을 전처리합니다.\n",
    "    - UltraLytics YOLO 모델에서 요구하는 데이터셋 폴더의 구조가 있습니다.\n",
    "    - [UltraLytics YOLO 모델의 데이터셋 구조 링크](https://docs.ultralytics.com/datasets/detect/)\n",
    "- 3) YAML 파일을 생성합니다.\n",
    "    - 전처리까지 완료한 데이터셋의 구조를 YAML 파일에 저장합니다."
   ]
  },
  {
   "cell_type": "markdown",
   "metadata": {
    "id": "6rXSONrsatd5"
   },
   "source": [
    "### (1) 데이터셋 불러오기"
   ]
  },
  {
   "cell_type": "markdown",
   "metadata": {
    "id": "VXLqxwNaathI"
   },
   "source": [
    "* **세부 요구사항**\n",
    "    - 데이터셋을 불러옵니다.\n",
    "        - 주어진 데이터셋은 2가지입니다. 해당 데이터셋의 압축 파일을 해제해야 합니다.\n",
    "            1. [Face_Recognition_1](https://universe.roboflow.com/new-workspace-kuixc/face-recognition-dataset/dataset/1).zip\n",
    "            2. [Face_Recognition_2](https://universe.roboflow.com/td-vgaen/test-uiodm/dataset/2).zip\n",
    "            - 압축 파일을 로컬에 다운로드 받아서 **어떤 구조**인지 확인하세요.\n",
    "        - **여러분의 얼굴 이미지와 라벨링 작업까지 마친 파일 역시 데이터셋으로 압축하여 Google Colab에서 해제해주세요.**\n",
    "    - 데이터셋 압축 파일을 가급적 **Colab에 폴더를 생성한 후 해제**하세요.\n",
    "    - 예시 코드에서 사용한 라이브러리\n",
    "        - os, zipfile"
   ]
  },
  {
   "cell_type": "markdown",
   "metadata": {
    "id": "6OntGw5H-C3q"
   },
   "source": [
    "#### 1) 데이터셋 불러오기"
   ]
  },
  {
   "cell_type": "code",
   "execution_count": 1,
   "metadata": {
    "id": "TIqkusHkOnSo"
   },
   "outputs": [],
   "source": [
    "\n",
    "from ultralytics import YOLO\n",
    "# Load a model\n",
    "model = YOLO(\"yolo11s.pt\")"
   ]
  },
  {
   "cell_type": "markdown",
   "metadata": {
    "id": "G-TovD9FLCCL"
   },
   "source": [
    "### (2) 데이터셋 전처리"
   ]
  },
  {
   "cell_type": "markdown",
   "metadata": {
    "id": "tJPBtHv8LCCL"
   },
   "source": [
    "* **세부 요구사항**\n",
    "    - Label 파일, 즉 txt 파일의 클래스를 수정하셔야 합니다.\n",
    "        - 여러 클래스로 구분되어 있는 것을 하나로 통일해주세요.\n",
    "        - 이것은 **다른 사람의 얼굴**에 대해 전처리하는 작업입니다.\n",
    "    - UltraLytics YOLO 모델에서 요구하는 데이터셋 폴더의 구조가 있습니다.\n",
    "    - [UltraLytics YOLO 모델의 데이터셋 구조 링크](https://docs.ultralytics.com/datasets/detect/)\n",
    "    - 예시 코드에서 사용한 라이브러리\n",
    "        - os, glob, random, shutil, numpy"
   ]
  },
  {
   "cell_type": "markdown",
   "metadata": {
    "id": "OuvkaiTYAfEB"
   },
   "source": [
    "#### 1) Label 파일의 클래스 값 변경"
   ]
  },
  {
   "cell_type": "code",
   "execution_count": null,
   "metadata": {
    "id": "Dj_jpKOtOpcS"
   },
   "outputs": [
    {
     "name": "stdout",
     "output_type": "stream",
     "text": [
      "모든 파일의 첫 번째 숫자가 0으로 변경되었습니다.\n"
     ]
    }
   ],
   "source": [
    "import os\n",
    "\n",
    "base_dir = r\"C:\\Users\\MinKyu\\Desktop\\practice_data\\Face_Recognition_2\"\n",
    "folders = [\"train\", \"test\", \"valid\"]\n",
    "for folder in folders:\n",
    "    folder_path = os.path.join(base_dir, folder, \"labels\")\n",
    "    if not os.path.isdir(folder_path):\n",
    "        continue\n",
    "    # labels 폴더 내 모든 텍스트 파일에 대해 반복\n",
    "    for filename in os.listdir(folder_path):\n",
    "        if filename.endswith(\".txt\"):\n",
    "            file_path = os.path.join(folder_path, filename)\n",
    "\n",
    "            with open(file_path, \"r\") as file:\n",
    "                lines = file.readlines()\n",
    "\n",
    "            # 각 라인의 첫 번째 숫자를 0으로 바꾸기\n",
    "            new_lines = []\n",
    "            for line in lines:\n",
    "                parts = line.strip().split()\n",
    "                if parts:\n",
    "                    parts[0] = \"0\"  # 첫 번째 숫자를 0으로 설정\n",
    "                    new_lines.append(\" \".join(parts))\n",
    "\n",
    "            # 변경 사항을 파일에 다시 쓰기\n",
    "            with open(file_path, \"w\") as file:\n",
    "                file.write(\"\\n\".join(new_lines) + \"\\n\")\n",
    "print('완료')\n"
   ]
  },
  {
   "cell_type": "code",
   "execution_count": 3,
   "metadata": {},
   "outputs": [
    {
     "name": "stdout",
     "output_type": "stream",
     "text": [
      "완료\n"
     ]
    }
   ],
   "source": [
    "# 라벨링 클래스 바꾸기ㅣ\n",
    "import os\n",
    "\n",
    "base_dir = r'C:\\Users\\MinKyu\\Desktop\\practice_data\\new_data'\n",
    "folders = [\"train\", \"test\", \"valid\"]\n",
    "for folder in folders:\n",
    "    folder_path = os.path.join(base_dir, folder, \"labels\")\n",
    "    if not os.path.isdir(folder_path):\n",
    "        continue\n",
    "    # labels 폴더 내 모든 텍스트 파일에 대해 반복\n",
    "    for filename in os.listdir(folder_path):\n",
    "        if filename.endswith(\".txt\"):\n",
    "            file_path = os.path.join(folder_path, filename)\n",
    "\n",
    "            with open(file_path, \"r\") as file:\n",
    "                lines = file.readlines()\n",
    "\n",
    "            # 각 라인의 첫 번째 숫자를 0으로 바꾸기\n",
    "            new_lines = []\n",
    "            for line in lines:\n",
    "                parts = line.strip().split()\n",
    "                if parts:\n",
    "                    parts[0] = \"0\"  # 첫 번째 숫자를 0으로 설정\n",
    "                    new_lines.append(\" \".join(parts))\n",
    "\n",
    "            # 변경 사항을 파일에 다시 쓰기\n",
    "            with open(file_path, \"w\") as file:\n",
    "                file.write(\"\\n\".join(new_lines) + \"\\n\")\n",
    "\n",
    "print(\"완료\")\n"
   ]
  },
  {
   "cell_type": "markdown",
   "metadata": {
    "id": "-_MF4zCRie5X"
   },
   "source": [
    "#### 2) 모델이 요하는 구조의 폴더 생성"
   ]
  },
  {
   "cell_type": "code",
   "execution_count": null,
   "metadata": {
    "id": "8dyzTbiZ3Qad"
   },
   "outputs": [
    {
     "name": "stdout",
     "output_type": "stream",
     "text": [
      "모든 파일이 성공적으로 복사되었습니다.\n"
     ]
    }
   ],
   "source": [
    "import os\n",
    "import shutil\n",
    "\n",
    "# 원본 폴더 목록\n",
    "source_dirs = [\n",
    "    r\"C:\\Users\\MinKyu\\Desktop\\practice_data\\Face_Recognition_2\",\n",
    "    r\"C:\\Users\\MinKyu\\Desktop\\practice_data\\Face_Recognition_1\"\n",
    "]\n",
    "\n",
    "# 대상 폴더 경로 설정\n",
    "target_base_dir = r\"C:\\Users\\MinKyu\\Desktop\\practice_data/new_data\"\n",
    "target_dirs = [\"train\", \"test\", \"valid\"]\n",
    "\n",
    "# 각 source_dir의 train, test, valid 폴더에서 images와 labels 파일을 대상 폴더로 복사\n",
    "for source_dir in source_dirs:\n",
    "    for folder in target_dirs:\n",
    "        source_folder_path = os.path.join(source_dir, folder)\n",
    "        target_folder_path_images = os.path.join(target_base_dir, folder, \"images\")\n",
    "        target_folder_path_labels = os.path.join(target_base_dir, folder, \"labels\")\n",
    "\n",
    "        # 대상 디렉토리들이 없으면 생성\n",
    "        os.makedirs(target_folder_path_images, exist_ok=True)\n",
    "        os.makedirs(target_folder_path_labels, exist_ok=True)\n",
    "\n",
    "        # images와 labels 폴더 내 파일 복사\n",
    "        for sub_folder in [\"images\", \"labels\"]:\n",
    "            source_sub_folder = os.path.join(source_folder_path, sub_folder)\n",
    "            target_sub_folder = os.path.join(target_base_dir, folder, sub_folder)\n",
    "\n",
    "            if os.path.isdir(source_sub_folder):\n",
    "                for filename in os.listdir(source_sub_folder):\n",
    "                    src_file = os.path.join(source_sub_folder, filename)\n",
    "                    dst_file = os.path.join(target_sub_folder, filename)\n",
    "\n",
    "                    # 파일을 복사 (덮어쓰기 방지)\n",
    "                    if not os.path.exists(dst_file):\n",
    "                        shutil.copy2(src_file, dst_file)\n",
    "\n",
    "print(\"모든 파일이 성공적으로 복사되었습니다.\")\n"
   ]
  },
  {
   "cell_type": "markdown",
   "metadata": {
    "id": "wZPds1GraeJ3"
   },
   "source": [
    "#### 3) 각 폴더에 데이터 옮기기"
   ]
  },
  {
   "cell_type": "code",
   "execution_count": null,
   "metadata": {
    "id": "QL3N_62m3QoM"
   },
   "outputs": [],
   "source": []
  },
  {
   "cell_type": "markdown",
   "metadata": {
    "id": "BsOt56PB8uMZ"
   },
   "source": [
    "### (3) YAML 파일 생성"
   ]
  },
  {
   "cell_type": "markdown",
   "metadata": {
    "id": "aESOaV9G8uSm"
   },
   "source": [
    "* **세부 요구사항**\n",
    "    - 데이터셋의 구조를 YAML 파일에 작성하여 저장합니다.\n",
    "    - 예시 코드에서 사용한 라이브러리\n",
    "        - yaml(pyyaml)"
   ]
  },
  {
   "cell_type": "markdown",
   "metadata": {
    "id": "fGjFZc5u-IFb"
   },
   "source": [
    "#### 1) 데이터셋 구조 코드 작성"
   ]
  },
  {
   "cell_type": "code",
   "execution_count": null,
   "metadata": {
    "id": "BvxaQw_f8uW7"
   },
   "outputs": [],
   "source": []
  },
  {
   "cell_type": "markdown",
   "metadata": {
    "id": "rcyi7Giy-GTa"
   },
   "source": [
    "#### 2) YAML 파일 작성"
   ]
  },
  {
   "cell_type": "code",
   "execution_count": null,
   "metadata": {
    "id": "XYXlSpMp8uaZ"
   },
   "outputs": [],
   "source": [
    "import yaml"
   ]
  },
  {
   "cell_type": "code",
   "execution_count": null,
   "metadata": {
    "id": "-s7lZAiL-Z2Q"
   },
   "outputs": [],
   "source": []
  },
  {
   "cell_type": "markdown",
   "metadata": {
    "id": "w59u5Dtnrh5h"
   },
   "source": [
    "## 3.미션2"
   ]
  },
  {
   "cell_type": "markdown",
   "metadata": {
    "id": "JHu91EoOrh2Q"
   },
   "source": [
    "데이터셋의 폴더 구조를 **학습에 적합한 형태**로 만들었다면, **사전 학습된 UltraLytics YOLO 모델**에 Transfer Learning을 수행합니다.\n",
    "\n",
    "- 1) UltraLytics YOLO 모델 선택\n",
    "    - 세부 모델로 n, s, m, l, x가 있습니다. n가 가장 빠르고, x가 가장 연산량이 많습니다.\n",
    "    - [UltraLytics YOLO 모델 링크](https://docs.ultralytics.com/tasks/detect/)\n",
    "- 2) 선택한 UltraLytics YOLO 모델로 학습을 진행합니다.\n",
    "    - [UltraLytics YOLO 학습 명령어 링크](https://docs.ultralytics.com/modes/train/#train-settings)\n",
    "- 3) 학습이 완료되면 추론을 진행합니다.\n",
    "    - [UltraLytics YOLO 추론 명령어 링크](https://docs.ultralytics.com/modes/predict/#inference-arguments)\n",
    "- 4) 해당 UltraLytics YOLO 모델을 **반드시** 저장합니다.\n",
    "    - 모델을 **반드시** 저장하세요.\n",
    "    - .pt 형태로 Colab에 저장이 될 것입니다. 해당 파일을 **로컬에 다운로드** 하세요."
   ]
  },
  {
   "cell_type": "markdown",
   "metadata": {
    "id": "AygPItZba0TI"
   },
   "source": [
    "#### (1) UltraLytics YOLO 모델 선택"
   ]
  },
  {
   "cell_type": "markdown",
   "metadata": {
    "id": "E7zOy5GfbMTR"
   },
   "source": [
    "* **세부 요구사항**\n",
    "    - 세부 모델로 n, s, m, l, x가 있습니다. n가 가장 빠르고, x가 가장 연산량이 많습니다.\n",
    "    - [UltraLytics YOLO 모델 링크](https://docs.ultralytics.com/tasks/detect/)"
   ]
  },
  {
   "cell_type": "code",
   "execution_count": 1,
   "metadata": {
    "id": "ULEjDkdUGhCz"
   },
   "outputs": [],
   "source": [
    "from ultralytics import YOLO\n",
    "# Load a model\n",
    "model = YOLO(\"yolo11n.pt\")"
   ]
  },
  {
   "cell_type": "markdown",
   "metadata": {
    "id": "X7rqg7bda6Uz"
   },
   "source": [
    "#### (2) UltraLytics YOLO 모델 학습"
   ]
  },
  {
   "cell_type": "markdown",
   "metadata": {
    "id": "48UKFtS6bc9b"
   },
   "source": [
    "* **세부 요구사항**\n",
    "    - 선택한 UltraLytics YOLO 모델로 학습을 진행합니다.\n",
    "    - [UltraLytics YOLO 학습 명령어 링크](https://docs.ultralytics.com/modes/train/#train-settings)"
   ]
  },
  {
   "cell_type": "code",
   "execution_count": null,
   "metadata": {
    "id": "891Qn60yGhCz",
    "scrolled": true
   },
   "outputs": [
    {
     "name": "stdout",
     "output_type": "stream",
     "text": [
      "New https://pypi.org/project/ultralytics/8.3.24 available  Update with 'pip install -U ultralytics'\n",
      "Ultralytics 8.3.23  Python-3.8.20 torch-2.4.1+cu121 CUDA:0 (NVIDIA GeForce RTX 3060, 12287MiB)\n",
      "\u001b[34m\u001b[1mengine\\trainer: \u001b[0mtask=detect, mode=train, model=yolo11n.pt, data=C:/Users/MinKyu/Desktop/practice_data/minkyu_face.yaml, epochs=50, time=None, patience=10, batch=8, imgsz=640, save=True, save_period=-1, cache=False, device=0, workers=0, project=None, name=train19, exist_ok=False, pretrained=True, optimizer=auto, verbose=True, seed=0, deterministic=True, single_cls=False, rect=False, cos_lr=False, close_mosaic=10, resume=False, amp=True, fraction=1.0, profile=False, freeze=None, multi_scale=False, overlap_mask=True, mask_ratio=4, dropout=0.0, val=True, split=val, save_json=False, save_hybrid=False, conf=None, iou=0.7, max_det=300, half=False, dnn=False, plots=True, source=None, vid_stride=1, stream_buffer=False, visualize=False, augment=False, agnostic_nms=False, classes=None, retina_masks=False, embed=None, show=False, save_frames=False, save_txt=False, save_conf=False, save_crop=False, show_labels=True, show_conf=True, show_boxes=True, line_width=None, format=torchscript, keras=False, optimize=False, int8=False, dynamic=False, simplify=True, opset=None, workspace=4, nms=False, lr0=0.01, lrf=0.01, momentum=0.937, weight_decay=0.0005, warmup_epochs=3.0, warmup_momentum=0.8, warmup_bias_lr=0.1, box=7.5, cls=0.5, dfl=1.5, pose=12.0, kobj=1.0, label_smoothing=0.0, nbs=64, hsv_h=0.015, hsv_s=0.7, hsv_v=0.4, degrees=0.0, translate=0.1, scale=0.5, shear=0.0, perspective=0.0, flipud=0.0, fliplr=0.5, bgr=0.0, mosaic=1.0, mixup=0.0, copy_paste=0.0, copy_paste_mode=flip, auto_augment=randaugment, erasing=0.4, crop_fraction=1.0, cfg=None, tracker=botsort.yaml, save_dir=runs\\detect\\train19\n",
      "Overriding model.yaml nc=80 with nc=2\n",
      "\n",
      "                   from  n    params  module                                       arguments                     \n",
      "  0                  -1  1       464  ultralytics.nn.modules.conv.Conv             [3, 16, 3, 2]                 \n",
      "  1                  -1  1      4672  ultralytics.nn.modules.conv.Conv             [16, 32, 3, 2]                \n",
      "  2                  -1  1      6640  ultralytics.nn.modules.block.C3k2            [32, 64, 1, False, 0.25]      \n",
      "  3                  -1  1     36992  ultralytics.nn.modules.conv.Conv             [64, 64, 3, 2]                \n",
      "  4                  -1  1     26080  ultralytics.nn.modules.block.C3k2            [64, 128, 1, False, 0.25]     \n",
      "  5                  -1  1    147712  ultralytics.nn.modules.conv.Conv             [128, 128, 3, 2]              \n",
      "  6                  -1  1     87040  ultralytics.nn.modules.block.C3k2            [128, 128, 1, True]           \n",
      "  7                  -1  1    295424  ultralytics.nn.modules.conv.Conv             [128, 256, 3, 2]              \n",
      "  8                  -1  1    346112  ultralytics.nn.modules.block.C3k2            [256, 256, 1, True]           \n",
      "  9                  -1  1    164608  ultralytics.nn.modules.block.SPPF            [256, 256, 5]                 \n",
      " 10                  -1  1    249728  ultralytics.nn.modules.block.C2PSA           [256, 256, 1]                 \n",
      " 11                  -1  1         0  torch.nn.modules.upsampling.Upsample         [None, 2, 'nearest']          \n",
      " 12             [-1, 6]  1         0  ultralytics.nn.modules.conv.Concat           [1]                           \n",
      " 13                  -1  1    111296  ultralytics.nn.modules.block.C3k2            [384, 128, 1, False]          \n",
      " 14                  -1  1         0  torch.nn.modules.upsampling.Upsample         [None, 2, 'nearest']          \n",
      " 15             [-1, 4]  1         0  ultralytics.nn.modules.conv.Concat           [1]                           \n",
      " 16                  -1  1     32096  ultralytics.nn.modules.block.C3k2            [256, 64, 1, False]           \n",
      " 17                  -1  1     36992  ultralytics.nn.modules.conv.Conv             [64, 64, 3, 2]                \n",
      " 18            [-1, 13]  1         0  ultralytics.nn.modules.conv.Concat           [1]                           \n",
      " 19                  -1  1     86720  ultralytics.nn.modules.block.C3k2            [192, 128, 1, False]          \n",
      " 20                  -1  1    147712  ultralytics.nn.modules.conv.Conv             [128, 128, 3, 2]              \n",
      " 21            [-1, 10]  1         0  ultralytics.nn.modules.conv.Concat           [1]                           \n",
      " 22                  -1  1    378880  ultralytics.nn.modules.block.C3k2            [384, 256, 1, True]           \n",
      " 23        [16, 19, 22]  1    431062  ultralytics.nn.modules.head.Detect           [2, [64, 128, 256]]           \n",
      "YOLO11n summary: 319 layers, 2,590,230 parameters, 2,590,214 gradients, 6.4 GFLOPs\n",
      "\n",
      "Transferred 448/499 items from pretrained weights\n",
      "\u001b[34m\u001b[1mTensorBoard: \u001b[0mStart with 'tensorboard --logdir runs\\detect\\train19', view at http://localhost:6006/\n",
      "Freezing layer 'model.23.dfl.conv.weight'\n",
      "\u001b[34m\u001b[1mAMP: \u001b[0mrunning Automatic Mixed Precision (AMP) checks...\n",
      "\u001b[34m\u001b[1mAMP: \u001b[0mchecks passed \n"
     ]
    },
    {
     "name": "stderr",
     "output_type": "stream",
     "text": [
      "\u001b[34m\u001b[1mtrain: \u001b[0mScanning C:\\Users\\MinKyu\\Desktop\\practice_data\\train\\labels.cache... 3807 images, 0 backgrounds, 0 corrupt: 100%\u001b[0m"
     ]
    },
    {
     "name": "stdout",
     "output_type": "stream",
     "text": [
      "\u001b[34m\u001b[1mtrain: \u001b[0mWARNING  C:\\Users\\MinKyu\\Desktop\\practice_data\\train\\images\\101_jpg.rf.2aa06eef8b9ca525c79d95b850d4731e.jpg: 2 duplicate labels removed\n",
      "\u001b[34m\u001b[1mtrain: \u001b[0mWARNING  C:\\Users\\MinKyu\\Desktop\\practice_data\\train\\images\\101_jpg.rf.ce5e4e6b57bc677ce7bcf64e2518406b.jpg: 2 duplicate labels removed\n",
      "\u001b[34m\u001b[1mtrain: \u001b[0mWARNING  C:\\Users\\MinKyu\\Desktop\\practice_data\\train\\images\\101_jpg.rf.f70f6248027a8d737a7f7b2ec28111b9.jpg: 2 duplicate labels removed\n",
      "\u001b[34m\u001b[1mtrain: \u001b[0mWARNING  C:\\Users\\MinKyu\\Desktop\\practice_data\\train\\images\\101_jpg.rf.fb740afda1f63d2f6450b0da13578a16.jpg: 2 duplicate labels removed\n",
      "\u001b[34m\u001b[1mtrain: \u001b[0mWARNING  C:\\Users\\MinKyu\\Desktop\\practice_data\\train\\images\\104_jpg.rf.49ae690eecf36cc827aac3ad9266ec6f.jpg: 2 duplicate labels removed\n",
      "\u001b[34m\u001b[1mtrain: \u001b[0mWARNING  C:\\Users\\MinKyu\\Desktop\\practice_data\\train\\images\\104_jpg.rf.4a4acc1060b0edb1af657a31eb0ba66f.jpg: 2 duplicate labels removed\n",
      "\u001b[34m\u001b[1mtrain: \u001b[0mWARNING  C:\\Users\\MinKyu\\Desktop\\practice_data\\train\\images\\104_jpg.rf.4ae41e9ad0b7b779e23053f56fd57db4.jpg: 2 duplicate labels removed\n",
      "\u001b[34m\u001b[1mtrain: \u001b[0mWARNING  C:\\Users\\MinKyu\\Desktop\\practice_data\\train\\images\\104_jpg.rf.8c9b911ed818f376c24a78fd7535bce3.jpg: 2 duplicate labels removed\n",
      "\u001b[34m\u001b[1mtrain: \u001b[0mWARNING  C:\\Users\\MinKyu\\Desktop\\practice_data\\train\\images\\107_jpg.rf.a2cc5f5525be7ca6df5992370ee62f27.jpg: 2 duplicate labels removed\n",
      "\u001b[34m\u001b[1mtrain: \u001b[0mWARNING  C:\\Users\\MinKyu\\Desktop\\practice_data\\train\\images\\107_jpg.rf.ab06fe3fb89529f5ef01ad71da857f0b.jpg: 2 duplicate labels removed\n",
      "\u001b[34m\u001b[1mtrain: \u001b[0mWARNING  C:\\Users\\MinKyu\\Desktop\\practice_data\\train\\images\\107_jpg.rf.fc6f56a28eff16e6bb58cf65c6a9de84.jpg: 2 duplicate labels removed\n",
      "\u001b[34m\u001b[1mtrain: \u001b[0mWARNING  C:\\Users\\MinKyu\\Desktop\\practice_data\\train\\images\\10_jpg.rf.31161afbe587513a596853611d8a1cea.jpg: 2 duplicate labels removed\n",
      "\u001b[34m\u001b[1mtrain: \u001b[0mWARNING  C:\\Users\\MinKyu\\Desktop\\practice_data\\train\\images\\10_jpg.rf.b74f19a56306bd07604e7681f55f2d72.jpg: 2 duplicate labels removed\n",
      "\u001b[34m\u001b[1mtrain: \u001b[0mWARNING  C:\\Users\\MinKyu\\Desktop\\practice_data\\train\\images\\10_jpg.rf.c6453502fd00568edd45aada6f9d0ef0.jpg: 2 duplicate labels removed\n",
      "\u001b[34m\u001b[1mtrain: \u001b[0mWARNING  C:\\Users\\MinKyu\\Desktop\\practice_data\\train\\images\\10_jpg.rf.c9e2d77691c67051c6f1b21db8dbde58.jpg: 2 duplicate labels removed\n",
      "\u001b[34m\u001b[1mtrain: \u001b[0mWARNING  C:\\Users\\MinKyu\\Desktop\\practice_data\\train\\images\\110_jpg.rf.da76849ded88f61c7eecd6c216f036fe.jpg: 2 duplicate labels removed\n",
      "\u001b[34m\u001b[1mtrain: \u001b[0mWARNING  C:\\Users\\MinKyu\\Desktop\\practice_data\\train\\images\\110_jpg.rf.f529e00802f8ceedfbffeb2b8b4de6a1.jpg: 2 duplicate labels removed\n",
      "\u001b[34m\u001b[1mtrain: \u001b[0mWARNING  C:\\Users\\MinKyu\\Desktop\\practice_data\\train\\images\\111_jpg.rf.513141f8249a8e169f96d9dc4500db9a.jpg: 2 duplicate labels removed\n",
      "\u001b[34m\u001b[1mtrain: \u001b[0mWARNING  C:\\Users\\MinKyu\\Desktop\\practice_data\\train\\images\\111_jpg.rf.6366097bcbf5fdfa5e66b4e95c568af1.jpg: 2 duplicate labels removed\n",
      "\u001b[34m\u001b[1mtrain: \u001b[0mWARNING  C:\\Users\\MinKyu\\Desktop\\practice_data\\train\\images\\111_jpg.rf.97f812b7fa8f4c9f4965f335322d1847.jpg: 2 duplicate labels removed\n",
      "\u001b[34m\u001b[1mtrain: \u001b[0mWARNING  C:\\Users\\MinKyu\\Desktop\\practice_data\\train\\images\\111_jpg.rf.c5c4004cdeefb92fc0318cc0f2a195b8.jpg: 2 duplicate labels removed\n",
      "\u001b[34m\u001b[1mtrain: \u001b[0mWARNING  C:\\Users\\MinKyu\\Desktop\\practice_data\\train\\images\\112_jpg.rf.1837964ce4a0bc8971e7aa51601642df.jpg: 2 duplicate labels removed\n",
      "\u001b[34m\u001b[1mtrain: \u001b[0mWARNING  C:\\Users\\MinKyu\\Desktop\\practice_data\\train\\images\\112_jpg.rf.548efb0a6f239f65833c311d98ef8d91.jpg: 2 duplicate labels removed\n",
      "\u001b[34m\u001b[1mtrain: \u001b[0mWARNING  C:\\Users\\MinKyu\\Desktop\\practice_data\\train\\images\\112_jpg.rf.94b6fdd5037a88b3c2bd01b42e6d73cf.jpg: 2 duplicate labels removed\n",
      "\u001b[34m\u001b[1mtrain: \u001b[0mWARNING  C:\\Users\\MinKyu\\Desktop\\practice_data\\train\\images\\112_jpg.rf.99d2f152d500c05e4d6012eaef31294e.jpg: 2 duplicate labels removed\n",
      "\u001b[34m\u001b[1mtrain: \u001b[0mWARNING  C:\\Users\\MinKyu\\Desktop\\practice_data\\train\\images\\112_jpg.rf.a6ce62677f6d022b15915d10729ec11d.jpg: 2 duplicate labels removed\n",
      "\u001b[34m\u001b[1mtrain: \u001b[0mWARNING  C:\\Users\\MinKyu\\Desktop\\practice_data\\train\\images\\112_jpg.rf.ece1a19ba60c48bd7d2a6462d15cd79e.jpg: 2 duplicate labels removed\n",
      "\u001b[34m\u001b[1mtrain: \u001b[0mWARNING  C:\\Users\\MinKyu\\Desktop\\practice_data\\train\\images\\114_jpg.rf.0cd32d9a734072a00452b5b304ca6282.jpg: 2 duplicate labels removed\n",
      "\u001b[34m\u001b[1mtrain: \u001b[0mWARNING  C:\\Users\\MinKyu\\Desktop\\practice_data\\train\\images\\114_jpg.rf.11b2674218e5570354803923c558dd6c.jpg: 2 duplicate labels removed\n",
      "\u001b[34m\u001b[1mtrain: \u001b[0mWARNING  C:\\Users\\MinKyu\\Desktop\\practice_data\\train\\images\\114_jpg.rf.3585fcc6bc3ec46a191f570a8f6d1f6e.jpg: 2 duplicate labels removed\n",
      "\u001b[34m\u001b[1mtrain: \u001b[0mWARNING  C:\\Users\\MinKyu\\Desktop\\practice_data\\train\\images\\114_jpg.rf.3aeee3eed6406b5d36ce489d5a4337ec.jpg: 2 duplicate labels removed\n",
      "\u001b[34m\u001b[1mtrain: \u001b[0mWARNING  C:\\Users\\MinKyu\\Desktop\\practice_data\\train\\images\\114_jpg.rf.5da596e126b22786c096c1948e83b4ac.jpg: 2 duplicate labels removed\n",
      "\u001b[34m\u001b[1mtrain: \u001b[0mWARNING  C:\\Users\\MinKyu\\Desktop\\practice_data\\train\\images\\114_jpg.rf.6adcc14ad339d1646e0444d04d75931e.jpg: 2 duplicate labels removed\n",
      "\u001b[34m\u001b[1mtrain: \u001b[0mWARNING  C:\\Users\\MinKyu\\Desktop\\practice_data\\train\\images\\114_jpg.rf.6bee6d820de82e9f01b4710a68ede154.jpg: 2 duplicate labels removed\n",
      "\u001b[34m\u001b[1mtrain: \u001b[0mWARNING  C:\\Users\\MinKyu\\Desktop\\practice_data\\train\\images\\114_jpg.rf.aa9a7a8820c578fb9980612bc1ce9cea.jpg: 2 duplicate labels removed\n",
      "\u001b[34m\u001b[1mtrain: \u001b[0mWARNING  C:\\Users\\MinKyu\\Desktop\\practice_data\\train\\images\\114_jpg.rf.ea403915df78a3fcda2a49a0ed13c9d0.jpg: 2 duplicate labels removed\n",
      "\u001b[34m\u001b[1mtrain: \u001b[0mWARNING  C:\\Users\\MinKyu\\Desktop\\practice_data\\train\\images\\115_jpg.rf.19b4d7f6b2d95fc87eff88e104fd24b0.jpg: 2 duplicate labels removed\n",
      "\u001b[34m\u001b[1mtrain: \u001b[0mWARNING  C:\\Users\\MinKyu\\Desktop\\practice_data\\train\\images\\115_jpg.rf.20ccbe4009d147fcafa4786cc8c0dcb8.jpg: 2 duplicate labels removed\n",
      "\u001b[34m\u001b[1mtrain: \u001b[0mWARNING  C:\\Users\\MinKyu\\Desktop\\practice_data\\train\\images\\115_jpg.rf.3f89ea587177a140e022e907d013a916.jpg: 2 duplicate labels removed\n",
      "\u001b[34m\u001b[1mtrain: \u001b[0mWARNING  C:\\Users\\MinKyu\\Desktop\\practice_data\\train\\images\\115_jpg.rf.6fe20e72d05509611d0bfb0216547cf0.jpg: 2 duplicate labels removed\n",
      "\u001b[34m\u001b[1mtrain: \u001b[0mWARNING  C:\\Users\\MinKyu\\Desktop\\practice_data\\train\\images\\115_jpg.rf.758f4e1ff342a176cc2bd6b876b9f499.jpg: 2 duplicate labels removed\n",
      "\u001b[34m\u001b[1mtrain: \u001b[0mWARNING  C:\\Users\\MinKyu\\Desktop\\practice_data\\train\\images\\115_jpg.rf.8a67222a958bf467ed9e5310375fe7bf.jpg: 2 duplicate labels removed\n",
      "\u001b[34m\u001b[1mtrain: \u001b[0mWARNING  C:\\Users\\MinKyu\\Desktop\\practice_data\\train\\images\\115_jpg.rf.93545c4bbdf5645fb663e19020ff5dfa.jpg: 2 duplicate labels removed\n",
      "\u001b[34m\u001b[1mtrain: \u001b[0mWARNING  C:\\Users\\MinKyu\\Desktop\\practice_data\\train\\images\\115_jpg.rf.977c79f0fcb4dcfbe96374c89c0d6777.jpg: 2 duplicate labels removed\n",
      "\u001b[34m\u001b[1mtrain: \u001b[0mWARNING  C:\\Users\\MinKyu\\Desktop\\practice_data\\train\\images\\115_jpg.rf.9e083ca98704a0e911e8bb4c79253ecc.jpg: 2 duplicate labels removed\n",
      "\u001b[34m\u001b[1mtrain: \u001b[0mWARNING  C:\\Users\\MinKyu\\Desktop\\practice_data\\train\\images\\115_jpg.rf.bf75dbd45f0b021f06403f6999a1fea1.jpg: 2 duplicate labels removed\n",
      "\u001b[34m\u001b[1mtrain: \u001b[0mWARNING  C:\\Users\\MinKyu\\Desktop\\practice_data\\train\\images\\116_jpg.rf.405d001e4b215aa027b4f553eeb3b03e.jpg: 2 duplicate labels removed\n",
      "\u001b[34m\u001b[1mtrain: \u001b[0mWARNING  C:\\Users\\MinKyu\\Desktop\\practice_data\\train\\images\\116_jpg.rf.6e2ffe58cbeac9fec24865da7e810add.jpg: 2 duplicate labels removed\n",
      "\u001b[34m\u001b[1mtrain: \u001b[0mWARNING  C:\\Users\\MinKyu\\Desktop\\practice_data\\train\\images\\116_jpg.rf.71e8532a82480f82b6ddd4a8e46395b5.jpg: 2 duplicate labels removed\n",
      "\u001b[34m\u001b[1mtrain: \u001b[0mWARNING  C:\\Users\\MinKyu\\Desktop\\practice_data\\train\\images\\116_jpg.rf.9bcea07492567399cb22d15d1ecd387a.jpg: 2 duplicate labels removed\n",
      "\u001b[34m\u001b[1mtrain: \u001b[0mWARNING  C:\\Users\\MinKyu\\Desktop\\practice_data\\train\\images\\116_jpg.rf.c57086e6d77200f3858980ed3bdeb2ea.jpg: 2 duplicate labels removed\n",
      "\u001b[34m\u001b[1mtrain: \u001b[0mWARNING  C:\\Users\\MinKyu\\Desktop\\practice_data\\train\\images\\118_jpg.rf.63c4f9aa7e1aca4ecc0bbfa5e305a38c.jpg: 2 duplicate labels removed\n",
      "\u001b[34m\u001b[1mtrain: \u001b[0mWARNING  C:\\Users\\MinKyu\\Desktop\\practice_data\\train\\images\\118_jpg.rf.70484e3ce949f5de4d9c6bcf76329b69.jpg: 2 duplicate labels removed\n",
      "\u001b[34m\u001b[1mtrain: \u001b[0mWARNING  C:\\Users\\MinKyu\\Desktop\\practice_data\\train\\images\\118_jpg.rf.7ef383b38957648e8da8df2e792854a1.jpg: 2 duplicate labels removed\n",
      "\u001b[34m\u001b[1mtrain: \u001b[0mWARNING  C:\\Users\\MinKyu\\Desktop\\practice_data\\train\\images\\118_jpg.rf.de9d1c5615095580c1403dfc7de9a256.jpg: 2 duplicate labels removed\n",
      "\u001b[34m\u001b[1mtrain: \u001b[0mWARNING  C:\\Users\\MinKyu\\Desktop\\practice_data\\train\\images\\119_jpg.rf.1bc398e729024ae439a11e1af59379a3.jpg: 2 duplicate labels removed\n",
      "\u001b[34m\u001b[1mtrain: \u001b[0mWARNING  C:\\Users\\MinKyu\\Desktop\\practice_data\\train\\images\\119_jpg.rf.4ca68623027f3c450f4fc64eb60fae52.jpg: 2 duplicate labels removed\n",
      "\u001b[34m\u001b[1mtrain: \u001b[0mWARNING  C:\\Users\\MinKyu\\Desktop\\practice_data\\train\\images\\11_jpg.rf.00a5a5cdf2c0a6a43776c1250b48a1b4.jpg: 2 duplicate labels removed\n",
      "\u001b[34m\u001b[1mtrain: \u001b[0mWARNING  C:\\Users\\MinKyu\\Desktop\\practice_data\\train\\images\\11_jpg.rf.54315cd9b51d34b8cfbd57d719f66864.jpg: 2 duplicate labels removed\n",
      "\u001b[34m\u001b[1mtrain: \u001b[0mWARNING  C:\\Users\\MinKyu\\Desktop\\practice_data\\train\\images\\11_jpg.rf.6524d1291eccff0748f5edddb0657d3f.jpg: 2 duplicate labels removed\n",
      "\u001b[34m\u001b[1mtrain: \u001b[0mWARNING  C:\\Users\\MinKyu\\Desktop\\practice_data\\train\\images\\11_jpg.rf.94b117882495ebadfcb77ae13367ea62.jpg: 2 duplicate labels removed\n",
      "\u001b[34m\u001b[1mtrain: \u001b[0mWARNING  C:\\Users\\MinKyu\\Desktop\\practice_data\\train\\images\\11_jpg.rf.c277de05f0e5cb2032a5ec84eed05bed.jpg: 2 duplicate labels removed\n",
      "\u001b[34m\u001b[1mtrain: \u001b[0mWARNING  C:\\Users\\MinKyu\\Desktop\\practice_data\\train\\images\\11_jpg.rf.c5f0fe7bb159d80d53865a02aa47e7a5.jpg: 2 duplicate labels removed\n",
      "\u001b[34m\u001b[1mtrain: \u001b[0mWARNING  C:\\Users\\MinKyu\\Desktop\\practice_data\\train\\images\\11_jpg.rf.ef2124488f0dfd4e7da1102562c1cab6.jpg: 2 duplicate labels removed\n",
      "\u001b[34m\u001b[1mtrain: \u001b[0mWARNING  C:\\Users\\MinKyu\\Desktop\\practice_data\\train\\images\\11_jpg.rf.fcecb11770bbb9848eaa39af2a0e6608.jpg: 2 duplicate labels removed\n",
      "\u001b[34m\u001b[1mtrain: \u001b[0mWARNING  C:\\Users\\MinKyu\\Desktop\\practice_data\\train\\images\\120_jpg.rf.134a4978c2ad922ea80bc51c82f6c225.jpg: 2 duplicate labels removed\n",
      "\u001b[34m\u001b[1mtrain: \u001b[0mWARNING  C:\\Users\\MinKyu\\Desktop\\practice_data\\train\\images\\120_jpg.rf.355ba79904cf71df59d714053bab6c04.jpg: 2 duplicate labels removed\n",
      "\u001b[34m\u001b[1mtrain: \u001b[0mWARNING  C:\\Users\\MinKyu\\Desktop\\practice_data\\train\\images\\120_jpg.rf.50b0c1b598c39db2b6a3f582b0621f82.jpg: 2 duplicate labels removed\n",
      "\u001b[34m\u001b[1mtrain: \u001b[0mWARNING  C:\\Users\\MinKyu\\Desktop\\practice_data\\train\\images\\120_jpg.rf.827f9f0af700972b7f4c595aba92f04d.jpg: 2 duplicate labels removed\n",
      "\u001b[34m\u001b[1mtrain: \u001b[0mWARNING  C:\\Users\\MinKyu\\Desktop\\practice_data\\train\\images\\120_jpg.rf.973de47952cdc53e61181d8a626e7c95.jpg: 2 duplicate labels removed\n",
      "\u001b[34m\u001b[1mtrain: \u001b[0mWARNING  C:\\Users\\MinKyu\\Desktop\\practice_data\\train\\images\\120_jpg.rf.bf59b3d25addd65031175362d58bb6ba.jpg: 2 duplicate labels removed\n",
      "\u001b[34m\u001b[1mtrain: \u001b[0mWARNING  C:\\Users\\MinKyu\\Desktop\\practice_data\\train\\images\\122_jpg.rf.25b9865499dfb1ae7c9ba1fb22871cf6.jpg: 2 duplicate labels removed\n",
      "\u001b[34m\u001b[1mtrain: \u001b[0mWARNING  C:\\Users\\MinKyu\\Desktop\\practice_data\\train\\images\\122_jpg.rf.2f132d229a1429d4b71e093e40d4563d.jpg: 2 duplicate labels removed\n",
      "\u001b[34m\u001b[1mtrain: \u001b[0mWARNING  C:\\Users\\MinKyu\\Desktop\\practice_data\\train\\images\\122_jpg.rf.6aad59ddbb33b6166fa2fd556192638d.jpg: 2 duplicate labels removed\n",
      "\u001b[34m\u001b[1mtrain: \u001b[0mWARNING  C:\\Users\\MinKyu\\Desktop\\practice_data\\train\\images\\122_jpg.rf.75e15ee1bc38c5ce3a13a328ec046f9f.jpg: 2 duplicate labels removed\n",
      "\u001b[34m\u001b[1mtrain: \u001b[0mWARNING  C:\\Users\\MinKyu\\Desktop\\practice_data\\train\\images\\122_jpg.rf.a66df861faf000316c46fef9f93f18a8.jpg: 2 duplicate labels removed\n",
      "\u001b[34m\u001b[1mtrain: \u001b[0mWARNING  C:\\Users\\MinKyu\\Desktop\\practice_data\\train\\images\\122_jpg.rf.d9ca06335397b5fbb5c3d5df9023f714.jpg: 2 duplicate labels removed\n",
      "\u001b[34m\u001b[1mtrain: \u001b[0mWARNING  C:\\Users\\MinKyu\\Desktop\\practice_data\\train\\images\\123_jpg.rf.2571482f1f411986cb6b225cd409d426.jpg: 2 duplicate labels removed\n",
      "\u001b[34m\u001b[1mtrain: \u001b[0mWARNING  C:\\Users\\MinKyu\\Desktop\\practice_data\\train\\images\\123_jpg.rf.2de1211483ead913a4a5ccb2bcdaa0fc.jpg: 2 duplicate labels removed\n",
      "\u001b[34m\u001b[1mtrain: \u001b[0mWARNING  C:\\Users\\MinKyu\\Desktop\\practice_data\\train\\images\\123_jpg.rf.300dc952c4cbf79f78aff229ef958646.jpg: 2 duplicate labels removed\n",
      "\u001b[34m\u001b[1mtrain: \u001b[0mWARNING  C:\\Users\\MinKyu\\Desktop\\practice_data\\train\\images\\123_jpg.rf.30a446578c436b29e4e727b3bbd68cad.jpg: 2 duplicate labels removed\n",
      "\u001b[34m\u001b[1mtrain: \u001b[0mWARNING  C:\\Users\\MinKyu\\Desktop\\practice_data\\train\\images\\123_jpg.rf.38e80b6f720b4a7c8cb026e048687e2d.jpg: 2 duplicate labels removed\n",
      "\u001b[34m\u001b[1mtrain: \u001b[0mWARNING  C:\\Users\\MinKyu\\Desktop\\practice_data\\train\\images\\123_jpg.rf.69dacc29617d8a04032c35ac82944f27.jpg: 2 duplicate labels removed\n",
      "\u001b[34m\u001b[1mtrain: \u001b[0mWARNING  C:\\Users\\MinKyu\\Desktop\\practice_data\\train\\images\\123_jpg.rf.8b05142ad7dccc46f72f2712ca4cbbee.jpg: 2 duplicate labels removed\n",
      "\u001b[34m\u001b[1mtrain: \u001b[0mWARNING  C:\\Users\\MinKyu\\Desktop\\practice_data\\train\\images\\123_jpg.rf.ef3ec6486d8008e6d390e28c5fa78eaf.jpg: 2 duplicate labels removed\n",
      "\u001b[34m\u001b[1mtrain: \u001b[0mWARNING  C:\\Users\\MinKyu\\Desktop\\practice_data\\train\\images\\123_jpg.rf.f05631eb22740693f65c1070d8e90026.jpg: 2 duplicate labels removed\n",
      "\u001b[34m\u001b[1mtrain: \u001b[0mWARNING  C:\\Users\\MinKyu\\Desktop\\practice_data\\train\\images\\124_jpg.rf.299892d979b8b0487853e83707c8a77b.jpg: 2 duplicate labels removed\n",
      "\u001b[34m\u001b[1mtrain: \u001b[0mWARNING  C:\\Users\\MinKyu\\Desktop\\practice_data\\train\\images\\124_jpg.rf.33da7aef02aab680e00e6e53d5a5d709.jpg: 2 duplicate labels removed\n",
      "\u001b[34m\u001b[1mtrain: \u001b[0mWARNING  C:\\Users\\MinKyu\\Desktop\\practice_data\\train\\images\\124_jpg.rf.3bad587be730032424d67ec835fb65c3.jpg: 2 duplicate labels removed\n",
      "\u001b[34m\u001b[1mtrain: \u001b[0mWARNING  C:\\Users\\MinKyu\\Desktop\\practice_data\\train\\images\\124_jpg.rf.8e0339fca65bdfd7879ab6b2955d6ce7.jpg: 2 duplicate labels removed\n",
      "\u001b[34m\u001b[1mtrain: \u001b[0mWARNING  C:\\Users\\MinKyu\\Desktop\\practice_data\\train\\images\\124_jpg.rf.a7c0705d113653ccf8d4a93fdc88bd16.jpg: 2 duplicate labels removed\n",
      "\u001b[34m\u001b[1mtrain: \u001b[0mWARNING  C:\\Users\\MinKyu\\Desktop\\practice_data\\train\\images\\124_jpg.rf.cac0c78688e0b083c19970d13eaa6427.jpg: 2 duplicate labels removed\n",
      "\u001b[34m\u001b[1mtrain: \u001b[0mWARNING  C:\\Users\\MinKyu\\Desktop\\practice_data\\train\\images\\124_jpg.rf.efb9a63bcf72136bf9574ed4ba286d1a.jpg: 2 duplicate labels removed\n",
      "\u001b[34m\u001b[1mtrain: \u001b[0mWARNING  C:\\Users\\MinKyu\\Desktop\\practice_data\\train\\images\\125_jpg.rf.0c4414dc0f8a9b705a7b0c17e8b730ca.jpg: 2 duplicate labels removed\n",
      "\u001b[34m\u001b[1mtrain: \u001b[0mWARNING  C:\\Users\\MinKyu\\Desktop\\practice_data\\train\\images\\125_jpg.rf.555419df2b16ace1dd0a6d70120cd5e5.jpg: 2 duplicate labels removed\n",
      "\u001b[34m\u001b[1mtrain: \u001b[0mWARNING  C:\\Users\\MinKyu\\Desktop\\practice_data\\train\\images\\125_jpg.rf.838ce5140f5162bc53dc1ce37cdf309a.jpg: 2 duplicate labels removed\n",
      "\u001b[34m\u001b[1mtrain: \u001b[0mWARNING  C:\\Users\\MinKyu\\Desktop\\practice_data\\train\\images\\125_jpg.rf.911f34e28f6a72b04fe03db23ff77e27.jpg: 2 duplicate labels removed\n",
      "\u001b[34m\u001b[1mtrain: \u001b[0mWARNING  C:\\Users\\MinKyu\\Desktop\\practice_data\\train\\images\\125_jpg.rf.b21c6ba3876fb200adddb124a5346f40.jpg: 2 duplicate labels removed\n",
      "\u001b[34m\u001b[1mtrain: \u001b[0mWARNING  C:\\Users\\MinKyu\\Desktop\\practice_data\\train\\images\\125_jpg.rf.c315e5f5cfca6434d1025710a8428377.jpg: 2 duplicate labels removed\n",
      "\u001b[34m\u001b[1mtrain: \u001b[0mWARNING  C:\\Users\\MinKyu\\Desktop\\practice_data\\train\\images\\125_jpg.rf.fcb291d909fdc5ebd950337f56156bef.jpg: 2 duplicate labels removed\n",
      "\u001b[34m\u001b[1mtrain: \u001b[0mWARNING  C:\\Users\\MinKyu\\Desktop\\practice_data\\train\\images\\127_jpg.rf.2d3264d063a2353625fd2087efa290b6.jpg: 2 duplicate labels removed\n",
      "\u001b[34m\u001b[1mtrain: \u001b[0mWARNING  C:\\Users\\MinKyu\\Desktop\\practice_data\\train\\images\\127_jpg.rf.44be7363007900123aa7ffcc33c3bca8.jpg: 2 duplicate labels removed\n",
      "\u001b[34m\u001b[1mtrain: \u001b[0mWARNING  C:\\Users\\MinKyu\\Desktop\\practice_data\\train\\images\\127_jpg.rf.63b29905f826f3fcda235b2144ce654c.jpg: 2 duplicate labels removed\n",
      "\u001b[34m\u001b[1mtrain: \u001b[0mWARNING  C:\\Users\\MinKyu\\Desktop\\practice_data\\train\\images\\127_jpg.rf.6d1a2c0604db1407f36ce6a1e3158069.jpg: 2 duplicate labels removed\n",
      "\u001b[34m\u001b[1mtrain: \u001b[0mWARNING  C:\\Users\\MinKyu\\Desktop\\practice_data\\train\\images\\127_jpg.rf.7f3ef643c44aa703ed90ebd955088930.jpg: 2 duplicate labels removed\n",
      "\u001b[34m\u001b[1mtrain: \u001b[0mWARNING  C:\\Users\\MinKyu\\Desktop\\practice_data\\train\\images\\127_jpg.rf.a8434bd7d3e51f5ec5901d4e431faaea.jpg: 2 duplicate labels removed\n",
      "\u001b[34m\u001b[1mtrain: \u001b[0mWARNING  C:\\Users\\MinKyu\\Desktop\\practice_data\\train\\images\\127_jpg.rf.f86d6322a847347dafa4e6a62db70d9e.jpg: 2 duplicate labels removed\n",
      "\u001b[34m\u001b[1mtrain: \u001b[0mWARNING  C:\\Users\\MinKyu\\Desktop\\practice_data\\train\\images\\128_jpg.rf.08cc75770130f24e3f889e63b645d7ae.jpg: 2 duplicate labels removed\n",
      "\u001b[34m\u001b[1mtrain: \u001b[0mWARNING  C:\\Users\\MinKyu\\Desktop\\practice_data\\train\\images\\128_jpg.rf.257d2265ac0471fe2b24506a30b4e2de.jpg: 2 duplicate labels removed\n",
      "\u001b[34m\u001b[1mtrain: \u001b[0mWARNING  C:\\Users\\MinKyu\\Desktop\\practice_data\\train\\images\\128_jpg.rf.2ca8d00f67b2c74bb3d98ec249b0b9f5.jpg: 2 duplicate labels removed\n",
      "\u001b[34m\u001b[1mtrain: \u001b[0mWARNING  C:\\Users\\MinKyu\\Desktop\\practice_data\\train\\images\\128_jpg.rf.85ce3f4dcc799ab03123f2c8604339e5.jpg: 2 duplicate labels removed\n",
      "\u001b[34m\u001b[1mtrain: \u001b[0mWARNING  C:\\Users\\MinKyu\\Desktop\\practice_data\\train\\images\\128_jpg.rf.ec5e9bc7c23aefa2adb06f07ac95df19.jpg: 2 duplicate labels removed\n",
      "\u001b[34m\u001b[1mtrain: \u001b[0mWARNING  C:\\Users\\MinKyu\\Desktop\\practice_data\\train\\images\\129_jpg.rf.0e565172d4ef849eef15d2f367c7eb62.jpg: 2 duplicate labels removed\n",
      "\u001b[34m\u001b[1mtrain: \u001b[0mWARNING  C:\\Users\\MinKyu\\Desktop\\practice_data\\train\\images\\129_jpg.rf.5e0c0c1f7044908092255b1daa652272.jpg: 2 duplicate labels removed\n",
      "\u001b[34m\u001b[1mtrain: \u001b[0mWARNING  C:\\Users\\MinKyu\\Desktop\\practice_data\\train\\images\\129_jpg.rf.67afb7bc5720e2c6282e3b55df8185b9.jpg: 2 duplicate labels removed\n",
      "\u001b[34m\u001b[1mtrain: \u001b[0mWARNING  C:\\Users\\MinKyu\\Desktop\\practice_data\\train\\images\\129_jpg.rf.79d2a1a4dacd49769720fe66a9ba5f73.jpg: 2 duplicate labels removed\n",
      "\u001b[34m\u001b[1mtrain: \u001b[0mWARNING  C:\\Users\\MinKyu\\Desktop\\practice_data\\train\\images\\129_jpg.rf.839fcb048944effc5667bcc927b94030.jpg: 2 duplicate labels removed\n",
      "\u001b[34m\u001b[1mtrain: \u001b[0mWARNING  C:\\Users\\MinKyu\\Desktop\\practice_data\\train\\images\\129_jpg.rf.bd2ae6484ee60ae0717cede36dfd8c08.jpg: 2 duplicate labels removed\n",
      "\u001b[34m\u001b[1mtrain: \u001b[0mWARNING  C:\\Users\\MinKyu\\Desktop\\practice_data\\train\\images\\133_jpg.rf.357c8e4c17900f3c2694da3db504ed28.jpg: 2 duplicate labels removed\n",
      "\u001b[34m\u001b[1mtrain: \u001b[0mWARNING  C:\\Users\\MinKyu\\Desktop\\practice_data\\train\\images\\133_jpg.rf.5cefa740b1caaf78c3cdf83d5c89939e.jpg: 2 duplicate labels removed\n",
      "\u001b[34m\u001b[1mtrain: \u001b[0mWARNING  C:\\Users\\MinKyu\\Desktop\\practice_data\\train\\images\\133_jpg.rf.7f512f802949ec00f757cc855f7fd625.jpg: 2 duplicate labels removed\n",
      "\u001b[34m\u001b[1mtrain: \u001b[0mWARNING  C:\\Users\\MinKyu\\Desktop\\practice_data\\train\\images\\133_jpg.rf.dad882bc481cc259fb25d500f18f3317.jpg: 2 duplicate labels removed\n",
      "\u001b[34m\u001b[1mtrain: \u001b[0mWARNING  C:\\Users\\MinKyu\\Desktop\\practice_data\\train\\images\\135_jpg.rf.0b4ecceb12780e23757ff3dc76d6c61c.jpg: 2 duplicate labels removed\n",
      "\u001b[34m\u001b[1mtrain: \u001b[0mWARNING  C:\\Users\\MinKyu\\Desktop\\practice_data\\train\\images\\135_jpg.rf.383a2e5308668c0e5133ee494688ff2a.jpg: 2 duplicate labels removed\n",
      "\u001b[34m\u001b[1mtrain: \u001b[0mWARNING  C:\\Users\\MinKyu\\Desktop\\practice_data\\train\\images\\135_jpg.rf.6a5e8d83f9465f1af09ed7a9ceb1d323.jpg: 2 duplicate labels removed\n",
      "\u001b[34m\u001b[1mtrain: \u001b[0mWARNING  C:\\Users\\MinKyu\\Desktop\\practice_data\\train\\images\\135_jpg.rf.a07ef24dc128999edfa4801c25ccc14b.jpg: 2 duplicate labels removed\n",
      "\u001b[34m\u001b[1mtrain: \u001b[0mWARNING  C:\\Users\\MinKyu\\Desktop\\practice_data\\train\\images\\135_jpg.rf.aee380e9b7180e80e75ebb69bd2ba85f.jpg: 2 duplicate labels removed\n",
      "\u001b[34m\u001b[1mtrain: \u001b[0mWARNING  C:\\Users\\MinKyu\\Desktop\\practice_data\\train\\images\\135_jpg.rf.fe5126f45abec78fc7d8501e98a0c610.jpg: 2 duplicate labels removed\n",
      "\u001b[34m\u001b[1mtrain: \u001b[0mWARNING  C:\\Users\\MinKyu\\Desktop\\practice_data\\train\\images\\143_jpg.rf.1dd7aad8337ec65969300d7bb0a252f0.jpg: 2 duplicate labels removed\n",
      "\u001b[34m\u001b[1mtrain: \u001b[0mWARNING  C:\\Users\\MinKyu\\Desktop\\practice_data\\train\\images\\143_jpg.rf.4e20834bb96fb014c0497a7b9356bca5.jpg: 2 duplicate labels removed\n",
      "\u001b[34m\u001b[1mtrain: \u001b[0mWARNING  C:\\Users\\MinKyu\\Desktop\\practice_data\\train\\images\\143_jpg.rf.75432e02da8e3fbd94e05cff8d755b59.jpg: 2 duplicate labels removed\n",
      "\u001b[34m\u001b[1mtrain: \u001b[0mWARNING  C:\\Users\\MinKyu\\Desktop\\practice_data\\train\\images\\143_jpg.rf.9a62aa969eecffb764814c9d2a78ad3c.jpg: 2 duplicate labels removed\n",
      "\u001b[34m\u001b[1mtrain: \u001b[0mWARNING  C:\\Users\\MinKyu\\Desktop\\practice_data\\train\\images\\143_jpg.rf.9c6bb0ec414741f18812f56cfd632629.jpg: 2 duplicate labels removed\n",
      "\u001b[34m\u001b[1mtrain: \u001b[0mWARNING  C:\\Users\\MinKyu\\Desktop\\practice_data\\train\\images\\143_jpg.rf.9f1f882e16a2c7fc2e5d15a2cd0e5ca4.jpg: 2 duplicate labels removed\n",
      "\u001b[34m\u001b[1mtrain: \u001b[0mWARNING  C:\\Users\\MinKyu\\Desktop\\practice_data\\train\\images\\146_jpg.rf.076f6b4a87abb5ad67647138696053b1.jpg: 2 duplicate labels removed\n",
      "\u001b[34m\u001b[1mtrain: \u001b[0mWARNING  C:\\Users\\MinKyu\\Desktop\\practice_data\\train\\images\\146_jpg.rf.2b8e6cf0f08b49d5aada96a5fe8d1c93.jpg: 2 duplicate labels removed\n",
      "\u001b[34m\u001b[1mtrain: \u001b[0mWARNING  C:\\Users\\MinKyu\\Desktop\\practice_data\\train\\images\\146_jpg.rf.66d9290cdf43d4c8928409b87010d103.jpg: 2 duplicate labels removed\n",
      "\u001b[34m\u001b[1mtrain: \u001b[0mWARNING  C:\\Users\\MinKyu\\Desktop\\practice_data\\train\\images\\146_jpg.rf.7a355ced1c78f3a8cc0397e5786f3fe2.jpg: 2 duplicate labels removed\n",
      "\u001b[34m\u001b[1mtrain: \u001b[0mWARNING  C:\\Users\\MinKyu\\Desktop\\practice_data\\train\\images\\146_jpg.rf.a7b8264ddf38d6e32b790d01ce7951ee.jpg: 2 duplicate labels removed\n",
      "\u001b[34m\u001b[1mtrain: \u001b[0mWARNING  C:\\Users\\MinKyu\\Desktop\\practice_data\\train\\images\\146_jpg.rf.aa87a2a0c478fdb2722ce66a65038b81.jpg: 2 duplicate labels removed\n",
      "\u001b[34m\u001b[1mtrain: \u001b[0mWARNING  C:\\Users\\MinKyu\\Desktop\\practice_data\\train\\images\\146_jpg.rf.ad294a8673f4fcf2934871321c5cd138.jpg: 2 duplicate labels removed\n",
      "\u001b[34m\u001b[1mtrain: \u001b[0mWARNING  C:\\Users\\MinKyu\\Desktop\\practice_data\\train\\images\\146_jpg.rf.f909d1bf41340e62d69cb32d19edaae2.jpg: 2 duplicate labels removed\n",
      "\u001b[34m\u001b[1mtrain: \u001b[0mWARNING  C:\\Users\\MinKyu\\Desktop\\practice_data\\train\\images\\149_jpg.rf.39dc78782f78ce869c0ceb251f7f7a98.jpg: 2 duplicate labels removed\n",
      "\u001b[34m\u001b[1mtrain: \u001b[0mWARNING  C:\\Users\\MinKyu\\Desktop\\practice_data\\train\\images\\149_jpg.rf.612af9811368000ffa83e776fa0d095e.jpg: 2 duplicate labels removed\n",
      "\u001b[34m\u001b[1mtrain: \u001b[0mWARNING  C:\\Users\\MinKyu\\Desktop\\practice_data\\train\\images\\149_jpg.rf.67139c6777fcb96f01ea3e9accd051d5.jpg: 2 duplicate labels removed\n",
      "\u001b[34m\u001b[1mtrain: \u001b[0mWARNING  C:\\Users\\MinKyu\\Desktop\\practice_data\\train\\images\\149_jpg.rf.87aa380b028f83654ce9624f824cef88.jpg: 2 duplicate labels removed\n",
      "\u001b[34m\u001b[1mtrain: \u001b[0mWARNING  C:\\Users\\MinKyu\\Desktop\\practice_data\\train\\images\\149_jpg.rf.92e6e40b4557e203ed577e08368eb0ca.jpg: 2 duplicate labels removed\n",
      "\u001b[34m\u001b[1mtrain: \u001b[0mWARNING  C:\\Users\\MinKyu\\Desktop\\practice_data\\train\\images\\149_jpg.rf.c12e4ef668cde3a316154a56b3bcb571.jpg: 2 duplicate labels removed\n",
      "\u001b[34m\u001b[1mtrain: \u001b[0mWARNING  C:\\Users\\MinKyu\\Desktop\\practice_data\\train\\images\\149_jpg.rf.fc5967a6641a0b52b75ec830d1862e28.jpg: 2 duplicate labels removed\n",
      "\u001b[34m\u001b[1mtrain: \u001b[0mWARNING  C:\\Users\\MinKyu\\Desktop\\practice_data\\train\\images\\156_jpg.rf.3325a4f837221b8fb54166a6755df8bc.jpg: 2 duplicate labels removed\n",
      "\u001b[34m\u001b[1mtrain: \u001b[0mWARNING  C:\\Users\\MinKyu\\Desktop\\practice_data\\train\\images\\156_jpg.rf.48f55ff7efd180d8884233c50f7d9d3f.jpg: 2 duplicate labels removed\n",
      "\u001b[34m\u001b[1mtrain: \u001b[0mWARNING  C:\\Users\\MinKyu\\Desktop\\practice_data\\train\\images\\156_jpg.rf.4f8fb82ff04699a37727e8a0dff168ba.jpg: 2 duplicate labels removed\n",
      "\u001b[34m\u001b[1mtrain: \u001b[0mWARNING  C:\\Users\\MinKyu\\Desktop\\practice_data\\train\\images\\156_jpg.rf.724cf7701c597429017517b9f6745628.jpg: 2 duplicate labels removed\n",
      "\u001b[34m\u001b[1mtrain: \u001b[0mWARNING  C:\\Users\\MinKyu\\Desktop\\practice_data\\train\\images\\156_jpg.rf.a3982c9d51a7ee11b1c7f38669b92c2f.jpg: 2 duplicate labels removed\n",
      "\u001b[34m\u001b[1mtrain: \u001b[0mWARNING  C:\\Users\\MinKyu\\Desktop\\practice_data\\train\\images\\156_jpg.rf.e26635ba648ee9a0dcfd671822a9cd8b.jpg: 2 duplicate labels removed\n",
      "\u001b[34m\u001b[1mtrain: \u001b[0mWARNING  C:\\Users\\MinKyu\\Desktop\\practice_data\\train\\images\\159_jpg.rf.1c400f32effe4343dfd3f3eddf88f35a.jpg: 2 duplicate labels removed\n",
      "\u001b[34m\u001b[1mtrain: \u001b[0mWARNING  C:\\Users\\MinKyu\\Desktop\\practice_data\\train\\images\\159_jpg.rf.699e450f9617bffb9daffbc0fbee2969.jpg: 2 duplicate labels removed\n",
      "\u001b[34m\u001b[1mtrain: \u001b[0mWARNING  C:\\Users\\MinKyu\\Desktop\\practice_data\\train\\images\\159_jpg.rf.9c503c1dcbc3e0f00a3596d42e7eb692.jpg: 2 duplicate labels removed\n",
      "\u001b[34m\u001b[1mtrain: \u001b[0mWARNING  C:\\Users\\MinKyu\\Desktop\\practice_data\\train\\images\\159_jpg.rf.b1a589dc61a5c51d8851c220d0207a4f.jpg: 2 duplicate labels removed\n",
      "\u001b[34m\u001b[1mtrain: \u001b[0mWARNING  C:\\Users\\MinKyu\\Desktop\\practice_data\\train\\images\\159_jpg.rf.d3bba15935e7a86570937d8a3298ec5a.jpg: 2 duplicate labels removed\n",
      "\u001b[34m\u001b[1mtrain: \u001b[0mWARNING  C:\\Users\\MinKyu\\Desktop\\practice_data\\train\\images\\162_jpg.rf.0ceb1c613ed07b350373227ac8b3b01e.jpg: 2 duplicate labels removed\n",
      "\u001b[34m\u001b[1mtrain: \u001b[0mWARNING  C:\\Users\\MinKyu\\Desktop\\practice_data\\train\\images\\162_jpg.rf.24ccfc55ade6506725408bbac9be7690.jpg: 2 duplicate labels removed\n",
      "\u001b[34m\u001b[1mtrain: \u001b[0mWARNING  C:\\Users\\MinKyu\\Desktop\\practice_data\\train\\images\\162_jpg.rf.56bfc7d80b7cc2861bf23dd9a8467b8b.jpg: 2 duplicate labels removed\n",
      "\u001b[34m\u001b[1mtrain: \u001b[0mWARNING  C:\\Users\\MinKyu\\Desktop\\practice_data\\train\\images\\162_jpg.rf.72a374a3b6cb1abe80e28e7949994a37.jpg: 2 duplicate labels removed\n",
      "\u001b[34m\u001b[1mtrain: \u001b[0mWARNING  C:\\Users\\MinKyu\\Desktop\\practice_data\\train\\images\\162_jpg.rf.7ccf7dd76695354a87ffb8ba3c0a8794.jpg: 2 duplicate labels removed\n",
      "\u001b[34m\u001b[1mtrain: \u001b[0mWARNING  C:\\Users\\MinKyu\\Desktop\\practice_data\\train\\images\\162_jpg.rf.a67f5527edf0a84ef265f782918e093a.jpg: 2 duplicate labels removed\n",
      "\u001b[34m\u001b[1mtrain: \u001b[0mWARNING  C:\\Users\\MinKyu\\Desktop\\practice_data\\train\\images\\162_jpg.rf.d38c61ccedf6df36716fb8d8abee1214.jpg: 2 duplicate labels removed\n",
      "\u001b[34m\u001b[1mtrain: \u001b[0mWARNING  C:\\Users\\MinKyu\\Desktop\\practice_data\\train\\images\\162_jpg.rf.ff88efde4689a876fed65895eaa4bfcc.jpg: 2 duplicate labels removed\n",
      "\u001b[34m\u001b[1mtrain: \u001b[0mWARNING  C:\\Users\\MinKyu\\Desktop\\practice_data\\train\\images\\166_jpg.rf.03e51c9a8a87a6fb34921b74115e9441.jpg: 2 duplicate labels removed\n",
      "\u001b[34m\u001b[1mtrain: \u001b[0mWARNING  C:\\Users\\MinKyu\\Desktop\\practice_data\\train\\images\\166_jpg.rf.122a7e34d7ab86be6bfa5d5d39af17d0.jpg: 2 duplicate labels removed\n",
      "\u001b[34m\u001b[1mtrain: \u001b[0mWARNING  C:\\Users\\MinKyu\\Desktop\\practice_data\\train\\images\\166_jpg.rf.696c9cf1d0e7f53f6ca655e537410496.jpg: 2 duplicate labels removed\n",
      "\u001b[34m\u001b[1mtrain: \u001b[0mWARNING  C:\\Users\\MinKyu\\Desktop\\practice_data\\train\\images\\166_jpg.rf.9a50925723e840b2d9d56bd354a4a895.jpg: 2 duplicate labels removed\n",
      "\u001b[34m\u001b[1mtrain: \u001b[0mWARNING  C:\\Users\\MinKyu\\Desktop\\practice_data\\train\\images\\166_jpg.rf.c7ed44aac14c026f8a0405a24ec5a1dd.jpg: 2 duplicate labels removed\n",
      "\u001b[34m\u001b[1mtrain: \u001b[0mWARNING  C:\\Users\\MinKyu\\Desktop\\practice_data\\train\\images\\16_jpg.rf.09ab6762623e0ba62423714d15fdf6b8.jpg: 2 duplicate labels removed\n",
      "\u001b[34m\u001b[1mtrain: \u001b[0mWARNING  C:\\Users\\MinKyu\\Desktop\\practice_data\\train\\images\\16_jpg.rf.1cb9bb5ab384b077224e610d0c58c91b.jpg: 2 duplicate labels removed\n",
      "\u001b[34m\u001b[1mtrain: \u001b[0mWARNING  C:\\Users\\MinKyu\\Desktop\\practice_data\\train\\images\\16_jpg.rf.305db67ca918f203c3eed537d2c263ea.jpg: 2 duplicate labels removed\n",
      "\u001b[34m\u001b[1mtrain: \u001b[0mWARNING  C:\\Users\\MinKyu\\Desktop\\practice_data\\train\\images\\16_jpg.rf.31b3909fa02e22e45981ebd3357c90f6.jpg: 2 duplicate labels removed\n",
      "\u001b[34m\u001b[1mtrain: \u001b[0mWARNING  C:\\Users\\MinKyu\\Desktop\\practice_data\\train\\images\\16_jpg.rf.a6772b17eb5706c315aba041dc743162.jpg: 2 duplicate labels removed\n",
      "\u001b[34m\u001b[1mtrain: \u001b[0mWARNING  C:\\Users\\MinKyu\\Desktop\\practice_data\\train\\images\\16_jpg.rf.cf132235da80d37376406af07a369a2b.jpg: 2 duplicate labels removed\n",
      "\u001b[34m\u001b[1mtrain: \u001b[0mWARNING  C:\\Users\\MinKyu\\Desktop\\practice_data\\train\\images\\16_jpg.rf.dac2b1c56c1a6631641d379a2fd28f93.jpg: 2 duplicate labels removed\n",
      "\u001b[34m\u001b[1mtrain: \u001b[0mWARNING  C:\\Users\\MinKyu\\Desktop\\practice_data\\train\\images\\16_jpg.rf.f538e47492692c6c3b387ee9698e64da.jpg: 2 duplicate labels removed\n",
      "\u001b[34m\u001b[1mtrain: \u001b[0mWARNING  C:\\Users\\MinKyu\\Desktop\\practice_data\\train\\images\\172_jpg.rf.00a2a6d986efc0a1ebc46a82b2b2eba4.jpg: 2 duplicate labels removed\n",
      "\u001b[34m\u001b[1mtrain: \u001b[0mWARNING  C:\\Users\\MinKyu\\Desktop\\practice_data\\train\\images\\172_jpg.rf.08a79e18341e0219f53cee9f7405984d.jpg: 2 duplicate labels removed\n",
      "\u001b[34m\u001b[1mtrain: \u001b[0mWARNING  C:\\Users\\MinKyu\\Desktop\\practice_data\\train\\images\\172_jpg.rf.0ac94aa7d89a1ec1a49b38f357133273.jpg: 2 duplicate labels removed\n",
      "\u001b[34m\u001b[1mtrain: \u001b[0mWARNING  C:\\Users\\MinKyu\\Desktop\\practice_data\\train\\images\\172_jpg.rf.23a1984049b01aa73fbbfa08f374fc1c.jpg: 2 duplicate labels removed\n",
      "\u001b[34m\u001b[1mtrain: \u001b[0mWARNING  C:\\Users\\MinKyu\\Desktop\\practice_data\\train\\images\\172_jpg.rf.43efa7ab48f05cf4ac47d32ad9f83d24.jpg: 2 duplicate labels removed\n",
      "\u001b[34m\u001b[1mtrain: \u001b[0mWARNING  C:\\Users\\MinKyu\\Desktop\\practice_data\\train\\images\\172_jpg.rf.5446e8fea6d974ed953c512b249ae7de.jpg: 2 duplicate labels removed\n",
      "\u001b[34m\u001b[1mtrain: \u001b[0mWARNING  C:\\Users\\MinKyu\\Desktop\\practice_data\\train\\images\\172_jpg.rf.76e0d111d21eeb8b333f968174b240e1.jpg: 2 duplicate labels removed\n",
      "\u001b[34m\u001b[1mtrain: \u001b[0mWARNING  C:\\Users\\MinKyu\\Desktop\\practice_data\\train\\images\\176_jpg.rf.027c8d480bbebb44cb64e4fb4756275a.jpg: 2 duplicate labels removed\n",
      "\u001b[34m\u001b[1mtrain: \u001b[0mWARNING  C:\\Users\\MinKyu\\Desktop\\practice_data\\train\\images\\176_jpg.rf.1a69cfabedde81663777c0576b0d5b7a.jpg: 2 duplicate labels removed\n",
      "\u001b[34m\u001b[1mtrain: \u001b[0mWARNING  C:\\Users\\MinKyu\\Desktop\\practice_data\\train\\images\\176_jpg.rf.3a8f8af56a3eab0c94c1c0c6a8c0c601.jpg: 2 duplicate labels removed\n",
      "\u001b[34m\u001b[1mtrain: \u001b[0mWARNING  C:\\Users\\MinKyu\\Desktop\\practice_data\\train\\images\\176_jpg.rf.5be8b55c46efe964a79f88e15067bb70.jpg: 2 duplicate labels removed\n",
      "\u001b[34m\u001b[1mtrain: \u001b[0mWARNING  C:\\Users\\MinKyu\\Desktop\\practice_data\\train\\images\\176_jpg.rf.73c57b2c40b31e969aed5336634d9738.jpg: 2 duplicate labels removed\n",
      "\u001b[34m\u001b[1mtrain: \u001b[0mWARNING  C:\\Users\\MinKyu\\Desktop\\practice_data\\train\\images\\176_jpg.rf.aa45966c520a3a663df24dbe889a9a8f.jpg: 2 duplicate labels removed\n",
      "\u001b[34m\u001b[1mtrain: \u001b[0mWARNING  C:\\Users\\MinKyu\\Desktop\\practice_data\\train\\images\\176_jpg.rf.efa316738e294192044daad408be1405.jpg: 2 duplicate labels removed\n",
      "\u001b[34m\u001b[1mtrain: \u001b[0mWARNING  C:\\Users\\MinKyu\\Desktop\\practice_data\\train\\images\\180_jpg.rf.010237eae6c5507c7c73e400b08e3f6b.jpg: 2 duplicate labels removed\n",
      "\u001b[34m\u001b[1mtrain: \u001b[0mWARNING  C:\\Users\\MinKyu\\Desktop\\practice_data\\train\\images\\180_jpg.rf.3312a737566032ec22384618961ea0d9.jpg: 2 duplicate labels removed\n",
      "\u001b[34m\u001b[1mtrain: \u001b[0mWARNING  C:\\Users\\MinKyu\\Desktop\\practice_data\\train\\images\\180_jpg.rf.63b98765ae3e58ada7ec3ee3504d4f7d.jpg: 2 duplicate labels removed\n",
      "\u001b[34m\u001b[1mtrain: \u001b[0mWARNING  C:\\Users\\MinKyu\\Desktop\\practice_data\\train\\images\\180_jpg.rf.d4b7a0a18f11e9c9b355f0292aa53221.jpg: 2 duplicate labels removed\n",
      "\u001b[34m\u001b[1mtrain: \u001b[0mWARNING  C:\\Users\\MinKyu\\Desktop\\practice_data\\train\\images\\183_jpg.rf.0fa94d5eec8c284931fe9b7a791b1d4a.jpg: 2 duplicate labels removed\n",
      "\u001b[34m\u001b[1mtrain: \u001b[0mWARNING  C:\\Users\\MinKyu\\Desktop\\practice_data\\train\\images\\183_jpg.rf.102aa749336f39d317a4d020d619571a.jpg: 2 duplicate labels removed\n",
      "\u001b[34m\u001b[1mtrain: \u001b[0mWARNING  C:\\Users\\MinKyu\\Desktop\\practice_data\\train\\images\\183_jpg.rf.82ad331f62d326158eea9ffead7daf97.jpg: 2 duplicate labels removed\n",
      "\u001b[34m\u001b[1mtrain: \u001b[0mWARNING  C:\\Users\\MinKyu\\Desktop\\practice_data\\train\\images\\183_jpg.rf.8ae2983a276fba67d757e0e5269ac9b6.jpg: 2 duplicate labels removed\n",
      "\u001b[34m\u001b[1mtrain: \u001b[0mWARNING  C:\\Users\\MinKyu\\Desktop\\practice_data\\train\\images\\183_jpg.rf.9609f401f2548551b42beb040c18730a.jpg: 2 duplicate labels removed\n",
      "\u001b[34m\u001b[1mtrain: \u001b[0mWARNING  C:\\Users\\MinKyu\\Desktop\\practice_data\\train\\images\\183_jpg.rf.c684f145f470e82904689d7bf6d56857.jpg: 2 duplicate labels removed\n",
      "\u001b[34m\u001b[1mtrain: \u001b[0mWARNING  C:\\Users\\MinKyu\\Desktop\\practice_data\\train\\images\\183_jpg.rf.e154f13ad7e2713b398337c5404bfc6c.jpg: 2 duplicate labels removed\n",
      "\u001b[34m\u001b[1mtrain: \u001b[0mWARNING  C:\\Users\\MinKyu\\Desktop\\practice_data\\train\\images\\183_jpg.rf.f00758ac4de49888f4cfb6d1642d26b7.jpg: 2 duplicate labels removed\n",
      "\u001b[34m\u001b[1mtrain: \u001b[0mWARNING  C:\\Users\\MinKyu\\Desktop\\practice_data\\train\\images\\188_jpg.rf.01390a3986a6a64e06690286cbf016a4.jpg: 2 duplicate labels removed\n",
      "\u001b[34m\u001b[1mtrain: \u001b[0mWARNING  C:\\Users\\MinKyu\\Desktop\\practice_data\\train\\images\\188_jpg.rf.11bb2d2ca6e1c1759255beb14440eade.jpg: 2 duplicate labels removed\n",
      "\u001b[34m\u001b[1mtrain: \u001b[0mWARNING  C:\\Users\\MinKyu\\Desktop\\practice_data\\train\\images\\188_jpg.rf.1aec809545c22b15811c2f3335953d42.jpg: 2 duplicate labels removed\n",
      "\u001b[34m\u001b[1mtrain: \u001b[0mWARNING  C:\\Users\\MinKyu\\Desktop\\practice_data\\train\\images\\188_jpg.rf.51e7df62f1a5c19bd62ccb0de52867ad.jpg: 2 duplicate labels removed\n",
      "\u001b[34m\u001b[1mtrain: \u001b[0mWARNING  C:\\Users\\MinKyu\\Desktop\\practice_data\\train\\images\\188_jpg.rf.de1387ce8f3bfa0ea5949d67fcf91ee1.jpg: 2 duplicate labels removed\n",
      "\u001b[34m\u001b[1mtrain: \u001b[0mWARNING  C:\\Users\\MinKyu\\Desktop\\practice_data\\train\\images\\188_jpg.rf.ecb6e02d8cdff93aad99690e34560d51.jpg: 2 duplicate labels removed\n",
      "\u001b[34m\u001b[1mtrain: \u001b[0mWARNING  C:\\Users\\MinKyu\\Desktop\\practice_data\\train\\images\\18_jpg.rf.b04c9697d0694b800dddfacd1d9bbc15.jpg: 2 duplicate labels removed\n",
      "\u001b[34m\u001b[1mtrain: \u001b[0mWARNING  C:\\Users\\MinKyu\\Desktop\\practice_data\\train\\images\\18_jpg.rf.efca1433df8793c62e4b3c192923001e.jpg: 2 duplicate labels removed\n",
      "\u001b[34m\u001b[1mtrain: \u001b[0mWARNING  C:\\Users\\MinKyu\\Desktop\\practice_data\\train\\images\\18_jpg.rf.fbe644c049c2f38a8654132aee04ab72.jpg: 2 duplicate labels removed\n",
      "\u001b[34m\u001b[1mtrain: \u001b[0mWARNING  C:\\Users\\MinKyu\\Desktop\\practice_data\\train\\images\\192_jpg.rf.0263014b614044ca360873acd9818876.jpg: 2 duplicate labels removed\n",
      "\u001b[34m\u001b[1mtrain: \u001b[0mWARNING  C:\\Users\\MinKyu\\Desktop\\practice_data\\train\\images\\192_jpg.rf.054622231ec7929ac834ad726ea53f8d.jpg: 2 duplicate labels removed\n",
      "\u001b[34m\u001b[1mtrain: \u001b[0mWARNING  C:\\Users\\MinKyu\\Desktop\\practice_data\\train\\images\\192_jpg.rf.0f3d47be8e29c7ac7dbd33cf1e55708d.jpg: 2 duplicate labels removed\n",
      "\u001b[34m\u001b[1mtrain: \u001b[0mWARNING  C:\\Users\\MinKyu\\Desktop\\practice_data\\train\\images\\192_jpg.rf.266aec4006d704f35a621ee50dc2d723.jpg: 2 duplicate labels removed\n",
      "\u001b[34m\u001b[1mtrain: \u001b[0mWARNING  C:\\Users\\MinKyu\\Desktop\\practice_data\\train\\images\\192_jpg.rf.48e5ee8f8ea02989eb199617bafda718.jpg: 2 duplicate labels removed\n",
      "\u001b[34m\u001b[1mtrain: \u001b[0mWARNING  C:\\Users\\MinKyu\\Desktop\\practice_data\\train\\images\\192_jpg.rf.591f321c6d317d5e3fbb5aa889e0c0da.jpg: 2 duplicate labels removed\n",
      "\u001b[34m\u001b[1mtrain: \u001b[0mWARNING  C:\\Users\\MinKyu\\Desktop\\practice_data\\train\\images\\192_jpg.rf.993ebf192d1a93b44540c083c2924d15.jpg: 2 duplicate labels removed\n",
      "\u001b[34m\u001b[1mtrain: \u001b[0mWARNING  C:\\Users\\MinKyu\\Desktop\\practice_data\\train\\images\\192_jpg.rf.bd6f610c083edcb0b5ea2fc191e8c494.jpg: 2 duplicate labels removed\n",
      "\u001b[34m\u001b[1mtrain: \u001b[0mWARNING  C:\\Users\\MinKyu\\Desktop\\practice_data\\train\\images\\192_jpg.rf.ca86e418750273a70dce772e5bfa25e0.jpg: 2 duplicate labels removed\n",
      "\u001b[34m\u001b[1mtrain: \u001b[0mWARNING  C:\\Users\\MinKyu\\Desktop\\practice_data\\train\\images\\197_jpg.rf.22ab0946e8cbfb7bf2dffa84f495a551.jpg: 2 duplicate labels removed\n",
      "\u001b[34m\u001b[1mtrain: \u001b[0mWARNING  C:\\Users\\MinKyu\\Desktop\\practice_data\\train\\images\\197_jpg.rf.29338c61a5218dc39f54cb86db29d06b.jpg: 2 duplicate labels removed\n",
      "\u001b[34m\u001b[1mtrain: \u001b[0mWARNING  C:\\Users\\MinKyu\\Desktop\\practice_data\\train\\images\\197_jpg.rf.41746e610efa13ba29ed72d96638fca6.jpg: 2 duplicate labels removed\n",
      "\u001b[34m\u001b[1mtrain: \u001b[0mWARNING  C:\\Users\\MinKyu\\Desktop\\practice_data\\train\\images\\197_jpg.rf.4d7a728b6b2d76af5bf3daf01567f446.jpg: 2 duplicate labels removed\n",
      "\u001b[34m\u001b[1mtrain: \u001b[0mWARNING  C:\\Users\\MinKyu\\Desktop\\practice_data\\train\\images\\197_jpg.rf.aafedad9ac1c577b97fb1d22ff477a3d.jpg: 2 duplicate labels removed\n",
      "\u001b[34m\u001b[1mtrain: \u001b[0mWARNING  C:\\Users\\MinKyu\\Desktop\\practice_data\\train\\images\\197_jpg.rf.dd5e01a0df160ec9c0eaa32455b020bf.jpg: 2 duplicate labels removed\n",
      "\u001b[34m\u001b[1mtrain: \u001b[0mWARNING  C:\\Users\\MinKyu\\Desktop\\practice_data\\train\\images\\19_jpg.rf.0f2e91f05ff79de57ba9ac891fb258ac.jpg: 2 duplicate labels removed\n",
      "\u001b[34m\u001b[1mtrain: \u001b[0mWARNING  C:\\Users\\MinKyu\\Desktop\\practice_data\\train\\images\\19_jpg.rf.5f82138a58288e93f2025116917f9e13.jpg: 2 duplicate labels removed\n",
      "\u001b[34m\u001b[1mtrain: \u001b[0mWARNING  C:\\Users\\MinKyu\\Desktop\\practice_data\\train\\images\\19_jpg.rf.6f117d070a592e2d9a8b1f430a9592ba.jpg: 2 duplicate labels removed\n",
      "\u001b[34m\u001b[1mtrain: \u001b[0mWARNING  C:\\Users\\MinKyu\\Desktop\\practice_data\\train\\images\\19_jpg.rf.77acc135392c360c5f8b72ddc765bfe4.jpg: 2 duplicate labels removed\n",
      "\u001b[34m\u001b[1mtrain: \u001b[0mWARNING  C:\\Users\\MinKyu\\Desktop\\practice_data\\train\\images\\19_jpg.rf.7e7554fd8fc086d89707353bd40a988f.jpg: 2 duplicate labels removed\n",
      "\u001b[34m\u001b[1mtrain: \u001b[0mWARNING  C:\\Users\\MinKyu\\Desktop\\practice_data\\train\\images\\19_jpg.rf.9aca4e449935431f379ab62e809a5336.jpg: 2 duplicate labels removed\n",
      "\u001b[34m\u001b[1mtrain: \u001b[0mWARNING  C:\\Users\\MinKyu\\Desktop\\practice_data\\train\\images\\19_jpg.rf.d888eed8267050dafc072266c5403872.jpg: 2 duplicate labels removed\n",
      "\u001b[34m\u001b[1mtrain: \u001b[0mWARNING  C:\\Users\\MinKyu\\Desktop\\practice_data\\train\\images\\19_jpg.rf.db67845546cc7aef76aff7f5c2776341.jpg: 2 duplicate labels removed\n",
      "\u001b[34m\u001b[1mtrain: \u001b[0mWARNING  C:\\Users\\MinKyu\\Desktop\\practice_data\\train\\images\\19_jpg.rf.e698dfa328932cf6bbabbfb2b74528f1.jpg: 2 duplicate labels removed\n",
      "\u001b[34m\u001b[1mtrain: \u001b[0mWARNING  C:\\Users\\MinKyu\\Desktop\\practice_data\\train\\images\\201_jpg.rf.07672c2376778f63e3899288017e8197.jpg: 2 duplicate labels removed\n",
      "\u001b[34m\u001b[1mtrain: \u001b[0mWARNING  C:\\Users\\MinKyu\\Desktop\\practice_data\\train\\images\\201_jpg.rf.4ae2dc8582112b68407a4d30185cf5c1.jpg: 2 duplicate labels removed\n",
      "\u001b[34m\u001b[1mtrain: \u001b[0mWARNING  C:\\Users\\MinKyu\\Desktop\\practice_data\\train\\images\\201_jpg.rf.5db193880094180f19505e462455f7f3.jpg: 2 duplicate labels removed\n",
      "\u001b[34m\u001b[1mtrain: \u001b[0mWARNING  C:\\Users\\MinKyu\\Desktop\\practice_data\\train\\images\\201_jpg.rf.6647c12e03bd5c1e8044d3759460394d.jpg: 2 duplicate labels removed\n",
      "\u001b[34m\u001b[1mtrain: \u001b[0mWARNING  C:\\Users\\MinKyu\\Desktop\\practice_data\\train\\images\\201_jpg.rf.d61094948d2d5fbf242e7fbd382498c0.jpg: 2 duplicate labels removed\n",
      "\u001b[34m\u001b[1mtrain: \u001b[0mWARNING  C:\\Users\\MinKyu\\Desktop\\practice_data\\train\\images\\201_jpg.rf.f573b6c6cb88b27d4707e7962d4700a7.jpg: 2 duplicate labels removed\n",
      "\u001b[34m\u001b[1mtrain: \u001b[0mWARNING  C:\\Users\\MinKyu\\Desktop\\practice_data\\train\\images\\201_jpg.rf.fee41d6e649c84ebe87bef4db85d6fb7.jpg: 2 duplicate labels removed\n",
      "\u001b[34m\u001b[1mtrain: \u001b[0mWARNING  C:\\Users\\MinKyu\\Desktop\\practice_data\\train\\images\\203_jpg.rf.070869cc31304088b41d40a438ed8ec8.jpg: 2 duplicate labels removed\n",
      "\u001b[34m\u001b[1mtrain: \u001b[0mWARNING  C:\\Users\\MinKyu\\Desktop\\practice_data\\train\\images\\203_jpg.rf.21c570f8e271b1a08bf23ed4926bee06.jpg: 2 duplicate labels removed\n",
      "\u001b[34m\u001b[1mtrain: \u001b[0mWARNING  C:\\Users\\MinKyu\\Desktop\\practice_data\\train\\images\\203_jpg.rf.2fe16cb3ffef987f171694aeddb7e87d.jpg: 2 duplicate labels removed\n",
      "\u001b[34m\u001b[1mtrain: \u001b[0mWARNING  C:\\Users\\MinKyu\\Desktop\\practice_data\\train\\images\\203_jpg.rf.5cd763e7574f81b830f7934f0981048c.jpg: 2 duplicate labels removed\n",
      "\u001b[34m\u001b[1mtrain: \u001b[0mWARNING  C:\\Users\\MinKyu\\Desktop\\practice_data\\train\\images\\203_jpg.rf.6d08997a5f22b98df08ccfc85aeb0af1.jpg: 2 duplicate labels removed\n",
      "\u001b[34m\u001b[1mtrain: \u001b[0mWARNING  C:\\Users\\MinKyu\\Desktop\\practice_data\\train\\images\\203_jpg.rf.76e9eb19e7951b42a1293880d1525db4.jpg: 2 duplicate labels removed\n",
      "\u001b[34m\u001b[1mtrain: \u001b[0mWARNING  C:\\Users\\MinKyu\\Desktop\\practice_data\\train\\images\\203_jpg.rf.df5566f0906dc461c7d6a704fb84cefc.jpg: 2 duplicate labels removed\n",
      "\u001b[34m\u001b[1mtrain: \u001b[0mWARNING  C:\\Users\\MinKyu\\Desktop\\practice_data\\train\\images\\204_jpg.rf.06c44c6ece726db71192a0f519278b66.jpg: 2 duplicate labels removed\n",
      "\u001b[34m\u001b[1mtrain: \u001b[0mWARNING  C:\\Users\\MinKyu\\Desktop\\practice_data\\train\\images\\204_jpg.rf.0723209162e67437e3e233fcad36caaa.jpg: 2 duplicate labels removed\n",
      "\u001b[34m\u001b[1mtrain: \u001b[0mWARNING  C:\\Users\\MinKyu\\Desktop\\practice_data\\train\\images\\204_jpg.rf.7fd4340bfe5817100b53a2fe472a1edc.jpg: 2 duplicate labels removed\n",
      "\u001b[34m\u001b[1mtrain: \u001b[0mWARNING  C:\\Users\\MinKyu\\Desktop\\practice_data\\train\\images\\204_jpg.rf.8b95e16f9524cfe311513d375b5b256c.jpg: 2 duplicate labels removed\n",
      "\u001b[34m\u001b[1mtrain: \u001b[0mWARNING  C:\\Users\\MinKyu\\Desktop\\practice_data\\train\\images\\208_jpg.rf.33973ee90a7aa1c28b26d212d023daf5.jpg: 2 duplicate labels removed\n",
      "\u001b[34m\u001b[1mtrain: \u001b[0mWARNING  C:\\Users\\MinKyu\\Desktop\\practice_data\\train\\images\\208_jpg.rf.56b733692ecf72c2fc440af3ce4ee3ef.jpg: 2 duplicate labels removed\n",
      "\u001b[34m\u001b[1mtrain: \u001b[0mWARNING  C:\\Users\\MinKyu\\Desktop\\practice_data\\train\\images\\208_jpg.rf.9745c92cb8e52a5f82978ad82a8de7fc.jpg: 2 duplicate labels removed\n",
      "\u001b[34m\u001b[1mtrain: \u001b[0mWARNING  C:\\Users\\MinKyu\\Desktop\\practice_data\\train\\images\\208_jpg.rf.d504cb7d984f9c496cff5ca42dc32004.jpg: 2 duplicate labels removed\n",
      "\u001b[34m\u001b[1mtrain: \u001b[0mWARNING  C:\\Users\\MinKyu\\Desktop\\practice_data\\train\\images\\208_jpg.rf.fdbae1042ed99a337251ef785fc38932.jpg: 2 duplicate labels removed\n",
      "\u001b[34m\u001b[1mtrain: \u001b[0mWARNING  C:\\Users\\MinKyu\\Desktop\\practice_data\\train\\images\\20_jpg.rf.100fb72e603eb99fbd3b97df5c8ec8b5.jpg: 2 duplicate labels removed\n",
      "\u001b[34m\u001b[1mtrain: \u001b[0mWARNING  C:\\Users\\MinKyu\\Desktop\\practice_data\\train\\images\\20_jpg.rf.48f976ef937ec32f9ab42c058678bd45.jpg: 2 duplicate labels removed\n",
      "\u001b[34m\u001b[1mtrain: \u001b[0mWARNING  C:\\Users\\MinKyu\\Desktop\\practice_data\\train\\images\\20_jpg.rf.495e452bf478f9ad75d9777c825b33bd.jpg: 2 duplicate labels removed\n",
      "\u001b[34m\u001b[1mtrain: \u001b[0mWARNING  C:\\Users\\MinKyu\\Desktop\\practice_data\\train\\images\\20_jpg.rf.8e2b1aa9711c0ffc3e2c3ab54348bd11.jpg: 2 duplicate labels removed\n",
      "\u001b[34m\u001b[1mtrain: \u001b[0mWARNING  C:\\Users\\MinKyu\\Desktop\\practice_data\\train\\images\\20_jpg.rf.9b010e5fbdfb8b39e5a6f6a978fc433d.jpg: 2 duplicate labels removed\n",
      "\u001b[34m\u001b[1mtrain: \u001b[0mWARNING  C:\\Users\\MinKyu\\Desktop\\practice_data\\train\\images\\20_jpg.rf.b22d7a92ec58aa1faf60dbae10a698f9.jpg: 2 duplicate labels removed\n",
      "\u001b[34m\u001b[1mtrain: \u001b[0mWARNING  C:\\Users\\MinKyu\\Desktop\\practice_data\\train\\images\\20_jpg.rf.e8bbed6877fdf808711ff3563abd4ca7.jpg: 2 duplicate labels removed\n"
     ]
    },
    {
     "name": "stderr",
     "output_type": "stream",
     "text": [
      "\n",
      "\u001b[34m\u001b[1mval: \u001b[0mScanning C:\\Users\\MinKyu\\Desktop\\practice_data\\valid\\labels.cache... 1027 images, 0 backgrounds, 0 corrupt: 100%|█\u001b[0m"
     ]
    },
    {
     "name": "stdout",
     "output_type": "stream",
     "text": [
      "\u001b[34m\u001b[1mval: \u001b[0mWARNING  C:\\Users\\MinKyu\\Desktop\\practice_data\\valid\\images\\101_jpg.rf.0c79e60d76da39414a878e3c8eba93b6.jpg: 2 duplicate labels removed\n",
      "\u001b[34m\u001b[1mval: \u001b[0mWARNING  C:\\Users\\MinKyu\\Desktop\\practice_data\\valid\\images\\101_jpg.rf.a4e0cf4048b12af6de1cf704347633a8.jpg: 2 duplicate labels removed\n",
      "\u001b[34m\u001b[1mval: \u001b[0mWARNING  C:\\Users\\MinKyu\\Desktop\\practice_data\\valid\\images\\101_jpg.rf.e2d0f1219bacc6f23180499da22819f2.jpg: 2 duplicate labels removed\n",
      "\u001b[34m\u001b[1mval: \u001b[0mWARNING  C:\\Users\\MinKyu\\Desktop\\practice_data\\valid\\images\\104_jpg.rf.10e2d17c910a32c5d56684c8cb7f8d99.jpg: 2 duplicate labels removed\n",
      "\u001b[34m\u001b[1mval: \u001b[0mWARNING  C:\\Users\\MinKyu\\Desktop\\practice_data\\valid\\images\\107_jpg.rf.e77103317fcb9216e223bdb59bf1637c.jpg: 2 duplicate labels removed\n",
      "\u001b[34m\u001b[1mval: \u001b[0mWARNING  C:\\Users\\MinKyu\\Desktop\\practice_data\\valid\\images\\10_jpg.rf.32f43afbc6e7e6a64e279850c6481c16.jpg: 2 duplicate labels removed\n",
      "\u001b[34m\u001b[1mval: \u001b[0mWARNING  C:\\Users\\MinKyu\\Desktop\\practice_data\\valid\\images\\10_jpg.rf.712665aca3ab328efab722201dd92bad.jpg: 2 duplicate labels removed\n",
      "\u001b[34m\u001b[1mval: \u001b[0mWARNING  C:\\Users\\MinKyu\\Desktop\\practice_data\\valid\\images\\10_jpg.rf.7f92b55df121d3fb2bd1496a75d974db.jpg: 2 duplicate labels removed\n",
      "\u001b[34m\u001b[1mval: \u001b[0mWARNING  C:\\Users\\MinKyu\\Desktop\\practice_data\\valid\\images\\10_jpg.rf.c8e7fcb328464484365d5bb7587688e6.jpg: 2 duplicate labels removed\n",
      "\u001b[34m\u001b[1mval: \u001b[0mWARNING  C:\\Users\\MinKyu\\Desktop\\practice_data\\valid\\images\\10_jpg.rf.e9d9d5f593d004469bcabab509d6b29b.jpg: 2 duplicate labels removed\n",
      "\u001b[34m\u001b[1mval: \u001b[0mWARNING  C:\\Users\\MinKyu\\Desktop\\practice_data\\valid\\images\\110_jpg.rf.2a5306eed9c743b772f65ddc813a6e02.jpg: 2 duplicate labels removed\n",
      "\u001b[34m\u001b[1mval: \u001b[0mWARNING  C:\\Users\\MinKyu\\Desktop\\practice_data\\valid\\images\\110_jpg.rf.b90c55fc451c07ecaf7fb1481a0727eb.jpg: 2 duplicate labels removed\n",
      "\u001b[34m\u001b[1mval: \u001b[0mWARNING  C:\\Users\\MinKyu\\Desktop\\practice_data\\valid\\images\\114_jpg.rf.badf54003de075793b2a5512477b9b8c.jpg: 2 duplicate labels removed\n",
      "\u001b[34m\u001b[1mval: \u001b[0mWARNING  C:\\Users\\MinKyu\\Desktop\\practice_data\\valid\\images\\115_jpg.rf.2b715b9e733fbabae01a046c16b9e204.jpg: 2 duplicate labels removed\n",
      "\u001b[34m\u001b[1mval: \u001b[0mWARNING  C:\\Users\\MinKyu\\Desktop\\practice_data\\valid\\images\\118_jpg.rf.75799907304fb546b088d041cf1a283b.jpg: 2 duplicate labels removed\n",
      "\u001b[34m\u001b[1mval: \u001b[0mWARNING  C:\\Users\\MinKyu\\Desktop\\practice_data\\valid\\images\\118_jpg.rf.d0d73a11e52d272abb92aefc7e8e2a85.jpg: 2 duplicate labels removed\n",
      "\u001b[34m\u001b[1mval: \u001b[0mWARNING  C:\\Users\\MinKyu\\Desktop\\practice_data\\valid\\images\\118_jpg.rf.e3b987b60eb6e7a1c2bc941116abf917.jpg: 2 duplicate labels removed\n",
      "\u001b[34m\u001b[1mval: \u001b[0mWARNING  C:\\Users\\MinKyu\\Desktop\\practice_data\\valid\\images\\119_jpg.rf.2f51665346c91cd2ae3ae9568d217f5c.jpg: 2 duplicate labels removed\n",
      "\u001b[34m\u001b[1mval: \u001b[0mWARNING  C:\\Users\\MinKyu\\Desktop\\practice_data\\valid\\images\\119_jpg.rf.bd3e93df983e99f8fca07c63dfda6431.jpg: 2 duplicate labels removed\n",
      "\u001b[34m\u001b[1mval: \u001b[0mWARNING  C:\\Users\\MinKyu\\Desktop\\practice_data\\valid\\images\\11_jpg.rf.ca8205d4a4f2be6d2b373b365041e2eb.jpg: 2 duplicate labels removed\n",
      "\u001b[34m\u001b[1mval: \u001b[0mWARNING  C:\\Users\\MinKyu\\Desktop\\practice_data\\valid\\images\\11_jpg.rf.d34c7e4aefddbce8d92df9e64c9449d2.jpg: 2 duplicate labels removed\n",
      "\u001b[34m\u001b[1mval: \u001b[0mWARNING  C:\\Users\\MinKyu\\Desktop\\practice_data\\valid\\images\\120_jpg.rf.692c3c59f5b4966ad7770c958ebc8413.jpg: 2 duplicate labels removed\n",
      "\u001b[34m\u001b[1mval: \u001b[0mWARNING  C:\\Users\\MinKyu\\Desktop\\practice_data\\valid\\images\\120_jpg.rf.b83753da0855abcba1634813e698ef6d.jpg: 2 duplicate labels removed\n",
      "\u001b[34m\u001b[1mval: \u001b[0mWARNING  C:\\Users\\MinKyu\\Desktop\\practice_data\\valid\\images\\122_jpg.rf.fd12e0526c3fd7d8e525839d2b2fec15.jpg: 2 duplicate labels removed\n",
      "\u001b[34m\u001b[1mval: \u001b[0mWARNING  C:\\Users\\MinKyu\\Desktop\\practice_data\\valid\\images\\123_jpg.rf.4e217f6ef31e0cb6157a6b4ecca08509.jpg: 2 duplicate labels removed\n",
      "\u001b[34m\u001b[1mval: \u001b[0mWARNING  C:\\Users\\MinKyu\\Desktop\\practice_data\\valid\\images\\124_jpg.rf.24cb7d0a424b695ea29190b044c78deb.jpg: 2 duplicate labels removed\n",
      "\u001b[34m\u001b[1mval: \u001b[0mWARNING  C:\\Users\\MinKyu\\Desktop\\practice_data\\valid\\images\\125_jpg.rf.3e87d853046b165e6dbea7a164a26dda.jpg: 2 duplicate labels removed\n",
      "\u001b[34m\u001b[1mval: \u001b[0mWARNING  C:\\Users\\MinKyu\\Desktop\\practice_data\\valid\\images\\125_jpg.rf.b50ad992242d9894d32ca0ca6186a550.jpg: 2 duplicate labels removed\n",
      "\u001b[34m\u001b[1mval: \u001b[0mWARNING  C:\\Users\\MinKyu\\Desktop\\practice_data\\valid\\images\\127_jpg.rf.13058808e74f9a7a7cf42cca5f5e0b1a.jpg: 2 duplicate labels removed\n",
      "\u001b[34m\u001b[1mval: \u001b[0mWARNING  C:\\Users\\MinKyu\\Desktop\\practice_data\\valid\\images\\127_jpg.rf.fe4eb73b624d2bf04a5ad77c3397242b.jpg: 2 duplicate labels removed\n",
      "\u001b[34m\u001b[1mval: \u001b[0mWARNING  C:\\Users\\MinKyu\\Desktop\\practice_data\\valid\\images\\128_jpg.rf.07f859e494d36693e2f366e94ec8d3f0.jpg: 2 duplicate labels removed\n",
      "\u001b[34m\u001b[1mval: \u001b[0mWARNING  C:\\Users\\MinKyu\\Desktop\\practice_data\\valid\\images\\128_jpg.rf.121aeb2d174cc863cb85892a298cfb1c.jpg: 2 duplicate labels removed\n",
      "\u001b[34m\u001b[1mval: \u001b[0mWARNING  C:\\Users\\MinKyu\\Desktop\\practice_data\\valid\\images\\128_jpg.rf.279cfc2827ee42d326cf89e7fee98fd3.jpg: 2 duplicate labels removed\n",
      "\u001b[34m\u001b[1mval: \u001b[0mWARNING  C:\\Users\\MinKyu\\Desktop\\practice_data\\valid\\images\\129_jpg.rf.06f14fed4810e01a1115c3c68b27f4bd.jpg: 2 duplicate labels removed\n",
      "\u001b[34m\u001b[1mval: \u001b[0mWARNING  C:\\Users\\MinKyu\\Desktop\\practice_data\\valid\\images\\129_jpg.rf.d5bd4f681f551284782000356a8cce7b.jpg: 2 duplicate labels removed\n",
      "\u001b[34m\u001b[1mval: \u001b[0mWARNING  C:\\Users\\MinKyu\\Desktop\\practice_data\\valid\\images\\135_jpg.rf.48106a12ffcfa0e6cdb37cbb8fba57f9.jpg: 2 duplicate labels removed\n",
      "\u001b[34m\u001b[1mval: \u001b[0mWARNING  C:\\Users\\MinKyu\\Desktop\\practice_data\\valid\\images\\135_jpg.rf.4c3cb4ac86be42f66d24bef073f89f03.jpg: 2 duplicate labels removed\n",
      "\u001b[34m\u001b[1mval: \u001b[0mWARNING  C:\\Users\\MinKyu\\Desktop\\practice_data\\valid\\images\\135_jpg.rf.c032b913a5cf57dd3085a0d950ed0c81.jpg: 2 duplicate labels removed\n",
      "\u001b[34m\u001b[1mval: \u001b[0mWARNING  C:\\Users\\MinKyu\\Desktop\\practice_data\\valid\\images\\143_jpg.rf.731ca282e10dd46ca79547dcd545061b.jpg: 2 duplicate labels removed\n",
      "\u001b[34m\u001b[1mval: \u001b[0mWARNING  C:\\Users\\MinKyu\\Desktop\\practice_data\\valid\\images\\143_jpg.rf.a5e25743d8314d63aa9e3a06b64dd0a2.jpg: 2 duplicate labels removed\n",
      "\u001b[34m\u001b[1mval: \u001b[0mWARNING  C:\\Users\\MinKyu\\Desktop\\practice_data\\valid\\images\\143_jpg.rf.b54dcfa569d8a7158a9851cf91ce0ee4.jpg: 2 duplicate labels removed\n",
      "\u001b[34m\u001b[1mval: \u001b[0mWARNING  C:\\Users\\MinKyu\\Desktop\\practice_data\\valid\\images\\149_jpg.rf.3a0d2833976bfcf208ecdf01dc3d0a8b.jpg: 2 duplicate labels removed\n",
      "\u001b[34m\u001b[1mval: \u001b[0mWARNING  C:\\Users\\MinKyu\\Desktop\\practice_data\\valid\\images\\149_jpg.rf.a2cd868356e320de091f5a031b289792.jpg: 2 duplicate labels removed\n",
      "\u001b[34m\u001b[1mval: \u001b[0mWARNING  C:\\Users\\MinKyu\\Desktop\\practice_data\\valid\\images\\149_jpg.rf.d81a8a4b391b73f7caae59e6f31b7c71.jpg: 2 duplicate labels removed\n",
      "\u001b[34m\u001b[1mval: \u001b[0mWARNING  C:\\Users\\MinKyu\\Desktop\\practice_data\\valid\\images\\156_jpg.rf.49a97d758005ae61b684d5261530e5e3.jpg: 2 duplicate labels removed\n",
      "\u001b[34m\u001b[1mval: \u001b[0mWARNING  C:\\Users\\MinKyu\\Desktop\\practice_data\\valid\\images\\156_jpg.rf.865751f0c5b17aa0d6a6f5ef6c775e88.jpg: 2 duplicate labels removed\n",
      "\u001b[34m\u001b[1mval: \u001b[0mWARNING  C:\\Users\\MinKyu\\Desktop\\practice_data\\valid\\images\\159_jpg.rf.9383dbf2bc827f834e1f5098269fe413.jpg: 2 duplicate labels removed\n",
      "\u001b[34m\u001b[1mval: \u001b[0mWARNING  C:\\Users\\MinKyu\\Desktop\\practice_data\\valid\\images\\162_jpg.rf.f09c667c80d5fdfa20c7af301e0054f8.jpg: 2 duplicate labels removed\n",
      "\u001b[34m\u001b[1mval: \u001b[0mWARNING  C:\\Users\\MinKyu\\Desktop\\practice_data\\valid\\images\\16_jpg.rf.349a164c16b8bf6afeb00bdcabee12a4.jpg: 2 duplicate labels removed\n",
      "\u001b[34m\u001b[1mval: \u001b[0mWARNING  C:\\Users\\MinKyu\\Desktop\\practice_data\\valid\\images\\16_jpg.rf.5af3812d2f58e6d8f334c3c43aac487e.jpg: 2 duplicate labels removed\n",
      "\u001b[34m\u001b[1mval: \u001b[0mWARNING  C:\\Users\\MinKyu\\Desktop\\practice_data\\valid\\images\\172_jpg.rf.499f1bd439becc952f7e7d0dc95e3e8d.jpg: 2 duplicate labels removed\n",
      "\u001b[34m\u001b[1mval: \u001b[0mWARNING  C:\\Users\\MinKyu\\Desktop\\practice_data\\valid\\images\\172_jpg.rf.9eb4b0b3be27d8669c923f9f891204b3.jpg: 2 duplicate labels removed\n",
      "\u001b[34m\u001b[1mval: \u001b[0mWARNING  C:\\Users\\MinKyu\\Desktop\\practice_data\\valid\\images\\176_jpg.rf.4c38907f698820ddb7023b7509e7d2f6.jpg: 2 duplicate labels removed\n",
      "\u001b[34m\u001b[1mval: \u001b[0mWARNING  C:\\Users\\MinKyu\\Desktop\\practice_data\\valid\\images\\180_jpg.rf.b2763460b649bb59ce92028d44f0a7d2.jpg: 2 duplicate labels removed\n",
      "\u001b[34m\u001b[1mval: \u001b[0mWARNING  C:\\Users\\MinKyu\\Desktop\\practice_data\\valid\\images\\180_jpg.rf.c92f1c0c40a10b26e2fbb4000ba2ac07.jpg: 2 duplicate labels removed\n",
      "\u001b[34m\u001b[1mval: \u001b[0mWARNING  C:\\Users\\MinKyu\\Desktop\\practice_data\\valid\\images\\180_jpg.rf.dd04947f89c3efff210b3cac8fce1a03.jpg: 2 duplicate labels removed\n",
      "\u001b[34m\u001b[1mval: \u001b[0mWARNING  C:\\Users\\MinKyu\\Desktop\\practice_data\\valid\\images\\180_jpg.rf.ed2d2892505d4817a2bab6eb69a88e52.jpg: 2 duplicate labels removed\n",
      "\u001b[34m\u001b[1mval: \u001b[0mWARNING  C:\\Users\\MinKyu\\Desktop\\practice_data\\valid\\images\\183_jpg.rf.411cffcf458452a4ffc0fd0f70d1b5fa.jpg: 2 duplicate labels removed\n",
      "\u001b[34m\u001b[1mval: \u001b[0mWARNING  C:\\Users\\MinKyu\\Desktop\\practice_data\\valid\\images\\183_jpg.rf.5d2eef50223fc9e3b8184a4ccb35c13c.jpg: 2 duplicate labels removed\n",
      "\u001b[34m\u001b[1mval: \u001b[0mWARNING  C:\\Users\\MinKyu\\Desktop\\practice_data\\valid\\images\\183_jpg.rf.e93a52ca3d2fe434b83709663abe4a14.jpg: 2 duplicate labels removed\n",
      "\u001b[34m\u001b[1mval: \u001b[0mWARNING  C:\\Users\\MinKyu\\Desktop\\practice_data\\valid\\images\\188_jpg.rf.2a617b696f1995ecf74719665d1cd835.jpg: 2 duplicate labels removed\n",
      "\u001b[34m\u001b[1mval: \u001b[0mWARNING  C:\\Users\\MinKyu\\Desktop\\practice_data\\valid\\images\\188_jpg.rf.60083f0e1d2b0ec1e65c80b43f235482.jpg: 2 duplicate labels removed\n",
      "\u001b[34m\u001b[1mval: \u001b[0mWARNING  C:\\Users\\MinKyu\\Desktop\\practice_data\\valid\\images\\188_jpg.rf.e04bad6aa1d16f4c4069457f02fc8edb.jpg: 2 duplicate labels removed\n",
      "\u001b[34m\u001b[1mval: \u001b[0mWARNING  C:\\Users\\MinKyu\\Desktop\\practice_data\\valid\\images\\188_jpg.rf.f267d80671078cb1b0fdb9a85ea5a504.jpg: 2 duplicate labels removed\n",
      "\u001b[34m\u001b[1mval: \u001b[0mWARNING  C:\\Users\\MinKyu\\Desktop\\practice_data\\valid\\images\\18_jpg.rf.57cf4f388eba5ec8e95afcfda53108ab.jpg: 2 duplicate labels removed\n",
      "\u001b[34m\u001b[1mval: \u001b[0mWARNING  C:\\Users\\MinKyu\\Desktop\\practice_data\\valid\\images\\18_jpg.rf.ddd1c05810dc5c71f75d9f17a75a25a5.jpg: 2 duplicate labels removed\n",
      "\u001b[34m\u001b[1mval: \u001b[0mWARNING  C:\\Users\\MinKyu\\Desktop\\practice_data\\valid\\images\\18_jpg.rf.ee2c91bd679b3a3a758b6d9fa7be10c8.jpg: 2 duplicate labels removed\n",
      "\u001b[34m\u001b[1mval: \u001b[0mWARNING  C:\\Users\\MinKyu\\Desktop\\practice_data\\valid\\images\\192_jpg.rf.802a0b6fe0c1e8784c6b1ac92ef303a1.jpg: 2 duplicate labels removed\n",
      "\u001b[34m\u001b[1mval: \u001b[0mWARNING  C:\\Users\\MinKyu\\Desktop\\practice_data\\valid\\images\\197_jpg.rf.686f7bd0b15a0e2de9d3cc4a75d38ac1.jpg: 2 duplicate labels removed\n",
      "\u001b[34m\u001b[1mval: \u001b[0mWARNING  C:\\Users\\MinKyu\\Desktop\\practice_data\\valid\\images\\197_jpg.rf.ea320ca935b4677ecbc9fdd428e8737d.jpg: 2 duplicate labels removed\n",
      "\u001b[34m\u001b[1mval: \u001b[0mWARNING  C:\\Users\\MinKyu\\Desktop\\practice_data\\valid\\images\\19_jpg.rf.7c857882b9f606b32ec523154d574ead.jpg: 2 duplicate labels removed\n",
      "\u001b[34m\u001b[1mval: \u001b[0mWARNING  C:\\Users\\MinKyu\\Desktop\\practice_data\\valid\\images\\201_jpg.rf.3313b7ab6062215b9815b15bde4546d8.jpg: 2 duplicate labels removed\n",
      "\u001b[34m\u001b[1mval: \u001b[0mWARNING  C:\\Users\\MinKyu\\Desktop\\practice_data\\valid\\images\\201_jpg.rf.c1539b5a62e187558635c4c4103844fd.jpg: 2 duplicate labels removed\n",
      "\u001b[34m\u001b[1mval: \u001b[0mWARNING  C:\\Users\\MinKyu\\Desktop\\practice_data\\valid\\images\\203_jpg.rf.0156b7015739219374b782f386a1e155.jpg: 2 duplicate labels removed\n",
      "\u001b[34m\u001b[1mval: \u001b[0mWARNING  C:\\Users\\MinKyu\\Desktop\\practice_data\\valid\\images\\203_jpg.rf.1af1a9d7447485a0ace2d2fceec10e47.jpg: 2 duplicate labels removed\n",
      "\u001b[34m\u001b[1mval: \u001b[0mWARNING  C:\\Users\\MinKyu\\Desktop\\practice_data\\valid\\images\\203_jpg.rf.44edf6bb4c1494c8946e5697e2a20dc3.jpg: 2 duplicate labels removed\n",
      "\u001b[34m\u001b[1mval: \u001b[0mWARNING  C:\\Users\\MinKyu\\Desktop\\practice_data\\valid\\images\\203_jpg.rf.755babee15d33f7fe25527f72ce7a12a.jpg: 2 duplicate labels removed\n",
      "\u001b[34m\u001b[1mval: \u001b[0mWARNING  C:\\Users\\MinKyu\\Desktop\\practice_data\\valid\\images\\208_jpg.rf.48a3e3e3aab1b4592d177d921f7c5246.jpg: 2 duplicate labels removed\n",
      "\u001b[34m\u001b[1mval: \u001b[0mWARNING  C:\\Users\\MinKyu\\Desktop\\practice_data\\valid\\images\\20_jpg.rf.4c57afcc27f161229189453edc56d140.jpg: 2 duplicate labels removed\n",
      "\u001b[34m\u001b[1mval: \u001b[0mWARNING  C:\\Users\\MinKyu\\Desktop\\practice_data\\valid\\images\\20_jpg.rf.bab6d9fa304b5ba98dc3632d2e424683.jpg: 2 duplicate labels removed\n",
      "\u001b[34m\u001b[1mval: \u001b[0mWARNING  C:\\Users\\MinKyu\\Desktop\\practice_data\\valid\\images\\20_jpg.rf.e47de9aaf84d5cc49a77c6dd6614c33c.jpg: 2 duplicate labels removed\n"
     ]
    },
    {
     "name": "stderr",
     "output_type": "stream",
     "text": [
      "\n"
     ]
    },
    {
     "name": "stdout",
     "output_type": "stream",
     "text": [
      "Plotting labels to runs\\detect\\train19\\labels.jpg... \n",
      "\u001b[34m\u001b[1moptimizer:\u001b[0m 'optimizer=auto' found, ignoring 'lr0=0.01' and 'momentum=0.937' and determining best 'optimizer', 'lr0' and 'momentum' automatically... \n",
      "\u001b[34m\u001b[1moptimizer:\u001b[0m AdamW(lr=0.001667, momentum=0.9) with parameter groups 81 weight(decay=0.0), 88 weight(decay=0.0005), 87 bias(decay=0.0)\n",
      "\u001b[34m\u001b[1mTensorBoard: \u001b[0mmodel graph visualization added \n",
      "Image sizes 640 train, 640 val\n",
      "Using 0 dataloader workers\n",
      "Logging results to \u001b[1mruns\\detect\\train19\u001b[0m\n",
      "Starting training for 50 epochs...\n",
      "\n",
      "      Epoch    GPU_mem   box_loss   cls_loss   dfl_loss  Instances       Size\n"
     ]
    },
    {
     "name": "stderr",
     "output_type": "stream",
     "text": [
      "       1/50      1.29G     0.9613       2.12      1.331         24        640:  39%|███▉      | 188/476 [00:39<00:58,  "
     ]
    }
   ],
   "source": [
    "source = 'C:/Users/MinKyu/Desktop/practice_data/minkyu_face.yaml'\n",
    "result = model.train(\n",
    "    data=source,\n",
    "    epochs=50,\n",
    "    imgsz=640,\n",
    "    patience=10,\n",
    "    batch=8,\n",
    "    device=0,\n",
    "    workers = 0) \n"
   ]
  },
  {
   "cell_type": "code",
   "execution_count": 4,
   "metadata": {},
   "outputs": [
    {
     "name": "stdout",
     "output_type": "stream",
     "text": [
      "Classes:  {0: 'minkyu'}\n"
     ]
    }
   ],
   "source": [
    "print('Classes: ', model.names)"
   ]
  },
  {
   "cell_type": "markdown",
   "metadata": {
    "id": "UsxBhoAubn2u"
   },
   "source": [
    "#### (3) UltraLytics YOLO 추론"
   ]
  },
  {
   "cell_type": "markdown",
   "metadata": {
    "id": "wPtTHcnbbn2u"
   },
   "source": [
    "* **세부 요구사항**\n",
    "    - 학습이 완료되면 추론을 진행합니다.\n",
    "    - [UltraLytics YOLO 추론 명령어 링크](https://docs.ultralytics.com/modes/predict/)"
   ]
  },
  {
   "cell_type": "code",
   "execution_count": null,
   "metadata": {
    "id": "3ffQ725eGhC0"
   },
   "outputs": [],
   "source": [
    "metrics = model.val(data = source)"
   ]
  },
  {
   "cell_type": "markdown",
   "metadata": {
    "id": "2ytKJsOUGhC0"
   },
   "source": [
    "#### (4) UltraLytics YOLO 모델 저장"
   ]
  },
  {
   "cell_type": "markdown",
   "metadata": {
    "id": "VkC4WP-8cA7g"
   },
   "source": [
    "* **세부 요구사항**\n",
    "    - 모델을 **반드시** 저장하세요.\n",
    "    - .pt 형태로 Colab에 저장이 될 것입니다. 해당 파일을 **로컬에 다운로드** 하세요."
   ]
  },
  {
   "cell_type": "code",
   "execution_count": 7,
   "metadata": {
    "id": "tqGS418hRvMz"
   },
   "outputs": [],
   "source": [
    "model.save('C:/Users/MinKyu/Desktop/project4/yolo11s_detect_minkyu')"
   ]
  },
  {
   "cell_type": "code",
   "execution_count": null,
   "metadata": {},
   "outputs": [],
   "source": []
  }
 ],
 "metadata": {
  "accelerator": "GPU",
  "colab": {
   "gpuType": "T4",
   "provenance": [],
   "toc_visible": true
  },
  "kernelspec": {
   "display_name": "cv2",
   "language": "python",
   "name": "cv2"
  },
  "language_info": {
   "codemirror_mode": {
    "name": "ipython",
    "version": 3
   },
   "file_extension": ".py",
   "mimetype": "text/x-python",
   "name": "python",
   "nbconvert_exporter": "python",
   "pygments_lexer": "ipython3",
   "version": "3.8.20"
  }
 },
 "nbformat": 4,
 "nbformat_minor": 4
}
